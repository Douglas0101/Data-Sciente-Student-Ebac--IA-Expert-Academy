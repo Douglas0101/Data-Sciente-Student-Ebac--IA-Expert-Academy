{
 "nbformat": 4,
 "nbformat_minor": 0,
 "metadata": {
  "colab": {
   "provenance": []
  },
  "kernelspec": {
   "name": "python3",
   "display_name": "Python 3 (ipykernel)",
   "language": "python"
  }
 },
 "cells": [
  {
   "cell_type": "markdown",
   "metadata": {
    "id": "V8QjcFa6R5y2"
   },
   "source": [
    "# Manipulação de variáveis e constantes"
   ]
  },
  {
   "cell_type": "markdown",
   "metadata": {
    "id": "vpSo8ozVTLCo"
   },
   "source": [
    "## Variáveis e constantes\n",
    "\n",
    "- Por meio de variáveis que um algortimo “guarda” os dados do problema\n",
    "- Todo dado que tem a possibilidade de ser alterado no decorrer do tempo deverá ser tratado como uma variável\n",
    "- Quando um dado não tem nenhuma possibilidade de variar no decorrer do tempo, deverá ser tratado como constante\n",
    "\n",
    "Exemplo: calcular a área de um triângulo. Sabemos que a fórmula para o cálculo da área de um triângulo é BASE * ALTURA / 2. **Base** e **altura** são dados que irão variar no decorrer do “tempo de execução”. O número 2 da fórmula é um dado constante, pois sempre terá o mesmo valor\n",
    "\n",
    "## Tipo de variáveis\n",
    "\n",
    "- Inteiros: valores positivos ou negativos, que não possuem uma parte fracionária. Exemplos: 1, 30, 40, 12, -50\n",
    "- Float (real): valores positivos ou negativos, que podem possuir uma parte fracionária (também podem ser inteiros). Exemplos: 1.4, 6.7, 10.3, 100, -47\n",
    "- Caracteres (char ou string): qualquer elemento presente no teclado. Exemplos: “Maria”, “João”, ‘M’, ‘F’\n",
    "- Lógico (boleano): verdadeiro ou falso. Exemplos: true, false, 1, 0"
   ]
  },
  {
   "cell_type": "markdown",
   "metadata": {
    "id": "dJuQ83faR_Pc"
   },
   "source": [
    "## Variáveis inteiras"
   ]
  },
  {
   "cell_type": "code",
   "metadata": {
    "id": "AlNS5Ngsm_dB",
    "ExecuteTime": {
     "end_time": "2024-04-05T17:45:13.525102Z",
     "start_time": "2024-04-05T17:45:13.514699Z"
    }
   },
   "source": [
    "numero = -3\n",
    "numero_jogos = 14\n",
    "numero_convidados = 15"
   ],
   "outputs": [],
   "execution_count": 1
  },
  {
   "cell_type": "code",
   "metadata": {
    "id": "h11ASYEknOD1",
    "colab": {
     "base_uri": "https://localhost:8080/",
     "height": 34
    },
    "outputId": "09ccff4b-8abc-4412-e838-c1bfbd4ed70e",
    "ExecuteTime": {
     "end_time": "2024-04-05T17:45:13.548901Z",
     "start_time": "2024-04-05T17:45:13.540137Z"
    }
   },
   "source": [
    "numero"
   ],
   "outputs": [
    {
     "data": {
      "text/plain": [
       "-3"
      ]
     },
     "execution_count": 2,
     "metadata": {},
     "output_type": "execute_result"
    }
   ],
   "execution_count": 2
  },
  {
   "cell_type": "code",
   "metadata": {
    "id": "c8kmjtIinQNi",
    "colab": {
     "base_uri": "https://localhost:8080/",
     "height": 34
    },
    "outputId": "8492b50a-aa97-4e8f-d716-cfb81c7cef6c",
    "ExecuteTime": {
     "end_time": "2024-04-05T17:45:13.573673Z",
     "start_time": "2024-04-05T17:45:13.565861Z"
    }
   },
   "source": [
    "print(numero)"
   ],
   "outputs": [
    {
     "name": "stdout",
     "output_type": "stream",
     "text": [
      "-3\n"
     ]
    }
   ],
   "execution_count": 3
  },
  {
   "cell_type": "code",
   "metadata": {
    "id": "KP0Wt0yynY7b",
    "colab": {
     "base_uri": "https://localhost:8080/",
     "height": 34
    },
    "outputId": "485cae45-969d-48a3-f4e8-86be9db7c1e7",
    "ExecuteTime": {
     "end_time": "2024-04-05T17:45:13.636834Z",
     "start_time": "2024-04-05T17:45:13.622112Z"
    }
   },
   "source": [
    "print(numero, numero_convidados)"
   ],
   "outputs": [
    {
     "name": "stdout",
     "output_type": "stream",
     "text": [
      "-3 15\n"
     ]
    }
   ],
   "execution_count": 4
  },
  {
   "cell_type": "markdown",
   "metadata": {
    "id": "JhCsz7fBSQ8E"
   },
   "source": [
    "## Variáveis float (ponto flutuante)"
   ]
  },
  {
   "cell_type": "code",
   "metadata": {
    "id": "wNQq80punev_",
    "ExecuteTime": {
     "end_time": "2024-04-05T17:45:13.690636Z",
     "start_time": "2024-04-05T17:45:13.670315Z"
    }
   },
   "source": [
    "pi = 3.14\n",
    "numero_euler = 2.71\n",
    "escala_terremoto = -4.55"
   ],
   "outputs": [],
   "execution_count": 5
  },
  {
   "cell_type": "code",
   "metadata": {
    "id": "yusfNXQ2nmCv",
    "colab": {
     "base_uri": "https://localhost:8080/",
     "height": 67
    },
    "outputId": "99da22fc-eb8c-4e13-a8ee-7e1f2d699130",
    "ExecuteTime": {
     "end_time": "2024-04-05T17:45:13.755128Z",
     "start_time": "2024-04-05T17:45:13.749285Z"
    }
   },
   "source": [
    "print(pi)\n",
    "print(numero_euler)\n",
    "print(escala_terremoto)"
   ],
   "outputs": [
    {
     "name": "stdout",
     "output_type": "stream",
     "text": [
      "3.14\n",
      "2.71\n",
      "-4.55\n"
     ]
    }
   ],
   "execution_count": 6
  },
  {
   "cell_type": "markdown",
   "metadata": {
    "id": "fCiZKeOFSwig"
   },
   "source": [
    "## Strings e chars"
   ]
  },
  {
   "cell_type": "code",
   "metadata": {
    "id": "yvccp63ZnvEZ",
    "ExecuteTime": {
     "end_time": "2024-04-05T17:45:13.818058Z",
     "start_time": "2024-04-05T17:45:13.809218Z"
    }
   },
   "source": [
    "letra = 'a'\n",
    "palavra1 = 'linguagem de programação'\n",
    "palavra2 = 'Python'"
   ],
   "outputs": [],
   "execution_count": 7
  },
  {
   "cell_type": "code",
   "metadata": {
    "id": "AwZul8K-n3L-",
    "colab": {
     "base_uri": "https://localhost:8080/",
     "height": 34
    },
    "outputId": "dbb0fd0e-d82e-493a-91b7-0bab8f344335",
    "ExecuteTime": {
     "end_time": "2024-04-05T17:45:13.860239Z",
     "start_time": "2024-04-05T17:45:13.853887Z"
    }
   },
   "source": [
    "print(letra, palavra1)"
   ],
   "outputs": [
    {
     "name": "stdout",
     "output_type": "stream",
     "text": [
      "a linguagem de programação\n"
     ]
    }
   ],
   "execution_count": 8
  },
  {
   "cell_type": "code",
   "metadata": {
    "id": "DnEKLamYn7Vw",
    "colab": {
     "base_uri": "https://localhost:8080/",
     "height": 34
    },
    "outputId": "f64e92ce-b909-4bbf-9439-ecf5b7215768",
    "ExecuteTime": {
     "end_time": "2024-04-05T17:45:13.900423Z",
     "start_time": "2024-04-05T17:45:13.892001Z"
    }
   },
   "source": [
    "print('Estou aprendendo uma', palavra1)"
   ],
   "outputs": [
    {
     "name": "stdout",
     "output_type": "stream",
     "text": [
      "Estou aprendendo uma linguagem de programação\n"
     ]
    }
   ],
   "execution_count": 9
  },
  {
   "cell_type": "code",
   "metadata": {
    "id": "07uhcWXEoGHs",
    "colab": {
     "base_uri": "https://localhost:8080/",
     "height": 34
    },
    "outputId": "35a9e0b5-4fa0-4f7b-abeb-5c29c8c12c69",
    "ExecuteTime": {
     "end_time": "2024-04-05T17:45:14.000986Z",
     "start_time": "2024-04-05T17:45:13.985091Z"
    }
   },
   "source": [
    "print('Esta', palavra1, 'se chama', palavra2)"
   ],
   "outputs": [
    {
     "name": "stdout",
     "output_type": "stream",
     "text": [
      "Esta linguagem de programação se chama Python\n"
     ]
    }
   ],
   "execution_count": 10
  },
  {
   "cell_type": "code",
   "metadata": {
    "id": "QbO7XNY3oQKk",
    "colab": {
     "base_uri": "https://localhost:8080/",
     "height": 50
    },
    "outputId": "efaf6847-684f-4aa7-f9d3-482e65202fda",
    "ExecuteTime": {
     "end_time": "2024-04-05T17:45:22.492571Z",
     "start_time": "2024-04-05T17:45:14.024782Z"
    }
   },
   "source": [
    "idade = int(input('Digite sua idade:'))\n",
    "print('Sua idade é ', idade)"
   ],
   "outputs": [
    {
     "name": "stdout",
     "output_type": "stream",
     "text": [
      "Sua idade é  26\n"
     ]
    }
   ],
   "execution_count": 11
  },
  {
   "cell_type": "code",
   "metadata": {
    "id": "4Bmhcm_sogXZ",
    "colab": {
     "base_uri": "https://localhost:8080/",
     "height": 50
    },
    "outputId": "63336622-46d6-4314-adbd-4b0c709ba4a7",
    "ExecuteTime": {
     "end_time": "2024-04-05T17:45:27.501335Z",
     "start_time": "2024-04-05T17:45:22.497115Z"
    }
   },
   "source": [
    "pH = float(input('Qual o pH do solo durante a última medição?'))\n",
    "print('O pH medido foi ', pH)"
   ],
   "outputs": [
    {
     "name": "stdout",
     "output_type": "stream",
     "text": [
      "O pH medido foi  25.0\n"
     ]
    }
   ],
   "execution_count": 12
  },
  {
   "cell_type": "code",
   "metadata": {
    "id": "TWKEPsOHosFh",
    "colab": {
     "base_uri": "https://localhost:8080/",
     "height": 50
    },
    "outputId": "6b8e6a6c-6626-4624-8ca5-ddcaacca1d59",
    "ExecuteTime": {
     "end_time": "2024-04-05T17:45:31.834509Z",
     "start_time": "2024-04-05T17:45:27.505849Z"
    }
   },
   "source": [
    "nome = str(input('Qual o seu nome?'))\n",
    "print('Seu nome é', nome)"
   ],
   "outputs": [
    {
     "name": "stdout",
     "output_type": "stream",
     "text": [
      "Seu nome é Douglas\n"
     ]
    }
   ],
   "execution_count": 13
  },
  {
   "cell_type": "code",
   "metadata": {
    "id": "WS0kaS_jo5c2",
    "colab": {
     "base_uri": "https://localhost:8080/",
     "height": 34
    },
    "outputId": "705e3741-49c4-419f-9579-159f74f0cd87",
    "ExecuteTime": {
     "end_time": "2024-04-05T17:45:31.842207Z",
     "start_time": "2024-04-05T17:45:31.837057Z"
    }
   },
   "source": [
    "idade"
   ],
   "outputs": [
    {
     "data": {
      "text/plain": [
       "26"
      ]
     },
     "execution_count": 14,
     "metadata": {},
     "output_type": "execute_result"
    }
   ],
   "execution_count": 14
  }
 ]
}
