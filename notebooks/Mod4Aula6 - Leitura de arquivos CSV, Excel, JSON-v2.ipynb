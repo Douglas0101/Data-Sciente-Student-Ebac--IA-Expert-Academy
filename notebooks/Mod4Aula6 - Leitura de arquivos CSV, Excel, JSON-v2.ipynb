{
 "cells": [
  {
   "cell_type": "markdown",
   "metadata": {},
   "source": [
    "# Leitura de arquivos CSV, Excel, JSON"
   ]
  },
  {
   "cell_type": "markdown",
   "metadata": {},
   "source": [
    "# Lendo CSV"
   ]
  },
  {
   "cell_type": "markdown",
   "metadata": {},
   "source": [
    "## BNDESPar\n",
    "- https://pt.wikipedia.org/wiki/Banco_Nacional_de_Desenvolvimento_Econ%C3%B4mico_e_Social\n",
    "- https://pt.wikipedia.org/wiki/BNDESPAR\n",
    "- https://dados.gov.br/dataset/renda-variavel\n",
    "    - https://dadosabertos.bndes.gov.br/dataset/68a85772-df73-4c8b-8b8c-398f494fcca8/resource/10ff2d60-02d1-4619-8e42-24fc2a5927dd/download/renda-variavel-participacoes-acionarias-historico-da-carteira.csv\n",
    "- https://www.bndes.gov.br/wps/portal/site/home/transparencia/consulta-operacoes-bndes/carteira-acionaria"
   ]
  },
  {
   "cell_type": "code",
   "execution_count": 104,
   "metadata": {
    "ExecuteTime": {
     "end_time": "2024-02-05T22:58:23.875092100Z",
     "start_time": "2024-02-05T22:58:23.644645100Z"
    }
   },
   "outputs": [],
   "source": [
    "import pandas as pd"
   ]
  },
  {
   "cell_type": "code",
   "execution_count": 105,
   "metadata": {
    "scrolled": true,
    "ExecuteTime": {
     "end_time": "2024-02-05T22:58:24.413399800Z",
     "start_time": "2024-02-05T22:58:23.898063700Z"
    }
   },
   "outputs": [
    {
     "data": {
      "text/plain": "   sigla                                      razao_social  \\\n0  ABICO  ABICO - CIA. DE INVESTIMENTOS ÁRABE E BRASILEIRO   \n1  ABICO  ABICO - CIA. DE INVESTIMENTOS ÁRABE E BRASILEIRO   \n2  ABICO  ABICO - CIA. DE INVESTIMENTOS ÁRABE E BRASILEIRO   \n3  ABICO  ABICO - CIA. DE INVESTIMENTOS ÁRABE E BRASILEIRO   \n4  ABICO  ABICO - CIA. DE INVESTIMENTOS ÁRABE E BRASILEIRO   \n\n                 cnpj           tipo_de_ativo   ano setor_de_atividade  \\\n0  42.470.443/0001-96  PARTICIPAÇÃO ACIONÁRIA  2023     OUTROS SETORES   \n1  42.470.443/0001-96  PARTICIPAÇÃO ACIONÁRIA  2022     OUTROS SETORES   \n2  42.470.443/0001-96  PARTICIPAÇÃO ACIONÁRIA  2021     OUTROS SETORES   \n3  42.470.443/0001-96  PARTICIPAÇÃO ACIONÁRIA  2020     OUTROS SETORES   \n4  42.470.443/0001-96  PARTICIPAÇÃO ACIONÁRIA  2019     OUTROS SETORES   \n\n   total_pp  on_pp  pn_pp aberta_fechada acordo_de_acionistas_em_vigor  \\\n0      35.0   35.0    0.0        FECHADA                           NÃO   \n1      35.0   35.0    0.0        FECHADA                           NÃO   \n2      35.0   35.0    0.0        FECHADA                           NÃO   \n3      35.0   35.0    0.0        FECHADA                           NÃO   \n4      35.0   35.0    0.0        FECHADA                           NÃO   \n\n  indicado_para_conselho_de_administracao indicado_para_conselho_fiscal  \n0                                     NÃO                           NÃO  \n1                                     NÃO                           NÃO  \n2                                     NÃO                           NÃO  \n3                                     NÃO                           NÃO  \n4                                     NÃO                           NÃO  ",
      "text/html": "<div>\n<style scoped>\n    .dataframe tbody tr th:only-of-type {\n        vertical-align: middle;\n    }\n\n    .dataframe tbody tr th {\n        vertical-align: top;\n    }\n\n    .dataframe thead th {\n        text-align: right;\n    }\n</style>\n<table border=\"1\" class=\"dataframe\">\n  <thead>\n    <tr style=\"text-align: right;\">\n      <th></th>\n      <th>sigla</th>\n      <th>razao_social</th>\n      <th>cnpj</th>\n      <th>tipo_de_ativo</th>\n      <th>ano</th>\n      <th>setor_de_atividade</th>\n      <th>total_pp</th>\n      <th>on_pp</th>\n      <th>pn_pp</th>\n      <th>aberta_fechada</th>\n      <th>acordo_de_acionistas_em_vigor</th>\n      <th>indicado_para_conselho_de_administracao</th>\n      <th>indicado_para_conselho_fiscal</th>\n    </tr>\n  </thead>\n  <tbody>\n    <tr>\n      <th>0</th>\n      <td>ABICO</td>\n      <td>ABICO - CIA. DE INVESTIMENTOS ÁRABE E BRASILEIRO</td>\n      <td>42.470.443/0001-96</td>\n      <td>PARTICIPAÇÃO ACIONÁRIA</td>\n      <td>2023</td>\n      <td>OUTROS SETORES</td>\n      <td>35.0</td>\n      <td>35.0</td>\n      <td>0.0</td>\n      <td>FECHADA</td>\n      <td>NÃO</td>\n      <td>NÃO</td>\n      <td>NÃO</td>\n    </tr>\n    <tr>\n      <th>1</th>\n      <td>ABICO</td>\n      <td>ABICO - CIA. DE INVESTIMENTOS ÁRABE E BRASILEIRO</td>\n      <td>42.470.443/0001-96</td>\n      <td>PARTICIPAÇÃO ACIONÁRIA</td>\n      <td>2022</td>\n      <td>OUTROS SETORES</td>\n      <td>35.0</td>\n      <td>35.0</td>\n      <td>0.0</td>\n      <td>FECHADA</td>\n      <td>NÃO</td>\n      <td>NÃO</td>\n      <td>NÃO</td>\n    </tr>\n    <tr>\n      <th>2</th>\n      <td>ABICO</td>\n      <td>ABICO - CIA. DE INVESTIMENTOS ÁRABE E BRASILEIRO</td>\n      <td>42.470.443/0001-96</td>\n      <td>PARTICIPAÇÃO ACIONÁRIA</td>\n      <td>2021</td>\n      <td>OUTROS SETORES</td>\n      <td>35.0</td>\n      <td>35.0</td>\n      <td>0.0</td>\n      <td>FECHADA</td>\n      <td>NÃO</td>\n      <td>NÃO</td>\n      <td>NÃO</td>\n    </tr>\n    <tr>\n      <th>3</th>\n      <td>ABICO</td>\n      <td>ABICO - CIA. DE INVESTIMENTOS ÁRABE E BRASILEIRO</td>\n      <td>42.470.443/0001-96</td>\n      <td>PARTICIPAÇÃO ACIONÁRIA</td>\n      <td>2020</td>\n      <td>OUTROS SETORES</td>\n      <td>35.0</td>\n      <td>35.0</td>\n      <td>0.0</td>\n      <td>FECHADA</td>\n      <td>NÃO</td>\n      <td>NÃO</td>\n      <td>NÃO</td>\n    </tr>\n    <tr>\n      <th>4</th>\n      <td>ABICO</td>\n      <td>ABICO - CIA. DE INVESTIMENTOS ÁRABE E BRASILEIRO</td>\n      <td>42.470.443/0001-96</td>\n      <td>PARTICIPAÇÃO ACIONÁRIA</td>\n      <td>2019</td>\n      <td>OUTROS SETORES</td>\n      <td>35.0</td>\n      <td>35.0</td>\n      <td>0.0</td>\n      <td>FECHADA</td>\n      <td>NÃO</td>\n      <td>NÃO</td>\n      <td>NÃO</td>\n    </tr>\n  </tbody>\n</table>\n</div>"
     },
     "execution_count": 105,
     "metadata": {},
     "output_type": "execute_result"
    }
   ],
   "source": [
    "participacoes_acionarias = pd.read_csv(\n",
    "    'https://dadosabertos.bndes.gov.br/dataset/68a85772-df73-4c8b-8b8c-398f494fcca8/resource/10ff2d60-02d1-4619-8e42-24fc2a5927dd/download/renda-variavel-participacoes-acionarias-historico-da-carteira.csv',\n",
    "    sep=';',\n",
    "    decimal=',')\n",
    "participacoes_acionarias.head()"
   ]
  },
  {
   "cell_type": "code",
   "execution_count": 106,
   "metadata": {
    "ExecuteTime": {
     "end_time": "2024-02-05T22:58:24.543751500Z",
     "start_time": "2024-02-05T22:58:24.408140Z"
    }
   },
   "outputs": [
    {
     "name": "stdout",
     "output_type": "stream",
     "text": [
      "<class 'pandas.core.frame.DataFrame'>\n",
      "RangeIndex: 2213 entries, 0 to 2212\n",
      "Data columns (total 13 columns):\n",
      " #   Column                                   Non-Null Count  Dtype  \n",
      "---  ------                                   --------------  -----  \n",
      " 0   sigla                                    2213 non-null   object \n",
      " 1   razao_social                             2213 non-null   object \n",
      " 2   cnpj                                     2212 non-null   object \n",
      " 3   tipo_de_ativo                            2213 non-null   object \n",
      " 4   ano                                      2213 non-null   int64  \n",
      " 5   setor_de_atividade                       2209 non-null   object \n",
      " 6   total_pp                                 2190 non-null   float64\n",
      " 7   on_pp                                    2190 non-null   float64\n",
      " 8   pn_pp                                    2190 non-null   float64\n",
      " 9   aberta_fechada                           2212 non-null   object \n",
      " 10  acordo_de_acionistas_em_vigor            2213 non-null   object \n",
      " 11  indicado_para_conselho_de_administracao  2213 non-null   object \n",
      " 12  indicado_para_conselho_fiscal            2213 non-null   object \n",
      "dtypes: float64(3), int64(1), object(9)\n",
      "memory usage: 224.9+ KB\n"
     ]
    }
   ],
   "source": [
    "participacoes_acionarias.info()"
   ]
  },
  {
   "cell_type": "code",
   "execution_count": 106,
   "metadata": {
    "ExecuteTime": {
     "end_time": "2024-02-05T22:58:24.545755800Z",
     "start_time": "2024-02-05T22:58:24.455471100Z"
    }
   },
   "outputs": [],
   "source": []
  },
  {
   "cell_type": "markdown",
   "metadata": {},
   "source": [
    "### Qual a quantidade de participações em cada ano?"
   ]
  },
  {
   "cell_type": "code",
   "execution_count": 107,
   "metadata": {
    "ExecuteTime": {
     "end_time": "2024-02-05T22:58:24.668187600Z",
     "start_time": "2024-02-05T22:58:24.472594500Z"
    }
   },
   "outputs": [
    {
     "data": {
      "text/plain": "ano\n2011    172\n2009    158\n2012    157\n2013    155\n2010    154\n2008    145\n2007    143\n2014    133\n2006    130\n2015    125\n2016    124\n2017    108\n2018    101\n2019     87\n2020     87\n2021     83\n2023     76\n2022     75\nName: count, dtype: int64"
     },
     "execution_count": 107,
     "metadata": {},
     "output_type": "execute_result"
    }
   ],
   "source": [
    "participacoes_acionarias['ano'].value_counts()"
   ]
  },
  {
   "cell_type": "markdown",
   "metadata": {},
   "source": [
    "### Em quais empresas o BNDESP já teve participação?"
   ]
  },
  {
   "cell_type": "code",
   "execution_count": 108,
   "metadata": {
    "ExecuteTime": {
     "end_time": "2024-02-05T22:58:24.783346300Z",
     "start_time": "2024-02-05T22:58:24.512859Z"
    }
   },
   "outputs": [
    {
     "data": {
      "text/plain": "array(['ABICO', 'AÇOS VILLARES', 'AES BRASIL ENER', 'AES COMM RJ',\n       'AES ELPA', 'AES TE', 'AES TH', 'AES TIETÊ', 'AES TIETÊ ENERG',\n       'AES URUGUAIANA', 'ÁGUIA', 'ALCOOLQUÍMICA', 'ALFATEST', 'ALTUS',\n       'ALUPAR', 'AMATA', 'AMATA URBEM', 'AMBEV', 'AMERICANAS',\n       'AMERICEL', 'ARACRUZ', 'ARCELORMITTAL', 'AUTEL', 'BANCO DO BRASIL',\n       'BCPAR', 'BEMATECH', 'BERTIN', 'BIO FILL', 'BIOMM', 'BIONNOVATION',\n       'BLOCKBIT', 'BM&F BOVESPA', 'BNB', 'BOM GOSTO', 'BOMBRIL',\n       'BR MALLS', 'BRADESCO', 'BRADESPAR', 'BRASAGRO', 'BRASIL FOODS',\n       'BRASIL TEL PART', 'BRASILIANA PART', 'BRASILINTERPART', 'BRASKEM',\n       'BRASPÉROLA', 'BRICLOG', 'BRQ', 'CADAM', 'CARBOMIL', 'CASA ANGLO',\n       'CASAL', 'CBD', 'CBO HOLDING', 'CBPAK', 'CCR', 'CCX', 'CEAL',\n       'CEG', 'CEMIG', 'CEMIG DISTRIB.', 'CEMIG GT', 'CESP', 'CETIP S.A.',\n       'CHAPECÓ', 'CI&T', 'CIELO', 'CIMETAL', 'CIPHER', 'CLAMPER',\n       'CLARO', 'COMTEX', 'COMTRAFO', 'COPASA', 'COPEL', 'COSAN',\n       'COSAN LOG', 'COTEMINAS', 'CPFL ENERGIA', 'CRP CADERI', 'CRSEC',\n       'CSN', 'CTC', 'CTC/RJ', 'CTTU/RECIFE', 'CTX', 'CYRELA REALTY',\n       'DETEN', 'DIGITEL', 'EBP', 'ECORODOVIAS INF', 'ELEBRA',\n       'ELETROACRE', 'ELETROBRÁS', 'ELETROPAULO', 'ELETROPAULO TEL',\n       'EMAE', 'EMBRAER', 'EMBRATEL OPER.', 'EMBRATEL PART.', 'ENAUTA',\n       'ENB', 'ENERGISA', 'ENERGISA MT', 'ENEVA', 'ENGIE BRASIL',\n       'EQUATORIAL', 'ERB', 'FD ETF ICO2', 'FIAGRIL PART.', 'FIBRIA',\n       'FOTON', 'GAFISA', 'GENOA', 'GERDAU', 'GERDAU MET.', 'GOL',\n       'GRANBIO', 'GRANO', 'GRAÚNA', 'GRUPO A', 'HIDROVIAS',\n       'HIGH BRIDGE', 'HOSPITAL FÊMINA', 'HYPERA', 'IBEMA',\n       'IGUA SANEAMENTO', 'INDEPENDÊNCIA', 'INEPAR', 'INEPAR ENERGIA',\n       'IOCHPE', 'ITAITUBA', 'ITAÚ UNIBANCO', 'ITAUCORP', 'ITAÚSA',\n       'ITAUTINGA', 'IVESA', 'JBS', 'KEPLER WEBER', 'KLABIN', 'KLICK NET',\n       'KOBLITZ', 'KOSMOS', 'LATINA', 'LBR', 'LDC-BIOENERGIA', 'LDC-SEV',\n       'LIFEMED', 'LIGHT', 'LINX', 'LIQ. PART', 'LLX', 'LOG', 'LORENZ',\n       'LUPATECH', 'MADEF', 'MAGNESITA REFR.', 'MAGNESITA S.A.',\n       'MANGELS', 'MARCOPOLO', 'MARFRIG', 'MARLIM', 'MARLIMPAR',\n       'MECTRON', 'METALFRIO', 'METANOR', 'METRÔ/SP', 'MMX MINERAÇÃO',\n       'MOBIGROUP', 'MRV', 'MUNDIAL S.A.', 'MWI (ZUM NET)', 'NANOCORE',\n       'NATURA', 'NESBER', 'NET', 'NETUNO', 'NILZA', 'NORTEC',\n       'NOVA AMERICA', 'NOVADATA', 'NOVAMARLIMPAR', 'NUTRELLA',\n       'NUTRIPLANT', 'OCEANA', 'ODEBRECHT AGRO', 'OGP', 'OI',\n       'OPENCOMMERCE', 'ORBISAT', 'OTP', 'OURO FINO PAR',\n       'OURO FINO SAUDE', 'PADTEC', 'PADTEC HOLDING', 'PARANAPANEMA',\n       'PDG REALTY', 'PETROBRAS', 'POLY EASY', 'PORTX', 'PRATICA',\n       'PRÁTICA PAR', 'PROCABLE', 'PROGEN', 'PRONOR', 'QUALITY SOFT',\n       'RECEPTA', 'REDE ENERGIA', 'REDECARD', 'REIVAX', 'RELASTOMER',\n       'RENNER', 'RENOVA', 'RFFSA', 'RIOPOL', 'ROCHA', 'ROMI', 'ROOSTER',\n       'ROSSI', 'RUMO', 'RUMO LOGÍSTICA', 'SAM', 'SANTANDER',\n       'SÃO MARTINHO', 'SAPORE', 'SBCE', 'SETAL', 'SINQIA', 'SISA',\n       'SOROSISTEM', 'SOUZA CRUZ', 'SPRINGER', 'SPRINGS GLOBAL', 'STARA',\n       'SUNEW', 'SUZANO', 'TAESA', 'TAUM CHEMIE', 'TBM', 'TECNORED',\n       'TECPAR', 'TECSIS', 'TEIKON', 'TELEBRÁS', 'TELEFÔNICA BR',\n       'TELEMAR N LESTE', 'TELEMAR PART', 'TELEMIG CEL PAR',\n       'TELEMIG CELULAR', 'TIM PARTICIP.', 'TNLP (TELEMAR)', 'TOPSPORTS',\n       'TOTVS', 'TRANS. PAULISTA', 'TRANSNORDESTINA', 'TRANSURB',\n       'TREVISA', 'TRIUNFO', 'TUPY', 'UNITEC', 'USIMINAS', 'VALE',\n       'VALEPAR', 'VALLÉE', 'VBC ENERGIA', 'VICUNHA TÊXTIL', 'VIGOR',\n       'VIVO', 'VLI', 'VSE', 'VULCABRÁS', 'ZENVIA'], dtype=object)"
     },
     "execution_count": 108,
     "metadata": {},
     "output_type": "execute_result"
    }
   ],
   "source": [
    "participacoes_acionarias.sigla.unique()"
   ]
  },
  {
   "cell_type": "markdown",
   "metadata": {},
   "source": [
    "### Em quais empresas o BNDESP tem participação em 2021?"
   ]
  },
  {
   "cell_type": "code",
   "execution_count": 109,
   "metadata": {
    "ExecuteTime": {
     "end_time": "2024-02-05T22:58:24.900608Z",
     "start_time": "2024-02-05T22:58:24.617408800Z"
    }
   },
   "outputs": [
    {
     "data": {
      "text/plain": "array(['ABICO', 'AES BRASIL ENER', 'AES ELPA', 'ALCOOLQUÍMICA', 'AMATA',\n       'AMATA URBEM', 'BIOMM', 'BLOCKBIT', 'BOMBRIL', 'BRASAGRO',\n       'BRASILIANA PART', 'BRASILINTERPART', 'BRASPÉROLA', 'BRQ', 'CADAM',\n       'CARBOMIL', 'CASA ANGLO', 'CASAL', 'CEG', 'CEMIG', 'CHAPECÓ',\n       'COPASA', 'COPEL', 'COTEMINAS', 'CSN', 'CTC', 'CTC/RJ',\n       'CTTU/RECIFE', 'DETEN', 'EBP', 'ELEBRA', 'ELETROBRÁS', 'EMBRAER',\n       'ENERGISA', 'ENGIE BRASIL', 'ERB', 'GRANBIO', 'HIDROVIAS',\n       'IGUA SANEAMENTO', 'INDEPENDÊNCIA', 'IOCHPE', 'ITAITUBA',\n       'ITAUTINGA', 'JBS', 'KOSMOS', 'LBR', 'LIFEMED', 'LORENZ', 'MADEF',\n       'METANOR', 'METRÔ/SP', 'NESBER', 'NETUNO', 'NILZA', 'NOVA AMERICA',\n       'NOVADATA', 'OCEANA', 'OI', 'OTP', 'OURO FINO SAUDE',\n       'PADTEC HOLDING', 'PARANAPANEMA', 'PETROBRAS', 'PRATICA', 'PROGEN',\n       'QUALITY SOFT', 'RECEPTA', 'RENOVA', 'ROCHA', 'SAM', 'SPRINGER',\n       'SPRINGS GLOBAL', 'STARA', 'SUNEW', 'TAUM CHEMIE', 'TBM',\n       'TRANSNORDESTINA', 'TREVISA', 'TRIUNFO', 'TUPY', 'UNITEC', 'VLI',\n       'VULCABRÁS'], dtype=object)"
     },
     "execution_count": 109,
     "metadata": {},
     "output_type": "execute_result"
    }
   ],
   "source": [
    "participacoes_acionarias[participacoes_acionarias['ano'] == 2021].sigla.unique()"
   ]
  },
  {
   "cell_type": "code",
   "execution_count": 109,
   "metadata": {
    "ExecuteTime": {
     "end_time": "2024-02-05T22:58:24.902617800Z",
     "start_time": "2024-02-05T22:58:24.660012Z"
    }
   },
   "outputs": [],
   "source": []
  },
  {
   "cell_type": "code",
   "execution_count": 109,
   "metadata": {
    "ExecuteTime": {
     "end_time": "2024-02-05T22:58:24.917165900Z",
     "start_time": "2024-02-05T22:58:24.667685Z"
    }
   },
   "outputs": [],
   "source": []
  },
  {
   "cell_type": "markdown",
   "metadata": {},
   "source": [
    "# Lendo Excel"
   ]
  },
  {
   "cell_type": "markdown",
   "metadata": {},
   "source": [
    "\n",
    "## Brasileirão\n",
    "- https://github.com/adaoduque/Brasileirao_Dataset\n",
    "- https://github.com/adaoduque/Brasileirao_Dataset/raw/master/campeonato-brasileiro-full.xlsx\n",
    "- https://raw.githubusercontent.com/adaoduque/Brasileirao_Dataset/master/campeonato-brasileiro-estatisticas-full.csv"
   ]
  },
  {
   "cell_type": "code",
   "execution_count": 110,
   "metadata": {
    "ExecuteTime": {
     "end_time": "2024-02-05T22:58:24.917165900Z",
     "start_time": "2024-02-05T22:58:24.675194300Z"
    }
   },
   "outputs": [],
   "source": [
    "# o responsável pelo repositório arquivou o excel. Portanto basta usar a célula abaixo.\n",
    "# brasileirao = pd.read_excel('https://github.com/adaoduque/Brasileirao_Dataset/raw/master/campeonato-brasileiro-full.xlsx')"
   ]
  },
  {
   "cell_type": "code",
   "execution_count": 111,
   "metadata": {
    "ExecuteTime": {
     "end_time": "2024-02-05T22:58:27.327246500Z",
     "start_time": "2024-02-05T22:58:24.693404400Z"
    }
   },
   "outputs": [],
   "source": [
    "brasileirao = pd.read_excel('https://github.com/LucasSerra/EBAC-parte-1/raw/main/mod-4/input/campeonato-brasileiro-full.xlsx')"
   ]
  },
  {
   "cell_type": "code",
   "execution_count": 112,
   "metadata": {
    "scrolled": true,
    "ExecuteTime": {
     "end_time": "2024-02-05T22:58:27.363514500Z",
     "start_time": "2024-02-05T22:58:27.329246600Z"
    }
   },
   "outputs": [
    {
     "data": {
      "text/plain": "  Rodada       Data Horário      Dia     Mandante    Visitante    Vencedor  \\\n0      1 2000-07-29   16h00   Sábado   Fluminense        Bahia  Fluminense   \n1      1 2000-07-29   16h00   Sábado        Vasco        Sport       Sport   \n2      1 2000-07-29   16h00   Sábado      Vitória    Palmeiras     Vitória   \n3      1 2000-07-30   17h00  Domingo  Botafogo-RJ  Atlético-MG           -   \n4      1 2000-07-30   18h30  Domingo    Juventude     Flamengo           -   \n\n            Arena  Mandante Placar  Visitante Placar Estado Mandante  \\\n0        Maracanã                2                 0              RJ   \n1    São Januário                0                 2              RJ   \n2        Barradão                4                 1              ES   \n3    Caio Martins                0                 0              RJ   \n4  Alfredo Jaconi                1                 1              RS   \n\n  Estado Visitante Estado Vencedor  \n0               BA              RJ  \n1               PE              PE  \n2               SP              ES  \n3               MG               -  \n4               RJ               -  ",
      "text/html": "<div>\n<style scoped>\n    .dataframe tbody tr th:only-of-type {\n        vertical-align: middle;\n    }\n\n    .dataframe tbody tr th {\n        vertical-align: top;\n    }\n\n    .dataframe thead th {\n        text-align: right;\n    }\n</style>\n<table border=\"1\" class=\"dataframe\">\n  <thead>\n    <tr style=\"text-align: right;\">\n      <th></th>\n      <th>Rodada</th>\n      <th>Data</th>\n      <th>Horário</th>\n      <th>Dia</th>\n      <th>Mandante</th>\n      <th>Visitante</th>\n      <th>Vencedor</th>\n      <th>Arena</th>\n      <th>Mandante Placar</th>\n      <th>Visitante Placar</th>\n      <th>Estado Mandante</th>\n      <th>Estado Visitante</th>\n      <th>Estado Vencedor</th>\n    </tr>\n  </thead>\n  <tbody>\n    <tr>\n      <th>0</th>\n      <td>1</td>\n      <td>2000-07-29</td>\n      <td>16h00</td>\n      <td>Sábado</td>\n      <td>Fluminense</td>\n      <td>Bahia</td>\n      <td>Fluminense</td>\n      <td>Maracanã</td>\n      <td>2</td>\n      <td>0</td>\n      <td>RJ</td>\n      <td>BA</td>\n      <td>RJ</td>\n    </tr>\n    <tr>\n      <th>1</th>\n      <td>1</td>\n      <td>2000-07-29</td>\n      <td>16h00</td>\n      <td>Sábado</td>\n      <td>Vasco</td>\n      <td>Sport</td>\n      <td>Sport</td>\n      <td>São Januário</td>\n      <td>0</td>\n      <td>2</td>\n      <td>RJ</td>\n      <td>PE</td>\n      <td>PE</td>\n    </tr>\n    <tr>\n      <th>2</th>\n      <td>1</td>\n      <td>2000-07-29</td>\n      <td>16h00</td>\n      <td>Sábado</td>\n      <td>Vitória</td>\n      <td>Palmeiras</td>\n      <td>Vitória</td>\n      <td>Barradão</td>\n      <td>4</td>\n      <td>1</td>\n      <td>ES</td>\n      <td>SP</td>\n      <td>ES</td>\n    </tr>\n    <tr>\n      <th>3</th>\n      <td>1</td>\n      <td>2000-07-30</td>\n      <td>17h00</td>\n      <td>Domingo</td>\n      <td>Botafogo-RJ</td>\n      <td>Atlético-MG</td>\n      <td>-</td>\n      <td>Caio Martins</td>\n      <td>0</td>\n      <td>0</td>\n      <td>RJ</td>\n      <td>MG</td>\n      <td>-</td>\n    </tr>\n    <tr>\n      <th>4</th>\n      <td>1</td>\n      <td>2000-07-30</td>\n      <td>18h30</td>\n      <td>Domingo</td>\n      <td>Juventude</td>\n      <td>Flamengo</td>\n      <td>-</td>\n      <td>Alfredo Jaconi</td>\n      <td>1</td>\n      <td>1</td>\n      <td>RS</td>\n      <td>RJ</td>\n      <td>-</td>\n    </tr>\n  </tbody>\n</table>\n</div>"
     },
     "execution_count": 112,
     "metadata": {},
     "output_type": "execute_result"
    }
   ],
   "source": [
    "brasileirao.head()"
   ]
  },
  {
   "cell_type": "code",
   "execution_count": 113,
   "metadata": {
    "ExecuteTime": {
     "end_time": "2024-02-05T22:58:27.386328Z",
     "start_time": "2024-02-05T22:58:27.360511600Z"
    }
   },
   "outputs": [
    {
     "data": {
      "text/plain": "Rodada                      object\nData                datetime64[ns]\nHorário                     object\nDia                         object\nMandante                    object\nVisitante                   object\nVencedor                    object\nArena                       object\nMandante Placar              int64\nVisitante Placar             int64\nEstado Mandante             object\nEstado Visitante            object\nEstado Vencedor             object\ndtype: object"
     },
     "execution_count": 113,
     "metadata": {},
     "output_type": "execute_result"
    }
   ],
   "source": [
    "brasileirao.dtypes"
   ]
  },
  {
   "cell_type": "markdown",
   "metadata": {},
   "source": [
    "### Qual o maior vencedor de jogos?"
   ]
  },
  {
   "cell_type": "code",
   "execution_count": 114,
   "metadata": {
    "scrolled": true,
    "ExecuteTime": {
     "end_time": "2024-02-05T22:58:27.436150900Z",
     "start_time": "2024-02-05T22:58:27.379819500Z"
    }
   },
   "outputs": [
    {
     "data": {
      "text/plain": "Vencedor\n-                  2148\nSão Paulo           366\nSantos              333\nGrêmio              322\nInternacional       322\nCruzeiro            322\nFlamengo            319\nCorinthians         306\nAthlético-PR        306\nFluminense          306\nAtlético-MG         302\nPalmeiras           294\nVasco               226\nGoiás               223\nBotafogo-RJ         210\nCoritiba            194\nVitória             152\nFigueirense         151\nPonte Preta         149\nSport               139\nBahia               135\nParaná              104\nSão Caetano         103\nJuventude            96\nChapecoense          69\nGuarani              63\nFortaleza            61\nPortuguesa           57\nAvaí                 57\nCeará                54\nNáutico              54\nAtlético-GO          51\nCriciúma             50\nPaysandu             50\nAmérica-MG           38\nBotafogo-rj          26\nSanta Cruz           25\nGama                 21\nBragantino           13\nBarueri              12\nSanto André          11\nBrasiliense          10\nIpatinga              9\nCSA                   8\nGrêmio Prudente       7\nJoinville             7\nSANTOS                6\nBotafogo-SP           6\nCRUZEIRO              4\nVASCO                 4\nFLUMINENSE            4\nAmérica-RN            4\nCORINTHIANS           3\nSPORT                 2\nFLAMENGO              1\nPONTE PRETA           1\nINTERNACIONAL         1\nPALMEIRAS             1\nportuguesa            1\nName: count, dtype: int64"
     },
     "execution_count": 114,
     "metadata": {},
     "output_type": "execute_result"
    }
   ],
   "source": [
    "brasileirao.Vencedor.value_counts()"
   ]
  },
  {
   "cell_type": "markdown",
   "metadata": {},
   "source": [
    "### Qual a tabela de jogos vencidos por clube na temporada de 2020? \n",
    "(periodo temp = '2020-01-01' a '2021-02-26')"
   ]
  },
  {
   "cell_type": "code",
   "execution_count": 115,
   "metadata": {
    "ExecuteTime": {
     "end_time": "2024-02-05T22:58:27.470527400Z",
     "start_time": "2024-02-05T22:58:27.396329400Z"
    }
   },
   "outputs": [
    {
     "data": {
      "text/plain": "0       False\n1       False\n2       False\n3       False\n4       False\n        ...  \n8314     True\n8315     True\n8316     True\n8317     True\n8318     True\nName: Data, Length: 8319, dtype: bool"
     },
     "execution_count": 115,
     "metadata": {},
     "output_type": "execute_result"
    }
   ],
   "source": [
    "cond = (brasileirao['Data'] >= '2020-01-01')& (brasileirao['Data'] <= '2021-02-26')\n",
    "cond"
   ]
  },
  {
   "cell_type": "code",
   "execution_count": 116,
   "metadata": {
    "ExecuteTime": {
     "end_time": "2024-02-05T22:58:27.531968400Z",
     "start_time": "2024-02-05T22:58:27.412860800Z"
    }
   },
   "outputs": [
    {
     "data": {
      "text/plain": "Vencedor\n-                108\nFlamengo          21\nAtlético-MG       20\nInternacional     20\nSão Paulo         18\nFluminense        18\nPalmeiras         15\nAthlético-PR      15\nGrêmio            14\nSantos            14\nCeará             14\nBragantino        13\nCorinthians       13\nAtlético-GO       12\nBahia             12\nSport             12\nVasco             10\nFortaleza         10\nGoiás              9\nCoritiba           7\nBotafogo-RJ        5\nName: count, dtype: int64"
     },
     "execution_count": 116,
     "metadata": {},
     "output_type": "execute_result"
    }
   ],
   "source": [
    "brasileirao[cond]['Vencedor'].value_counts()"
   ]
  },
  {
   "cell_type": "markdown",
   "metadata": {},
   "source": [
    "### Qual a quantidade de partidas realizadas em cada estádio?"
   ]
  },
  {
   "cell_type": "code",
   "execution_count": 117,
   "metadata": {
    "ExecuteTime": {
     "end_time": "2024-02-05T22:58:27.533993300Z",
     "start_time": "2024-02-05T22:58:27.429641800Z"
    }
   },
   "outputs": [
    {
     "data": {
      "text/plain": "Arena\nMaracanã             626\nMineirão             466\nMorumbi              407\nBeira Rio            352\nVila Belmiro         340\n                    ... \nRomildo Ferreira       1\nVivaldo Lima           1\nPedro Pedrossian       1\nAntônio Guimarães      1\nPlácido Castelo        1\nName: count, Length: 114, dtype: int64"
     },
     "execution_count": 117,
     "metadata": {},
     "output_type": "execute_result"
    }
   ],
   "source": [
    "brasileirao.Arena.value_counts()"
   ]
  },
  {
   "cell_type": "code",
   "outputs": [],
   "source": [],
   "metadata": {
    "collapsed": false,
    "ExecuteTime": {
     "end_time": "2024-02-05T22:58:27.563027600Z",
     "start_time": "2024-02-05T22:58:27.443834400Z"
    }
   },
   "execution_count": 117
  },
  {
   "cell_type": "markdown",
   "metadata": {},
   "source": [
    "# Lendo JSON"
   ]
  },
  {
   "cell_type": "markdown",
   "metadata": {},
   "source": [
    "## MeiliSearch\n",
    "- https://github.com/meilisearch/MeiliSearch\n",
    "- https://raw.githubusercontent.com/meilisearch/MeiliSearch/main/datasets/movies/movies.json"
   ]
  },
  {
   "cell_type": "code",
   "execution_count": 118,
   "metadata": {
    "ExecuteTime": {
     "end_time": "2024-02-05T22:58:28.337029200Z",
     "start_time": "2024-02-05T22:58:27.451837100Z"
    }
   },
   "outputs": [
    {
     "ename": "HTTPError",
     "evalue": "HTTP Error 404: Not Found",
     "output_type": "error",
     "traceback": [
      "\u001B[1;31m---------------------------------------------------------------------------\u001B[0m",
      "\u001B[1;31mHTTPError\u001B[0m                                 Traceback (most recent call last)",
      "Cell \u001B[1;32mIn[118], line 1\u001B[0m\n\u001B[1;32m----> 1\u001B[0m movies \u001B[38;5;241m=\u001B[39m pd\u001B[38;5;241m.\u001B[39mread_json(\u001B[38;5;124m'\u001B[39m\u001B[38;5;124mhttps://raw.githubusercontent.com/meilisearch/MeiliSearch/main/datasets/movies/movies.json\u001B[39m\u001B[38;5;124m'\u001B[39m)\n",
      "File \u001B[1;32mC:\\ProgramData\\anaconda3\\Lib\\site-packages\\pandas\\io\\json\\_json.py:780\u001B[0m, in \u001B[0;36mread_json\u001B[1;34m(path_or_buf, orient, typ, dtype, convert_axes, convert_dates, keep_default_dates, precise_float, date_unit, encoding, encoding_errors, lines, chunksize, compression, nrows, storage_options, dtype_backend, engine)\u001B[0m\n\u001B[0;32m    777\u001B[0m \u001B[38;5;28;01mif\u001B[39;00m convert_axes \u001B[38;5;129;01mis\u001B[39;00m \u001B[38;5;28;01mNone\u001B[39;00m \u001B[38;5;129;01mand\u001B[39;00m orient \u001B[38;5;241m!=\u001B[39m \u001B[38;5;124m\"\u001B[39m\u001B[38;5;124mtable\u001B[39m\u001B[38;5;124m\"\u001B[39m:\n\u001B[0;32m    778\u001B[0m     convert_axes \u001B[38;5;241m=\u001B[39m \u001B[38;5;28;01mTrue\u001B[39;00m\n\u001B[1;32m--> 780\u001B[0m json_reader \u001B[38;5;241m=\u001B[39m JsonReader(\n\u001B[0;32m    781\u001B[0m     path_or_buf,\n\u001B[0;32m    782\u001B[0m     orient\u001B[38;5;241m=\u001B[39morient,\n\u001B[0;32m    783\u001B[0m     typ\u001B[38;5;241m=\u001B[39mtyp,\n\u001B[0;32m    784\u001B[0m     dtype\u001B[38;5;241m=\u001B[39mdtype,\n\u001B[0;32m    785\u001B[0m     convert_axes\u001B[38;5;241m=\u001B[39mconvert_axes,\n\u001B[0;32m    786\u001B[0m     convert_dates\u001B[38;5;241m=\u001B[39mconvert_dates,\n\u001B[0;32m    787\u001B[0m     keep_default_dates\u001B[38;5;241m=\u001B[39mkeep_default_dates,\n\u001B[0;32m    788\u001B[0m     precise_float\u001B[38;5;241m=\u001B[39mprecise_float,\n\u001B[0;32m    789\u001B[0m     date_unit\u001B[38;5;241m=\u001B[39mdate_unit,\n\u001B[0;32m    790\u001B[0m     encoding\u001B[38;5;241m=\u001B[39mencoding,\n\u001B[0;32m    791\u001B[0m     lines\u001B[38;5;241m=\u001B[39mlines,\n\u001B[0;32m    792\u001B[0m     chunksize\u001B[38;5;241m=\u001B[39mchunksize,\n\u001B[0;32m    793\u001B[0m     compression\u001B[38;5;241m=\u001B[39mcompression,\n\u001B[0;32m    794\u001B[0m     nrows\u001B[38;5;241m=\u001B[39mnrows,\n\u001B[0;32m    795\u001B[0m     storage_options\u001B[38;5;241m=\u001B[39mstorage_options,\n\u001B[0;32m    796\u001B[0m     encoding_errors\u001B[38;5;241m=\u001B[39mencoding_errors,\n\u001B[0;32m    797\u001B[0m     dtype_backend\u001B[38;5;241m=\u001B[39mdtype_backend,\n\u001B[0;32m    798\u001B[0m     engine\u001B[38;5;241m=\u001B[39mengine,\n\u001B[0;32m    799\u001B[0m )\n\u001B[0;32m    801\u001B[0m \u001B[38;5;28;01mif\u001B[39;00m chunksize:\n\u001B[0;32m    802\u001B[0m     \u001B[38;5;28;01mreturn\u001B[39;00m json_reader\n",
      "File \u001B[1;32mC:\\ProgramData\\anaconda3\\Lib\\site-packages\\pandas\\io\\json\\_json.py:893\u001B[0m, in \u001B[0;36mJsonReader.__init__\u001B[1;34m(self, filepath_or_buffer, orient, typ, dtype, convert_axes, convert_dates, keep_default_dates, precise_float, date_unit, encoding, lines, chunksize, compression, nrows, storage_options, encoding_errors, dtype_backend, engine)\u001B[0m\n\u001B[0;32m    891\u001B[0m     \u001B[38;5;28mself\u001B[39m\u001B[38;5;241m.\u001B[39mdata \u001B[38;5;241m=\u001B[39m filepath_or_buffer\n\u001B[0;32m    892\u001B[0m \u001B[38;5;28;01melif\u001B[39;00m \u001B[38;5;28mself\u001B[39m\u001B[38;5;241m.\u001B[39mengine \u001B[38;5;241m==\u001B[39m \u001B[38;5;124m\"\u001B[39m\u001B[38;5;124mujson\u001B[39m\u001B[38;5;124m\"\u001B[39m:\n\u001B[1;32m--> 893\u001B[0m     data \u001B[38;5;241m=\u001B[39m \u001B[38;5;28mself\u001B[39m\u001B[38;5;241m.\u001B[39m_get_data_from_filepath(filepath_or_buffer)\n\u001B[0;32m    894\u001B[0m     \u001B[38;5;28mself\u001B[39m\u001B[38;5;241m.\u001B[39mdata \u001B[38;5;241m=\u001B[39m \u001B[38;5;28mself\u001B[39m\u001B[38;5;241m.\u001B[39m_preprocess_data(data)\n",
      "File \u001B[1;32mC:\\ProgramData\\anaconda3\\Lib\\site-packages\\pandas\\io\\json\\_json.py:933\u001B[0m, in \u001B[0;36mJsonReader._get_data_from_filepath\u001B[1;34m(self, filepath_or_buffer)\u001B[0m\n\u001B[0;32m    926\u001B[0m filepath_or_buffer \u001B[38;5;241m=\u001B[39m stringify_path(filepath_or_buffer)\n\u001B[0;32m    927\u001B[0m \u001B[38;5;28;01mif\u001B[39;00m (\n\u001B[0;32m    928\u001B[0m     \u001B[38;5;129;01mnot\u001B[39;00m \u001B[38;5;28misinstance\u001B[39m(filepath_or_buffer, \u001B[38;5;28mstr\u001B[39m)\n\u001B[0;32m    929\u001B[0m     \u001B[38;5;129;01mor\u001B[39;00m is_url(filepath_or_buffer)\n\u001B[0;32m    930\u001B[0m     \u001B[38;5;129;01mor\u001B[39;00m is_fsspec_url(filepath_or_buffer)\n\u001B[0;32m    931\u001B[0m     \u001B[38;5;129;01mor\u001B[39;00m file_exists(filepath_or_buffer)\n\u001B[0;32m    932\u001B[0m ):\n\u001B[1;32m--> 933\u001B[0m     \u001B[38;5;28mself\u001B[39m\u001B[38;5;241m.\u001B[39mhandles \u001B[38;5;241m=\u001B[39m get_handle(\n\u001B[0;32m    934\u001B[0m         filepath_or_buffer,\n\u001B[0;32m    935\u001B[0m         \u001B[38;5;124m\"\u001B[39m\u001B[38;5;124mr\u001B[39m\u001B[38;5;124m\"\u001B[39m,\n\u001B[0;32m    936\u001B[0m         encoding\u001B[38;5;241m=\u001B[39m\u001B[38;5;28mself\u001B[39m\u001B[38;5;241m.\u001B[39mencoding,\n\u001B[0;32m    937\u001B[0m         compression\u001B[38;5;241m=\u001B[39m\u001B[38;5;28mself\u001B[39m\u001B[38;5;241m.\u001B[39mcompression,\n\u001B[0;32m    938\u001B[0m         storage_options\u001B[38;5;241m=\u001B[39m\u001B[38;5;28mself\u001B[39m\u001B[38;5;241m.\u001B[39mstorage_options,\n\u001B[0;32m    939\u001B[0m         errors\u001B[38;5;241m=\u001B[39m\u001B[38;5;28mself\u001B[39m\u001B[38;5;241m.\u001B[39mencoding_errors,\n\u001B[0;32m    940\u001B[0m     )\n\u001B[0;32m    941\u001B[0m     filepath_or_buffer \u001B[38;5;241m=\u001B[39m \u001B[38;5;28mself\u001B[39m\u001B[38;5;241m.\u001B[39mhandles\u001B[38;5;241m.\u001B[39mhandle\n\u001B[0;32m    942\u001B[0m \u001B[38;5;28;01melif\u001B[39;00m (\n\u001B[0;32m    943\u001B[0m     \u001B[38;5;28misinstance\u001B[39m(filepath_or_buffer, \u001B[38;5;28mstr\u001B[39m)\n\u001B[0;32m    944\u001B[0m     \u001B[38;5;129;01mand\u001B[39;00m filepath_or_buffer\u001B[38;5;241m.\u001B[39mlower()\u001B[38;5;241m.\u001B[39mendswith(\n\u001B[1;32m   (...)\u001B[0m\n\u001B[0;32m    947\u001B[0m     \u001B[38;5;129;01mand\u001B[39;00m \u001B[38;5;129;01mnot\u001B[39;00m file_exists(filepath_or_buffer)\n\u001B[0;32m    948\u001B[0m ):\n",
      "File \u001B[1;32mC:\\ProgramData\\anaconda3\\Lib\\site-packages\\pandas\\io\\common.py:718\u001B[0m, in \u001B[0;36mget_handle\u001B[1;34m(path_or_buf, mode, encoding, compression, memory_map, is_text, errors, storage_options)\u001B[0m\n\u001B[0;32m    715\u001B[0m     codecs\u001B[38;5;241m.\u001B[39mlookup_error(errors)\n\u001B[0;32m    717\u001B[0m \u001B[38;5;66;03m# open URLs\u001B[39;00m\n\u001B[1;32m--> 718\u001B[0m ioargs \u001B[38;5;241m=\u001B[39m _get_filepath_or_buffer(\n\u001B[0;32m    719\u001B[0m     path_or_buf,\n\u001B[0;32m    720\u001B[0m     encoding\u001B[38;5;241m=\u001B[39mencoding,\n\u001B[0;32m    721\u001B[0m     compression\u001B[38;5;241m=\u001B[39mcompression,\n\u001B[0;32m    722\u001B[0m     mode\u001B[38;5;241m=\u001B[39mmode,\n\u001B[0;32m    723\u001B[0m     storage_options\u001B[38;5;241m=\u001B[39mstorage_options,\n\u001B[0;32m    724\u001B[0m )\n\u001B[0;32m    726\u001B[0m handle \u001B[38;5;241m=\u001B[39m ioargs\u001B[38;5;241m.\u001B[39mfilepath_or_buffer\n\u001B[0;32m    727\u001B[0m handles: \u001B[38;5;28mlist\u001B[39m[BaseBuffer]\n",
      "File \u001B[1;32mC:\\ProgramData\\anaconda3\\Lib\\site-packages\\pandas\\io\\common.py:372\u001B[0m, in \u001B[0;36m_get_filepath_or_buffer\u001B[1;34m(filepath_or_buffer, encoding, compression, mode, storage_options)\u001B[0m\n\u001B[0;32m    370\u001B[0m \u001B[38;5;66;03m# assuming storage_options is to be interpreted as headers\u001B[39;00m\n\u001B[0;32m    371\u001B[0m req_info \u001B[38;5;241m=\u001B[39m urllib\u001B[38;5;241m.\u001B[39mrequest\u001B[38;5;241m.\u001B[39mRequest(filepath_or_buffer, headers\u001B[38;5;241m=\u001B[39mstorage_options)\n\u001B[1;32m--> 372\u001B[0m \u001B[38;5;28;01mwith\u001B[39;00m urlopen(req_info) \u001B[38;5;28;01mas\u001B[39;00m req:\n\u001B[0;32m    373\u001B[0m     content_encoding \u001B[38;5;241m=\u001B[39m req\u001B[38;5;241m.\u001B[39mheaders\u001B[38;5;241m.\u001B[39mget(\u001B[38;5;124m\"\u001B[39m\u001B[38;5;124mContent-Encoding\u001B[39m\u001B[38;5;124m\"\u001B[39m, \u001B[38;5;28;01mNone\u001B[39;00m)\n\u001B[0;32m    374\u001B[0m     \u001B[38;5;28;01mif\u001B[39;00m content_encoding \u001B[38;5;241m==\u001B[39m \u001B[38;5;124m\"\u001B[39m\u001B[38;5;124mgzip\u001B[39m\u001B[38;5;124m\"\u001B[39m:\n\u001B[0;32m    375\u001B[0m         \u001B[38;5;66;03m# Override compression based on Content-Encoding header\u001B[39;00m\n",
      "File \u001B[1;32mC:\\ProgramData\\anaconda3\\Lib\\site-packages\\pandas\\io\\common.py:274\u001B[0m, in \u001B[0;36murlopen\u001B[1;34m(*args, **kwargs)\u001B[0m\n\u001B[0;32m    268\u001B[0m \u001B[38;5;250m\u001B[39m\u001B[38;5;124;03m\"\"\"\u001B[39;00m\n\u001B[0;32m    269\u001B[0m \u001B[38;5;124;03mLazy-import wrapper for stdlib urlopen, as that imports a big chunk of\u001B[39;00m\n\u001B[0;32m    270\u001B[0m \u001B[38;5;124;03mthe stdlib.\u001B[39;00m\n\u001B[0;32m    271\u001B[0m \u001B[38;5;124;03m\"\"\"\u001B[39;00m\n\u001B[0;32m    272\u001B[0m \u001B[38;5;28;01mimport\u001B[39;00m \u001B[38;5;21;01murllib\u001B[39;00m\u001B[38;5;21;01m.\u001B[39;00m\u001B[38;5;21;01mrequest\u001B[39;00m\n\u001B[1;32m--> 274\u001B[0m \u001B[38;5;28;01mreturn\u001B[39;00m urllib\u001B[38;5;241m.\u001B[39mrequest\u001B[38;5;241m.\u001B[39murlopen(\u001B[38;5;241m*\u001B[39margs, \u001B[38;5;241m*\u001B[39m\u001B[38;5;241m*\u001B[39mkwargs)\n",
      "File \u001B[1;32mC:\\ProgramData\\anaconda3\\Lib\\urllib\\request.py:216\u001B[0m, in \u001B[0;36murlopen\u001B[1;34m(url, data, timeout, cafile, capath, cadefault, context)\u001B[0m\n\u001B[0;32m    214\u001B[0m \u001B[38;5;28;01melse\u001B[39;00m:\n\u001B[0;32m    215\u001B[0m     opener \u001B[38;5;241m=\u001B[39m _opener\n\u001B[1;32m--> 216\u001B[0m \u001B[38;5;28;01mreturn\u001B[39;00m opener\u001B[38;5;241m.\u001B[39mopen(url, data, timeout)\n",
      "File \u001B[1;32mC:\\ProgramData\\anaconda3\\Lib\\urllib\\request.py:525\u001B[0m, in \u001B[0;36mOpenerDirector.open\u001B[1;34m(self, fullurl, data, timeout)\u001B[0m\n\u001B[0;32m    523\u001B[0m \u001B[38;5;28;01mfor\u001B[39;00m processor \u001B[38;5;129;01min\u001B[39;00m \u001B[38;5;28mself\u001B[39m\u001B[38;5;241m.\u001B[39mprocess_response\u001B[38;5;241m.\u001B[39mget(protocol, []):\n\u001B[0;32m    524\u001B[0m     meth \u001B[38;5;241m=\u001B[39m \u001B[38;5;28mgetattr\u001B[39m(processor, meth_name)\n\u001B[1;32m--> 525\u001B[0m     response \u001B[38;5;241m=\u001B[39m meth(req, response)\n\u001B[0;32m    527\u001B[0m \u001B[38;5;28;01mreturn\u001B[39;00m response\n",
      "File \u001B[1;32mC:\\ProgramData\\anaconda3\\Lib\\urllib\\request.py:634\u001B[0m, in \u001B[0;36mHTTPErrorProcessor.http_response\u001B[1;34m(self, request, response)\u001B[0m\n\u001B[0;32m    631\u001B[0m \u001B[38;5;66;03m# According to RFC 2616, \"2xx\" code indicates that the client's\u001B[39;00m\n\u001B[0;32m    632\u001B[0m \u001B[38;5;66;03m# request was successfully received, understood, and accepted.\u001B[39;00m\n\u001B[0;32m    633\u001B[0m \u001B[38;5;28;01mif\u001B[39;00m \u001B[38;5;129;01mnot\u001B[39;00m (\u001B[38;5;241m200\u001B[39m \u001B[38;5;241m<\u001B[39m\u001B[38;5;241m=\u001B[39m code \u001B[38;5;241m<\u001B[39m \u001B[38;5;241m300\u001B[39m):\n\u001B[1;32m--> 634\u001B[0m     response \u001B[38;5;241m=\u001B[39m \u001B[38;5;28mself\u001B[39m\u001B[38;5;241m.\u001B[39mparent\u001B[38;5;241m.\u001B[39merror(\n\u001B[0;32m    635\u001B[0m         \u001B[38;5;124m'\u001B[39m\u001B[38;5;124mhttp\u001B[39m\u001B[38;5;124m'\u001B[39m, request, response, code, msg, hdrs)\n\u001B[0;32m    637\u001B[0m \u001B[38;5;28;01mreturn\u001B[39;00m response\n",
      "File \u001B[1;32mC:\\ProgramData\\anaconda3\\Lib\\urllib\\request.py:563\u001B[0m, in \u001B[0;36mOpenerDirector.error\u001B[1;34m(self, proto, *args)\u001B[0m\n\u001B[0;32m    561\u001B[0m \u001B[38;5;28;01mif\u001B[39;00m http_err:\n\u001B[0;32m    562\u001B[0m     args \u001B[38;5;241m=\u001B[39m (\u001B[38;5;28mdict\u001B[39m, \u001B[38;5;124m'\u001B[39m\u001B[38;5;124mdefault\u001B[39m\u001B[38;5;124m'\u001B[39m, \u001B[38;5;124m'\u001B[39m\u001B[38;5;124mhttp_error_default\u001B[39m\u001B[38;5;124m'\u001B[39m) \u001B[38;5;241m+\u001B[39m orig_args\n\u001B[1;32m--> 563\u001B[0m     \u001B[38;5;28;01mreturn\u001B[39;00m \u001B[38;5;28mself\u001B[39m\u001B[38;5;241m.\u001B[39m_call_chain(\u001B[38;5;241m*\u001B[39margs)\n",
      "File \u001B[1;32mC:\\ProgramData\\anaconda3\\Lib\\urllib\\request.py:496\u001B[0m, in \u001B[0;36mOpenerDirector._call_chain\u001B[1;34m(self, chain, kind, meth_name, *args)\u001B[0m\n\u001B[0;32m    494\u001B[0m \u001B[38;5;28;01mfor\u001B[39;00m handler \u001B[38;5;129;01min\u001B[39;00m handlers:\n\u001B[0;32m    495\u001B[0m     func \u001B[38;5;241m=\u001B[39m \u001B[38;5;28mgetattr\u001B[39m(handler, meth_name)\n\u001B[1;32m--> 496\u001B[0m     result \u001B[38;5;241m=\u001B[39m func(\u001B[38;5;241m*\u001B[39margs)\n\u001B[0;32m    497\u001B[0m     \u001B[38;5;28;01mif\u001B[39;00m result \u001B[38;5;129;01mis\u001B[39;00m \u001B[38;5;129;01mnot\u001B[39;00m \u001B[38;5;28;01mNone\u001B[39;00m:\n\u001B[0;32m    498\u001B[0m         \u001B[38;5;28;01mreturn\u001B[39;00m result\n",
      "File \u001B[1;32mC:\\ProgramData\\anaconda3\\Lib\\urllib\\request.py:643\u001B[0m, in \u001B[0;36mHTTPDefaultErrorHandler.http_error_default\u001B[1;34m(self, req, fp, code, msg, hdrs)\u001B[0m\n\u001B[0;32m    642\u001B[0m \u001B[38;5;28;01mdef\u001B[39;00m \u001B[38;5;21mhttp_error_default\u001B[39m(\u001B[38;5;28mself\u001B[39m, req, fp, code, msg, hdrs):\n\u001B[1;32m--> 643\u001B[0m     \u001B[38;5;28;01mraise\u001B[39;00m HTTPError(req\u001B[38;5;241m.\u001B[39mfull_url, code, msg, hdrs, fp)\n",
      "\u001B[1;31mHTTPError\u001B[0m: HTTP Error 404: Not Found"
     ]
    }
   ],
   "source": [
    "movies = pd.read_json('https://raw.githubusercontent.com/meilisearch/MeiliSearch/main/datasets/movies/movies.json')"
   ]
  },
  {
   "cell_type": "code",
   "execution_count": null,
   "metadata": {
    "ExecuteTime": {
     "end_time": "2024-02-05T22:58:28.415283200Z",
     "start_time": "2024-02-05T22:58:28.351537800Z"
    }
   },
   "outputs": [],
   "source": [
    "movies.head()"
   ]
  },
  {
   "cell_type": "markdown",
   "metadata": {},
   "source": [
    "### Quais são os tipos de dados das colunas?"
   ]
  },
  {
   "cell_type": "code",
   "execution_count": null,
   "metadata": {
    "ExecuteTime": {
     "start_time": "2024-02-05T22:58:28.358058Z"
    }
   },
   "outputs": [],
   "source": [
    "movies.dtypes"
   ]
  },
  {
   "cell_type": "markdown",
   "metadata": {},
   "source": [
    "### Qual genêro predominante no conjunto de dados?"
   ]
  },
  {
   "cell_type": "code",
   "execution_count": null,
   "metadata": {
    "ExecuteTime": {
     "start_time": "2024-02-05T22:58:28.378166400Z"
    }
   },
   "outputs": [],
   "source": [
    "movies.genres.explode().value_counts()"
   ]
  },
  {
   "cell_type": "markdown",
   "metadata": {},
   "source": [
    "### Qual o ano de lançamento predominante da base??"
   ]
  },
  {
   "cell_type": "code",
   "outputs": [],
   "source": [
    "filmes.release_date.to_list()"
   ],
   "metadata": {
    "collapsed": false,
    "ExecuteTime": {
     "start_time": "2024-02-05T22:58:28.381223700Z"
    }
   }
  },
  {
   "cell_type": "code",
   "execution_count": null,
   "metadata": {
    "ExecuteTime": {
     "start_time": "2024-02-05T22:58:28.386756300Z"
    }
   },
   "outputs": [],
   "source": [
    "lst[0].year"
   ]
  },
  {
   "cell_type": "code",
   "outputs": [],
   "source": [
    "lst = []\n",
    "for filme in filmes.release_date.to_list():\n",
    "#     print(filme)\n",
    "    try:\n",
    "        lst.append(datetime.fromtimestamp(filme).year)\n",
    "    except:\n",
    "        lst.append(np.nan)\n",
    "lst"
   ],
   "metadata": {
    "collapsed": false,
    "ExecuteTime": {
     "start_time": "2024-02-05T22:58:28.389753500Z"
    }
   }
  },
  {
   "cell_type": "code",
   "execution_count": null,
   "metadata": {
    "ExecuteTime": {
     "start_time": "2024-02-05T22:58:28.391753300Z"
    }
   },
   "outputs": [],
   "source": [
    "filmes['ano'] = lst"
   ]
  },
  {
   "cell_type": "code",
   "execution_count": null,
   "metadata": {
    "ExecuteTime": {
     "start_time": "2024-02-05T22:58:28.394259500Z"
    }
   },
   "outputs": [],
   "source": [
    "filmes['ano'].value_counts()"
   ]
  }
 ],
 "metadata": {
  "kernelspec": {
   "display_name": "Python 3",
   "language": "python",
   "name": "python3"
  },
  "language_info": {
   "codemirror_mode": {
    "name": "ipython",
    "version": 3
   },
   "file_extension": ".py",
   "mimetype": "text/x-python",
   "name": "python",
   "nbconvert_exporter": "python",
   "pygments_lexer": "ipython3",
   "version": "3.8.5"
  },
  "varInspector": {
   "cols": {
    "lenName": 16,
    "lenType": 16,
    "lenVar": 40
   },
   "kernels_config": {
    "python": {
     "delete_cmd_postfix": "",
     "delete_cmd_prefix": "del ",
     "library": "var_list.py",
     "varRefreshCmd": "print(var_dic_list())"
    },
    "r": {
     "delete_cmd_postfix": ") ",
     "delete_cmd_prefix": "rm(",
     "library": "var_list.r",
     "varRefreshCmd": "cat(var_dic_list()) "
    }
   },
   "types_to_exclude": [
    "module",
    "function",
    "builtin_function_or_method",
    "instance",
    "_Feature"
   ],
   "window_display": false
  }
 },
 "nbformat": 4,
 "nbformat_minor": 4
}
