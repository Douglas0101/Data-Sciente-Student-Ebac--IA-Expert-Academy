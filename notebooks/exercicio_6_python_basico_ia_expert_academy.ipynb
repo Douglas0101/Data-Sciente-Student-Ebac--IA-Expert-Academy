{
 "cells": [
  {
   "cell_type": "code",
   "id": "initial_id",
   "metadata": {
    "collapsed": true,
    "ExecuteTime": {
     "end_time": "2024-04-10T15:50:21.700899Z",
     "start_time": "2024-04-10T15:50:21.696407Z"
    }
   },
   "source": [
    "# Exercício - 6 - Python Básico - IA Expert Academy\n",
    "\n",
    "def leitura_m(media):\n",
    "    media = 1\n",
    "    while media <= 5:\n",
    "        media = float(input())\n",
    "        media += 1\n",
    "    return media\n",
    "\n",
    "def calcular_media(m1, m2, m3, m4, m5):\n",
    "   return (m1 + m2 + m3 + m4 + m5) / 5\n",
    "\n",
    "def resultado(m):\n",
    "    print(f'Média = {m:.2f}')\n",
    "    return m"
   ],
   "outputs": [],
   "execution_count": 5
  },
  {
   "metadata": {
    "ExecuteTime": {
     "end_time": "2024-04-10T15:50:28.376678Z",
     "start_time": "2024-04-10T15:50:21.705425Z"
    }
   },
   "cell_type": "code",
   "source": [
    "if __name__ == '__main__':\n",
    "    media_1 = leitura_m('Nota 1: ')\n",
    "    print(f'Nota 1 = {media_1:.2f}')\n",
    "    media_2 = leitura_m('Nota 2: ')\n",
    "    print(f'Nota 2 = {media_2:.2f}')\n",
    "    media_3 = leitura_m('Nota 3: ')\n",
    "    print(f'Nota 3 = {media_3:.2f}')\n",
    "    media_4 = leitura_m('Nota 4: ')\n",
    "    print(f'Nota 4 = {media_4:.2f}')\n",
    "    media_5 = leitura_m('Nota 5: ')\n",
    "    print(f'Nota 5 = {media_5:.2f}')\n",
    "    media = calcular_media(media_1, media_2, media_3, media_4, media_5)\n",
    "    resultado(media)"
   ],
   "id": "12b6e814bb737496",
   "outputs": [
    {
     "name": "stdout",
     "output_type": "stream",
     "text": [
      "Nota 1 = 6.00\n",
      "Nota 2 = 7.00\n",
      "Nota 3 = 9.00\n",
      "Nota 4 = 7.00\n",
      "Nota 5 = 7.00\n",
      "Média = 7.20\n"
     ]
    }
   ],
   "execution_count": 6
  }
 ],
 "metadata": {
  "kernelspec": {
   "display_name": "Python 3",
   "language": "python",
   "name": "python3"
  },
  "language_info": {
   "codemirror_mode": {
    "name": "ipython",
    "version": 2
   },
   "file_extension": ".py",
   "mimetype": "text/x-python",
   "name": "python",
   "nbconvert_exporter": "python",
   "pygments_lexer": "ipython2",
   "version": "2.7.6"
  }
 },
 "nbformat": 4,
 "nbformat_minor": 5
}
