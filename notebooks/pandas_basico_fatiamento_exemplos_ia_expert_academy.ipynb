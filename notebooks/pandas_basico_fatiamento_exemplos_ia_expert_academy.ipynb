{
 "cells": [
  {
   "cell_type": "code",
   "id": "initial_id",
   "metadata": {
    "collapsed": true,
    "ExecuteTime": {
     "end_time": "2024-04-24T20:41:18.105505Z",
     "start_time": "2024-04-24T20:41:18.100350Z"
    }
   },
   "source": [
    "lista = [0, 1, 2, 3, 4, 5, 6, 7, 8, 9]\n",
    "print(lista[0:5])"
   ],
   "outputs": [
    {
     "name": "stdout",
     "output_type": "stream",
     "text": [
      "[0, 1, 2, 3, 4]\n"
     ]
    }
   ],
   "execution_count": 138
  },
  {
   "cell_type": "code",
   "id": "b7193be020a3a617",
   "metadata": {
    "ExecuteTime": {
     "end_time": "2024-04-24T20:41:18.120627Z",
     "start_time": "2024-04-24T20:41:18.113723Z"
    }
   },
   "source": [
    "string = 'Python'\n",
    "print(string[1:4])"
   ],
   "outputs": [
    {
     "name": "stdout",
     "output_type": "stream",
     "text": [
      "yth\n"
     ]
    }
   ],
   "execution_count": 139
  },
  {
   "cell_type": "code",
   "id": "d8caf9f8c8593f44",
   "metadata": {
    "ExecuteTime": {
     "end_time": "2024-04-24T20:41:18.132673Z",
     "start_time": "2024-04-24T20:41:18.122625Z"
    }
   },
   "source": [
    "import numpy as np"
   ],
   "outputs": [],
   "execution_count": 140
  },
  {
   "cell_type": "code",
   "id": "a46ad50091d759e5",
   "metadata": {
    "ExecuteTime": {
     "end_time": "2024-04-24T20:41:18.148229Z",
     "start_time": "2024-04-24T20:41:18.134672Z"
    }
   },
   "source": [
    "array = np.array([0, 1, 2, 3, 4, 5, 6, 7, 8, 9])\n",
    "print(array[0:5])"
   ],
   "outputs": [
    {
     "name": "stdout",
     "output_type": "stream",
     "text": [
      "[0 1 2 3 4]\n"
     ]
    }
   ],
   "execution_count": 141
  },
  {
   "cell_type": "code",
   "id": "aebce22936c20bc3",
   "metadata": {
    "ExecuteTime": {
     "end_time": "2024-04-24T20:41:18.180043Z",
     "start_time": "2024-04-24T20:41:18.175111Z"
    }
   },
   "source": [
    "print(array[1:4])"
   ],
   "outputs": [
    {
     "name": "stdout",
     "output_type": "stream",
     "text": [
      "[1 2 3]\n"
     ]
    }
   ],
   "execution_count": 142
  },
  {
   "cell_type": "code",
   "id": "1a4c783f281cdff",
   "metadata": {
    "ExecuteTime": {
     "end_time": "2024-04-24T20:41:18.214272Z",
     "start_time": "2024-04-24T20:41:18.208860Z"
    }
   },
   "source": [
    "import pandas as pd"
   ],
   "outputs": [],
   "execution_count": 143
  },
  {
   "cell_type": "code",
   "id": "c887ac806a402490",
   "metadata": {
    "ExecuteTime": {
     "end_time": "2024-04-24T20:41:18.268552Z",
     "start_time": "2024-04-24T20:41:18.261686Z"
    }
   },
   "source": [
    "s = pd.Series([0, 1, 2, 3, 4, 5, 6, 7, 8, 9])\n",
    "print(s[0:5])"
   ],
   "outputs": [
    {
     "name": "stdout",
     "output_type": "stream",
     "text": [
      "0    0\n",
      "1    1\n",
      "2    2\n",
      "3    3\n",
      "4    4\n",
      "dtype: int64\n"
     ]
    }
   ],
   "execution_count": 144
  },
  {
   "cell_type": "code",
   "id": "2fee5019eeeace4f",
   "metadata": {
    "ExecuteTime": {
     "end_time": "2024-04-24T20:41:18.299224Z",
     "start_time": "2024-04-24T20:41:18.293107Z"
    }
   },
   "source": [
    "s = pd.Series([0, 1, 2, 3, 4, 5, 6, 7, 8, 9])\n",
    "print(s[1:4])"
   ],
   "outputs": [
    {
     "name": "stdout",
     "output_type": "stream",
     "text": [
      "1    1\n",
      "2    2\n",
      "3    3\n",
      "dtype: int64\n"
     ]
    }
   ],
   "execution_count": 145
  },
  {
   "cell_type": "code",
   "id": "10dce68216a9dabe",
   "metadata": {
    "ExecuteTime": {
     "end_time": "2024-04-24T20:41:18.329390Z",
     "start_time": "2024-04-24T20:41:18.317845Z"
    }
   },
   "source": [
    "df = pd.DataFrame(\n",
    "    {\n",
    "        'A': [0, 1, 2, 3, 4],\n",
    "        'B': [5, 6, 7, 8, 9]\n",
    "    }\n",
    ")\n",
    "\n",
    "print(df[1:4])"
   ],
   "outputs": [
    {
     "name": "stdout",
     "output_type": "stream",
     "text": [
      "   A  B\n",
      "1  1  6\n",
      "2  2  7\n",
      "3  3  8\n"
     ]
    }
   ],
   "execution_count": 146
  },
  {
   "cell_type": "code",
   "id": "bdadb11c64efa2fb",
   "metadata": {
    "ExecuteTime": {
     "end_time": "2024-04-24T20:41:18.345523Z",
     "start_time": "2024-04-24T20:41:18.339666Z"
    }
   },
   "source": [
    "print(lista[::2])"
   ],
   "outputs": [
    {
     "name": "stdout",
     "output_type": "stream",
     "text": [
      "[0, 2, 4, 6, 8]\n"
     ]
    }
   ],
   "execution_count": 147
  },
  {
   "metadata": {
    "ExecuteTime": {
     "end_time": "2024-04-24T20:41:18.359777Z",
     "start_time": "2024-04-24T20:41:18.347563Z"
    }
   },
   "cell_type": "code",
   "source": "print(lista[::-1])",
   "id": "50fb0721eab8d789",
   "outputs": [
    {
     "name": "stdout",
     "output_type": "stream",
     "text": [
      "[9, 8, 7, 6, 5, 4, 3, 2, 1, 0]\n"
     ]
    }
   ],
   "execution_count": 148
  },
  {
   "metadata": {
    "ExecuteTime": {
     "end_time": "2024-04-24T20:41:18.391107Z",
     "start_time": "2024-04-24T20:41:18.381052Z"
    }
   },
   "cell_type": "code",
   "source": "print(array[array > 2])",
   "id": "51f4a5425412108e",
   "outputs": [
    {
     "name": "stdout",
     "output_type": "stream",
     "text": [
      "[3 4 5 6 7 8 9]\n"
     ]
    }
   ],
   "execution_count": 149
  },
  {
   "metadata": {
    "ExecuteTime": {
     "end_time": "2024-04-24T20:41:18.416611Z",
     "start_time": "2024-04-24T20:41:18.410710Z"
    }
   },
   "cell_type": "code",
   "source": [
    "random = np.random.randn(10)\n",
    "print(random)"
   ],
   "id": "abce8eefcf00cc90",
   "outputs": [
    {
     "name": "stdout",
     "output_type": "stream",
     "text": [
      "[-0.11472449 -0.14180997 -0.12909707 -0.18013993 -0.76542711  0.9508509\n",
      " -1.10825951  0.7887819   0.21138983 -0.59065328]\n"
     ]
    }
   ],
   "execution_count": 150
  },
  {
   "metadata": {
    "ExecuteTime": {
     "end_time": "2024-04-24T20:41:18.491482Z",
     "start_time": "2024-04-24T20:41:18.476348Z"
    }
   },
   "cell_type": "code",
   "source": "pd.Series(random)",
   "id": "385bfd14444e6fec",
   "outputs": [
    {
     "data": {
      "text/plain": [
       "0   -0.114724\n",
       "1   -0.141810\n",
       "2   -0.129097\n",
       "3   -0.180140\n",
       "4   -0.765427\n",
       "5    0.950851\n",
       "6   -1.108260\n",
       "7    0.788782\n",
       "8    0.211390\n",
       "9   -0.590653\n",
       "dtype: float64"
      ]
     },
     "execution_count": 151,
     "metadata": {},
     "output_type": "execute_result"
    }
   ],
   "execution_count": 151
  }
 ],
 "metadata": {
  "kernelspec": {
   "display_name": "Python 3 (ipykernel)",
   "language": "python",
   "name": "python3"
  },
  "language_info": {
   "codemirror_mode": {
    "name": "ipython",
    "version": 3
   },
   "file_extension": ".py",
   "mimetype": "text/x-python",
   "name": "python",
   "nbconvert_exporter": "python",
   "pygments_lexer": "ipython3",
   "version": "3.11.9"
  }
 },
 "nbformat": 4,
 "nbformat_minor": 5
}
