{
 "nbformat": 4,
 "nbformat_minor": 0,
 "metadata": {
  "colab": {
   "provenance": []
  },
  "kernelspec": {
   "name": "python3",
   "display_name": "Python 3 (ipykernel)",
   "language": "python"
  }
 },
 "cells": [
  {
   "cell_type": "markdown",
   "metadata": {
    "id": "WvOV4VN9sHvj"
   },
   "source": [
    "# Expressões regulares"
   ]
  },
  {
   "cell_type": "markdown",
   "metadata": {
    "id": "Nk_w40LW0itn"
   },
   "source": [
    "## Função search"
   ]
  },
  {
   "cell_type": "code",
   "metadata": {
    "id": "Aj1dc_c2uZDl",
    "ExecuteTime": {
     "end_time": "2024-04-17T23:22:54.756071Z",
     "start_time": "2024-04-17T23:22:54.740094Z"
    }
   },
   "source": [
    "import re"
   ],
   "outputs": [],
   "execution_count": 1
  },
  {
   "cell_type": "code",
   "metadata": {
    "id": "hFhDZWgGsKQO",
    "ExecuteTime": {
     "end_time": "2024-04-17T23:22:54.778137Z",
     "start_time": "2024-04-17T23:22:54.763871Z"
    }
   },
   "source": [
    "frase = 'Olá, meu número de telefone é (42)00010-0000'"
   ],
   "outputs": [],
   "execution_count": 2
  },
  {
   "cell_type": "code",
   "metadata": {
    "id": "qPnO9HmAReeL",
    "colab": {
     "base_uri": "https://localhost:8080/"
    },
    "outputId": "bef8512a-700b-4ea2-9dfe-0a441daa003a",
    "ExecuteTime": {
     "end_time": "2024-04-17T23:22:54.815904Z",
     "start_time": "2024-04-17T23:22:54.804732Z"
    }
   },
   "source": [
    "re.search('\\(\\d{2}\\)\\d{4,5}-\\d{4}', frase)"
   ],
   "outputs": [
    {
     "data": {
      "text/plain": [
       "<re.Match object; span=(30, 44), match='(42)00010-0000'>"
      ]
     },
     "execution_count": 3,
     "metadata": {},
     "output_type": "execute_result"
    }
   ],
   "execution_count": 3
  },
  {
   "cell_type": "code",
   "metadata": {
    "id": "LitwIAjDwRXM",
    "ExecuteTime": {
     "end_time": "2024-04-17T23:22:54.858840Z",
     "start_time": "2024-04-17T23:22:54.855826Z"
    }
   },
   "source": [
    "frase = 'A placa de carro que eu anotei durante o acidente foi FrT-1998'"
   ],
   "outputs": [],
   "execution_count": 4
  },
  {
   "cell_type": "code",
   "metadata": {
    "id": "Yy50jNO9SYU6",
    "colab": {
     "base_uri": "https://localhost:8080/"
    },
    "outputId": "a1493962-1d98-4870-8005-fac42c8c5edb",
    "ExecuteTime": {
     "end_time": "2024-04-17T23:22:54.884811Z",
     "start_time": "2024-04-17T23:22:54.868633Z"
    }
   },
   "source": [
    "re.search('[A-Za-z]{3}-\\d{4}', frase)"
   ],
   "outputs": [
    {
     "data": {
      "text/plain": [
       "<re.Match object; span=(54, 62), match='FrT-1998'>"
      ]
     },
     "execution_count": 5,
     "metadata": {},
     "output_type": "execute_result"
    }
   ],
   "execution_count": 5
  },
  {
   "cell_type": "code",
   "metadata": {
    "id": "JZ9iXCw4w4o7",
    "ExecuteTime": {
     "end_time": "2024-04-17T23:22:54.922085Z",
     "start_time": "2024-04-17T23:22:54.915200Z"
    }
   },
   "source": [
    "email = 'Entre em contato, meu email é teste@teste.com'"
   ],
   "outputs": [],
   "execution_count": 6
  },
  {
   "cell_type": "code",
   "metadata": {
    "id": "Jf9J4PZYSv3_",
    "colab": {
     "base_uri": "https://localhost:8080/"
    },
    "outputId": "48e253ba-e54f-4d08-b3d1-f55f7b656c15",
    "ExecuteTime": {
     "end_time": "2024-04-17T23:22:54.958602Z",
     "start_time": "2024-04-17T23:22:54.947898Z"
    }
   },
   "source": [
    "re.search('\\w+@\\w+\\.com', email)"
   ],
   "outputs": [
    {
     "data": {
      "text/plain": [
       "<re.Match object; span=(30, 45), match='teste@teste.com'>"
      ]
     },
     "execution_count": 7,
     "metadata": {},
     "output_type": "execute_result"
    }
   ],
   "execution_count": 7
  },
  {
   "cell_type": "markdown",
   "metadata": {
    "id": "wZziwezSxZNR"
   },
   "source": [
    "## Função match"
   ]
  },
  {
   "cell_type": "code",
   "metadata": {
    "id": "q2MZ-5urxep0",
    "ExecuteTime": {
     "end_time": "2024-04-17T23:22:55.048351Z",
     "start_time": "2024-04-17T23:22:55.042412Z"
    }
   },
   "source": [
    "frase = 'A placa de carro que eu anotei durante a batida foi FRT-1998'"
   ],
   "outputs": [],
   "execution_count": 8
  },
  {
   "cell_type": "code",
   "metadata": {
    "id": "esPXSYM6TMIt",
    "colab": {
     "base_uri": "https://localhost:8080/"
    },
    "outputId": "545e2138-6029-4486-dd19-4c8218571942",
    "ExecuteTime": {
     "end_time": "2024-04-17T23:22:55.166780Z",
     "start_time": "2024-04-17T23:22:55.158295Z"
    }
   },
   "source": [
    "print(re.match('[A-Za-z]{3}-\\d{4}', frase))"
   ],
   "outputs": [
    {
     "name": "stdout",
     "output_type": "stream",
     "text": [
      "None\n"
     ]
    }
   ],
   "execution_count": 9
  },
  {
   "cell_type": "code",
   "metadata": {
    "id": "ahPvZA8Ax5E8",
    "ExecuteTime": {
     "end_time": "2024-04-17T23:22:55.294893Z",
     "start_time": "2024-04-17T23:22:55.290928Z"
    }
   },
   "source": [
    "frase2 = 'FRT-1998 é a placa do carro'"
   ],
   "outputs": [],
   "execution_count": 10
  },
  {
   "cell_type": "code",
   "metadata": {
    "id": "GgVEH8sjTVqh",
    "colab": {
     "base_uri": "https://localhost:8080/"
    },
    "outputId": "805541fd-7512-4348-c13b-fe4f1d59146b",
    "ExecuteTime": {
     "end_time": "2024-04-17T23:22:55.401713Z",
     "start_time": "2024-04-17T23:22:55.392704Z"
    }
   },
   "source": [
    "print(re.match('[A-Za-z]{3}-\\d{4}', frase2))"
   ],
   "outputs": [
    {
     "name": "stdout",
     "output_type": "stream",
     "text": [
      "<re.Match object; span=(0, 8), match='FRT-1998'>\n"
     ]
    }
   ],
   "execution_count": 11
  },
  {
   "cell_type": "markdown",
   "metadata": {
    "id": "7OJHsCbkyzV6"
   },
   "source": [
    "## Função findall"
   ]
  },
  {
   "cell_type": "code",
   "metadata": {
    "id": "nAiqJkNJy-gs",
    "ExecuteTime": {
     "end_time": "2024-04-17T23:22:55.422399Z",
     "start_time": "2024-04-17T23:22:55.408728Z"
    }
   },
   "source": [
    "frase3 = 'Meu número de telefone atual é (42)0000-0000. O número (56)1111-1111 é o antigo'"
   ],
   "outputs": [],
   "execution_count": 12
  },
  {
   "cell_type": "code",
   "metadata": {
    "id": "7wUHKwFuTj9P",
    "colab": {
     "base_uri": "https://localhost:8080/"
    },
    "outputId": "a6ea73ad-8ffe-43cc-b226-cea7d484ea95",
    "ExecuteTime": {
     "end_time": "2024-04-17T23:22:55.443373Z",
     "start_time": "2024-04-17T23:22:55.437211Z"
    }
   },
   "source": [
    "re.findall('\\(\\d{2}\\)\\d{4,5}-\\d{4}', frase3)"
   ],
   "outputs": [
    {
     "data": {
      "text/plain": [
       "['(42)0000-0000', '(56)1111-1111']"
      ]
     },
     "execution_count": 13,
     "metadata": {},
     "output_type": "execute_result"
    }
   ],
   "execution_count": 13
  },
  {
   "cell_type": "code",
   "metadata": {
    "id": "UwyR0ezBzkqj",
    "ExecuteTime": {
     "end_time": "2024-04-17T23:22:55.494603Z",
     "start_time": "2024-04-17T23:22:55.483249Z"
    }
   },
   "source": [
    "emails = '''Nome: Teste 1\n",
    "email: teste1@teste.com\n",
    "Nome: Teste 2\n",
    "email: teste2@teste.com\n",
    "Nome: Teste 3\n",
    "email: teste3@teste.com.br\n",
    "'''"
   ],
   "outputs": [],
   "execution_count": 14
  },
  {
   "cell_type": "code",
   "metadata": {
    "id": "-nGbc57NTvaT",
    "colab": {
     "base_uri": "https://localhost:8080/"
    },
    "outputId": "3bbff3c9-1e4d-47ab-8ea4-004abbf194c6",
    "ExecuteTime": {
     "end_time": "2024-04-17T23:22:55.591281Z",
     "start_time": "2024-04-17T23:22:55.574126Z"
    }
   },
   "source": [
    "re.findall('\\w+@\\w+\\.\\w*', emails)"
   ],
   "outputs": [
    {
     "data": {
      "text/plain": [
       "['teste1@teste.com', 'teste2@teste.com', 'teste3@teste.com']"
      ]
     },
     "execution_count": 15,
     "metadata": {},
     "output_type": "execute_result"
    }
   ],
   "execution_count": 15
  },
  {
   "cell_type": "code",
   "source": [
    "re.findall('[\\w.+-]+@[\\w-]+\\.[\\w.-]+', emails) #Atualizado 08/02/2022"
   ],
   "metadata": {
    "colab": {
     "base_uri": "https://localhost:8080/"
    },
    "id": "WjD1YLTYMRYz",
    "outputId": "5f558f76-00c1-4a4f-8300-7ec5bf40bf08",
    "ExecuteTime": {
     "end_time": "2024-04-17T23:22:55.679188Z",
     "start_time": "2024-04-17T23:22:55.665061Z"
    }
   },
   "outputs": [
    {
     "data": {
      "text/plain": [
       "['teste1@teste.com', 'teste2@teste.com', 'teste3@teste.com.br']"
      ]
     },
     "execution_count": 16,
     "metadata": {},
     "output_type": "execute_result"
    }
   ],
   "execution_count": 16
  },
  {
   "cell_type": "code",
   "source": [
    "re.findall('\\w+@\\w+\\.\\w+.?\\w+', emails) #Colaboração/sugestão Eder Marinho Martins"
   ],
   "metadata": {
    "colab": {
     "base_uri": "https://localhost:8080/"
    },
    "id": "cSHHaysoMDFr",
    "outputId": "352797c6-3482-4f46-a450-ebbdf44b2006",
    "ExecuteTime": {
     "end_time": "2024-04-17T23:22:55.805559Z",
     "start_time": "2024-04-17T23:22:55.790293Z"
    }
   },
   "outputs": [
    {
     "data": {
      "text/plain": [
       "['teste1@teste.com', 'teste2@teste.com', 'teste3@teste.com.br']"
      ]
     },
     "execution_count": 17,
     "metadata": {},
     "output_type": "execute_result"
    }
   ],
   "execution_count": 17
  }
 ]
}
