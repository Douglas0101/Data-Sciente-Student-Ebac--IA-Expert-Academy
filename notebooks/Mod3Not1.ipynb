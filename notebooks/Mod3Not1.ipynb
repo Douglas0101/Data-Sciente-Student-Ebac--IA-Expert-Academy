{
 "cells": [
  {
   "cell_type": "markdown",
   "metadata": {},
   "source": [
    "# Tratamento de dados 0"
   ]
  },
  {
   "cell_type": "markdown",
   "metadata": {},
   "source": [
    "# Aula 1 - Python? Que Python?"
   ]
  },
  {
   "cell_type": "markdown",
   "metadata": {},
   "source": [
    "# 1 - Apresentação do projeto"
   ]
  },
  {
   "cell_type": "markdown",
   "metadata": {},
   "source": [
    "# 2 - O que é python?"
   ]
  },
  {
   "cell_type": "markdown",
   "metadata": {},
   "source": [
    "Python é uma linguagem de programação. Linguagem de programação é meio que os humanos usam para interagir com os computadores. Linguagem de programação é um conjunto de comandos/instruções.\n",
    "Essas linguagens podem ser de alto ou baixo nível e o que classifica elas é a aproximidade com a linguagem de máquina. A linguagem que o computador entende é composta por apenas 0s e 1s, conhecida como linguagem de máquina e sistema binário, pois só existem 2 valores possíveis.  \n",
    "\n",
    "O python é uma liguagem de alto nível que ajuda tanto os pesquisadores quanto cientistas de dados a resolver problemas complexos da academia e da indústria.\n",
    "\n",
    "Como vimos no módulo passado, um projeto de ciência de dados contém diversas etapas, desde a extração e coleta de dados até a produtização/monitoramento da solução, e o python é tão versátil que podemos utilizá-lo para qualquer etapa do projeto e por isso que é uma das linguagens de programação mais utilizada para ciência de dados. \n",
    "\n",
    "Além disso, existem diversos códigos prontos, que são os módulos/pacotes/bibliotecas, desenvolvidos por outras pessoas que podemos facilmente importar e utilizar nos nossos projetos. \n",
    "\n",
    "Para machine learning não é diferente. Existem diversos algoritmos já implementados que para utilizá-lo basta importar e já está disponível para utilização. Vamos falar sobre essas bibliotecas mais pra frente.\n",
    "\n",
    "Além de tudo isso, o Python é conhecido pela sua simplicidade tornando-o uma linguagem mais fácil de aprender, e é também conhecido pela beleza da sua sintaxe.\n",
    "\n",
    "Espero que vocês se apaixonem por essa linguagem."
   ]
  },
  {
   "cell_type": "markdown",
   "metadata": {},
   "source": [
    "Gerações de linguagens de programação:\n",
    "\n",
    "![generalation_language](generalation_language.png)\n",
    "\n",
    "https://datacadamia.com/code/lang/generation"
   ]
  },
  {
   "cell_type": "markdown",
   "source": [],
   "metadata": {
    "collapsed": false
   }
  },
  {
   "cell_type": "markdown",
   "metadata": {},
   "source": [
    "# 3.0 - Como rodar um código python\n"
   ]
  },
  {
   "cell_type": "markdown",
   "metadata": {},
   "source": [
    "## 3.1 - Jupyter notebook\n"
   ]
  },
  {
   "cell_type": "code",
   "execution_count": 1,
   "metadata": {
    "ExecuteTime": {
     "end_time": "2024-01-25T13:04:40.116753500Z",
     "start_time": "2024-01-25T13:04:40.077831400Z"
    }
   },
   "outputs": [
    {
     "data": {
      "text/plain": "2"
     },
     "execution_count": 1,
     "metadata": {},
     "output_type": "execute_result"
    }
   ],
   "source": [
    "1+1"
   ]
  },
  {
   "cell_type": "code",
   "execution_count": 2,
   "metadata": {
    "ExecuteTime": {
     "end_time": "2024-01-25T13:04:40.243927200Z",
     "start_time": "2024-01-25T13:04:40.098405Z"
    }
   },
   "outputs": [
    {
     "data": {
      "text/plain": "45"
     },
     "execution_count": 2,
     "metadata": {},
     "output_type": "execute_result"
    }
   ],
   "source": [
    "15*3"
   ]
  },
  {
   "cell_type": "code",
   "execution_count": 3,
   "metadata": {
    "ExecuteTime": {
     "end_time": "2024-01-25T13:04:40.376355600Z",
     "start_time": "2024-01-25T13:04:40.147846300Z"
    }
   },
   "outputs": [],
   "source": [
    "x = 15"
   ]
  },
  {
   "cell_type": "code",
   "execution_count": 4,
   "metadata": {
    "ExecuteTime": {
     "end_time": "2024-01-25T13:04:40.622917600Z",
     "start_time": "2024-01-25T13:04:40.369868300Z"
    }
   },
   "outputs": [
    {
     "data": {
      "text/plain": "45"
     },
     "execution_count": 4,
     "metadata": {},
     "output_type": "execute_result"
    }
   ],
   "source": [
    "x*3"
   ]
  },
  {
   "cell_type": "markdown",
   "metadata": {},
   "source": [
    "## 3.2 - Interpretador\n",
    "\n"
   ]
  },
  {
   "cell_type": "markdown",
   "metadata": {},
   "source": [
    "Abrir o cmd.exe do anaconda navigator"
   ]
  },
  {
   "cell_type": "markdown",
   "metadata": {},
   "source": [
    "# 4.0 - Calculadora"
   ]
  },
  {
   "cell_type": "markdown",
   "metadata": {},
   "source": [
    "O python pode ser usado como uma calculadora para realizar operações matématicas"
   ]
  },
  {
   "cell_type": "code",
   "execution_count": 5,
   "metadata": {
    "ExecuteTime": {
     "end_time": "2024-01-25T13:04:40.799839700Z",
     "start_time": "2024-01-25T13:04:40.623642400Z"
    }
   },
   "outputs": [
    {
     "data": {
      "text/plain": "2"
     },
     "execution_count": 5,
     "metadata": {},
     "output_type": "execute_result"
    }
   ],
   "source": [
    "1+1"
   ]
  },
  {
   "cell_type": "code",
   "execution_count": 6,
   "metadata": {
    "ExecuteTime": {
     "end_time": "2024-01-25T13:04:41.037630400Z",
     "start_time": "2024-01-25T13:04:40.735663800Z"
    }
   },
   "outputs": [
    {
     "data": {
      "text/plain": "6"
     },
     "execution_count": 6,
     "metadata": {},
     "output_type": "execute_result"
    }
   ],
   "source": [
    "3*2"
   ]
  },
  {
   "cell_type": "code",
   "execution_count": 7,
   "metadata": {
    "ExecuteTime": {
     "end_time": "2024-01-25T13:04:41.200800Z",
     "start_time": "2024-01-25T13:04:41.004827800Z"
    }
   },
   "outputs": [
    {
     "data": {
      "text/plain": "7"
     },
     "execution_count": 7,
     "metadata": {},
     "output_type": "execute_result"
    }
   ],
   "source": [
    "3*2+1"
   ]
  },
  {
   "cell_type": "code",
   "execution_count": 8,
   "metadata": {
    "ExecuteTime": {
     "end_time": "2024-01-25T13:04:41.453139300Z",
     "start_time": "2024-01-25T13:04:41.201800200Z"
    }
   },
   "outputs": [
    {
     "data": {
      "text/plain": "9"
     },
     "execution_count": 8,
     "metadata": {},
     "output_type": "execute_result"
    }
   ],
   "source": [
    "3*(2+1)"
   ]
  },
  {
   "cell_type": "code",
   "execution_count": 9,
   "metadata": {
    "ExecuteTime": {
     "end_time": "2024-01-25T13:04:41.645560900Z",
     "start_time": "2024-01-25T13:04:41.406426100Z"
    }
   },
   "outputs": [
    {
     "data": {
      "text/plain": "9"
     },
     "execution_count": 9,
     "metadata": {},
     "output_type": "execute_result"
    }
   ],
   "source": [
    "3*3"
   ]
  },
  {
   "cell_type": "code",
   "execution_count": 10,
   "metadata": {
    "ExecuteTime": {
     "end_time": "2024-01-25T13:04:41.779984900Z",
     "start_time": "2024-01-25T13:04:41.633334400Z"
    }
   },
   "outputs": [
    {
     "data": {
      "text/plain": "9"
     },
     "execution_count": 10,
     "metadata": {},
     "output_type": "execute_result"
    }
   ],
   "source": [
    "3**2"
   ]
  },
  {
   "cell_type": "code",
   "execution_count": 11,
   "metadata": {
    "ExecuteTime": {
     "end_time": "2024-01-25T13:04:41.996890Z",
     "start_time": "2024-01-25T13:04:41.768546500Z"
    }
   },
   "outputs": [
    {
     "data": {
      "text/plain": "3.0"
     },
     "execution_count": 11,
     "metadata": {},
     "output_type": "execute_result"
    }
   ],
   "source": [
    "9/3"
   ]
  },
  {
   "cell_type": "code",
   "execution_count": 12,
   "metadata": {
    "ExecuteTime": {
     "end_time": "2024-01-25T13:04:42.135308200Z",
     "start_time": "2024-01-25T13:04:41.993339900Z"
    }
   },
   "outputs": [
    {
     "data": {
      "text/plain": "int"
     },
     "execution_count": 12,
     "metadata": {},
     "output_type": "execute_result"
    }
   ],
   "source": [
    "type(9)"
   ]
  },
  {
   "cell_type": "code",
   "execution_count": 13,
   "metadata": {
    "ExecuteTime": {
     "end_time": "2024-01-25T13:04:42.315137500Z",
     "start_time": "2024-01-25T13:04:42.098404600Z"
    }
   },
   "outputs": [
    {
     "data": {
      "text/plain": "float"
     },
     "execution_count": 13,
     "metadata": {},
     "output_type": "execute_result"
    }
   ],
   "source": [
    "type(3.0)"
   ]
  },
  {
   "cell_type": "markdown",
   "metadata": {
    "ExecuteTime": {
     "end_time": "2021-05-01T21:35:22.168826Z",
     "start_time": "2021-05-01T21:35:22.151636Z"
    }
   },
   "source": [
    "__Tabela resumo contendo as operações mencionadas até agora__\n",
    "\n",
    "\n",
    "| Operação      | Operador   | Exemplos | Resultado|\n",
    "|---------------|------------|----------|----------|\n",
    "| Soma          |``+``       | ``1+1``  | ``2``    |\n",
    "| Subtração     |``-``       | ``3-1``  | ``2``    |\n",
    "| Multiplicação |``*``       | ``2*1``  | ``2``    |\n",
    "| Divisão       |``/``       | ``4/2``  | ``2``    |\n",
    "| Potenciação   |``**``      | ``2**2`` | ``4``    |\n",
    "\n",
    "\n"
   ]
  },
  {
   "cell_type": "markdown",
   "metadata": {},
   "source": [
    "## 5.0 - Ordem de execução\n",
    "\n",
    "A ordem de execução é a seguinte: primeiro resolve-se operações dentro de parêntesis, em seguida esta ordem:  \\*\\*, \\*, / , // , %, + e - . Parêntesis podem ser utilizados para manter a legibilidade do código, no entanto, não se aconselha terem-se linhas de código muito extensas.\n",
    "\n",
    "Alguns exemplos:"
   ]
  },
  {
   "cell_type": "code",
   "execution_count": 14,
   "metadata": {
    "ExecuteTime": {
     "end_time": "2024-01-25T13:04:42.424283200Z",
     "start_time": "2024-01-25T13:04:42.263351900Z"
    }
   },
   "outputs": [
    {
     "data": {
      "text/plain": "1729"
     },
     "execution_count": 14,
     "metadata": {},
     "output_type": "execute_result"
    }
   ],
   "source": [
    "10 ** 3 + 9 ** 3"
   ]
  },
  {
   "cell_type": "code",
   "execution_count": 15,
   "metadata": {
    "ExecuteTime": {
     "end_time": "2024-01-25T13:04:42.677077700Z",
     "start_time": "2024-01-25T13:04:42.410637Z"
    }
   },
   "outputs": [
    {
     "data": {
      "text/plain": "1000"
     },
     "execution_count": 15,
     "metadata": {},
     "output_type": "execute_result"
    }
   ],
   "source": [
    "10 ** 3"
   ]
  },
  {
   "cell_type": "code",
   "execution_count": 16,
   "metadata": {
    "ExecuteTime": {
     "end_time": "2024-01-25T13:04:42.840465400Z",
     "start_time": "2024-01-25T13:04:42.656506700Z"
    }
   },
   "outputs": [
    {
     "data": {
      "text/plain": "729"
     },
     "execution_count": 16,
     "metadata": {},
     "output_type": "execute_result"
    }
   ],
   "source": [
    "9 ** 3"
   ]
  },
  {
   "cell_type": "code",
   "execution_count": 17,
   "metadata": {
    "ExecuteTime": {
     "end_time": "2024-01-25T13:04:43.001528400Z",
     "start_time": "2024-01-25T13:04:42.823121100Z"
    }
   },
   "outputs": [
    {
     "data": {
      "text/plain": "1729"
     },
     "execution_count": 17,
     "metadata": {},
     "output_type": "execute_result"
    }
   ],
   "source": [
    "1000 + 729"
   ]
  },
  {
   "cell_type": "markdown",
   "metadata": {},
   "source": [
    "Neste exemplo de cima se resolvem primeiro as potencias (10 ** 3) e (9 ** 2) e em seguida a soma: 1000 + 729"
   ]
  },
  {
   "cell_type": "code",
   "execution_count": 18,
   "metadata": {
    "ExecuteTime": {
     "end_time": "2024-01-25T13:04:43.123115800Z",
     "start_time": "2024-01-25T13:04:42.960244100Z"
    }
   },
   "outputs": [
    {
     "data": {
      "text/plain": "12"
     },
     "execution_count": 18,
     "metadata": {},
     "output_type": "execute_result"
    }
   ],
   "source": [
    "3 + 2 * 2 ** 2 + 1"
   ]
  },
  {
   "cell_type": "markdown",
   "metadata": {},
   "source": [
    "é bem diferente desse:"
   ]
  },
  {
   "cell_type": "code",
   "execution_count": 19,
   "metadata": {
    "ExecuteTime": {
     "end_time": "2024-01-25T13:04:43.364020300Z",
     "start_time": "2024-01-25T13:04:43.092190900Z"
    }
   },
   "outputs": [
    {
     "data": {
      "text/plain": "21"
     },
     "execution_count": 19,
     "metadata": {},
     "output_type": "execute_result"
    }
   ],
   "source": [
    "(3 + 2) * 2 ** 2 + 1"
   ]
  },
  {
   "cell_type": "markdown",
   "metadata": {},
   "source": [
    "Se quisermos resolver a conta da esquerda para a direita precisaremos de parêntesis ou alterar a ordem das operações."
   ]
  },
  {
   "cell_type": "code",
   "execution_count": 20,
   "metadata": {
    "ExecuteTime": {
     "end_time": "2024-01-25T13:04:43.554102600Z",
     "start_time": "2024-01-25T13:04:43.363020700Z"
    }
   },
   "outputs": [
    {
     "data": {
      "text/plain": "101"
     },
     "execution_count": 20,
     "metadata": {},
     "output_type": "execute_result"
    }
   ],
   "source": [
    "((3 + 2) * 2) ** 2 + 1"
   ]
  },
  {
   "cell_type": "code",
   "execution_count": 21,
   "metadata": {
    "ExecuteTime": {
     "end_time": "2024-01-25T13:04:43.959102600Z",
     "start_time": "2024-01-25T13:04:43.513570200Z"
    }
   },
   "outputs": [
    {
     "data": {
      "text/plain": "12"
     },
     "execution_count": 21,
     "metadata": {},
     "output_type": "execute_result"
    }
   ],
   "source": [
    "2 ** 2 * 2 + 3 + 1"
   ]
  },
  {
   "cell_type": "markdown",
   "metadata": {},
   "source": [
    "Nessa próxima expressão, resolve-se primeiro a conta dos parêntesis, depois a potência, depois a multiplicação, e por último a subtração.\n",
    "\n",
    "Expressão: 9 * (1 + 2) ** 2 - 1\n",
    "\n",
    "- 9 * <span style=\"color:red\">(1 + 2)</span> ** 2 - 1\n",
    "- 9 * <span style=\"color:red\">3 ** 2</span> - 1\n",
    "- <span style=\"color:red\">9 * 9</span> - 1\n",
    "- <span style=\"color:red\">81 - 1</span>\n",
    "- <span style=\"color:red\">80</span>"
   ]
  },
  {
   "cell_type": "code",
   "execution_count": 22,
   "metadata": {
    "ExecuteTime": {
     "end_time": "2024-01-25T13:04:44.352520700Z",
     "start_time": "2024-01-25T13:04:43.872244400Z"
    }
   },
   "outputs": [
    {
     "data": {
      "text/plain": "80"
     },
     "execution_count": 22,
     "metadata": {},
     "output_type": "execute_result"
    }
   ],
   "source": [
    "9*(1+2)**2-1"
   ]
  },
  {
   "cell_type": "markdown",
   "metadata": {},
   "source": [
    "## 6.0 - Operadores de Atribuição\n",
    "No Python existem três tipos de operadores de atribuição numérica que visam simplificar a leitura do código.\n"
   ]
  },
  {
   "cell_type": "markdown",
   "metadata": {},
   "source": [
    "\n",
    "| Operador       | Exemplo         | Exemplo         |\n",
    "| :------------- | :----------:    | :----------:    |\n",
    "| =              | a = 1           | a = 1           |\n",
    "| +=             | b += 2          | b = b+1         |\n",
    "| -=             | c -= 3          | c = c - 3       |"
   ]
  },
  {
   "cell_type": "markdown",
   "metadata": {},
   "source": [
    "### 6.1 - Atribuição múltipla\n",
    "\n",
    "Se pode também atribuir valor a diversas variáveis em uma única linha como no exemplo abaixo:\n",
    "\n",
    "```\n",
    "a, b, c = 1, 42, 1729\n",
    "```\n",
    "\n",
    "é equivalente a:\n",
    "```\n",
    "a = 1\n",
    "b = 42\n",
    "c = 1729\n",
    "```"
   ]
  },
  {
   "cell_type": "code",
   "execution_count": 22,
   "metadata": {
    "ExecuteTime": {
     "end_time": "2024-01-25T13:04:44.538681700Z",
     "start_time": "2024-01-25T13:04:44.175651500Z"
    }
   },
   "outputs": [],
   "source": []
  },
  {
   "cell_type": "code",
   "execution_count": 22,
   "metadata": {
    "ExecuteTime": {
     "end_time": "2024-01-25T13:04:44.776155Z",
     "start_time": "2024-01-25T13:04:44.499994300Z"
    }
   },
   "outputs": [],
   "source": []
  },
  {
   "cell_type": "markdown",
   "metadata": {},
   "source": [
    "# Aula 2 - Tipos de dados"
   ]
  },
  {
   "cell_type": "markdown",
   "metadata": {},
   "source": [
    "## 1.0 - Inteiros ``int``\n",
    "Qualquer número tanto positivo quanto negativo sem casa decimal é do tipo inteiro."
   ]
  },
  {
   "cell_type": "code",
   "execution_count": 23,
   "metadata": {
    "ExecuteTime": {
     "end_time": "2024-01-25T13:04:44.899727900Z",
     "start_time": "2024-01-25T13:04:44.753550100Z"
    }
   },
   "outputs": [
    {
     "data": {
      "text/plain": "int"
     },
     "execution_count": 23,
     "metadata": {},
     "output_type": "execute_result"
    }
   ],
   "source": [
    "type(10)"
   ]
  },
  {
   "cell_type": "code",
   "execution_count": 24,
   "metadata": {
    "ExecuteTime": {
     "end_time": "2024-01-25T13:04:45.055408400Z",
     "start_time": "2024-01-25T13:04:44.866424900Z"
    }
   },
   "outputs": [
    {
     "data": {
      "text/plain": "int"
     },
     "execution_count": 24,
     "metadata": {},
     "output_type": "execute_result"
    }
   ],
   "source": [
    "type(11231232132131231)"
   ]
  },
  {
   "cell_type": "code",
   "execution_count": 25,
   "metadata": {
    "ExecuteTime": {
     "end_time": "2024-01-25T13:04:45.207980400Z",
     "start_time": "2024-01-25T13:04:45.040895Z"
    }
   },
   "outputs": [
    {
     "data": {
      "text/plain": "int"
     },
     "execution_count": 25,
     "metadata": {},
     "output_type": "execute_result"
    }
   ],
   "source": [
    "type(111111111111111111111111111111111111111111111111111111111111111111111111111111111)"
   ]
  },
  {
   "cell_type": "code",
   "execution_count": 26,
   "metadata": {
    "scrolled": false,
    "ExecuteTime": {
     "end_time": "2024-01-25T13:04:45.384439400Z",
     "start_time": "2024-01-25T13:04:45.188308600Z"
    }
   },
   "outputs": [
    {
     "data": {
      "text/plain": "int"
     },
     "execution_count": 26,
     "metadata": {},
     "output_type": "execute_result"
    }
   ],
   "source": [
    "x = 1\n",
    "type(x)"
   ]
  },
  {
   "cell_type": "code",
   "execution_count": 27,
   "metadata": {
    "ExecuteTime": {
     "end_time": "2024-01-25T13:04:45.492206600Z",
     "start_time": "2024-01-25T13:04:45.369628Z"
    }
   },
   "outputs": [
    {
     "data": {
      "text/plain": "10"
     },
     "execution_count": 27,
     "metadata": {},
     "output_type": "execute_result"
    }
   ],
   "source": [
    "x*10"
   ]
  },
  {
   "cell_type": "code",
   "execution_count": 28,
   "metadata": {
    "ExecuteTime": {
     "end_time": "2024-01-25T13:04:45.689767300Z",
     "start_time": "2024-01-25T13:04:45.489880100Z"
    }
   },
   "outputs": [],
   "source": [
    "y = x*10"
   ]
  },
  {
   "cell_type": "code",
   "execution_count": 29,
   "metadata": {
    "ExecuteTime": {
     "end_time": "2024-01-25T13:04:45.799797400Z",
     "start_time": "2024-01-25T13:04:45.683758100Z"
    }
   },
   "outputs": [
    {
     "data": {
      "text/plain": "int"
     },
     "execution_count": 29,
     "metadata": {},
     "output_type": "execute_result"
    }
   ],
   "source": [
    "type(y)"
   ]
  },
  {
   "cell_type": "markdown",
   "metadata": {},
   "source": [
    "## 2.0 - Ponto flutuante ``float``\n",
    "O número que possui alguma casa decimal é float."
   ]
  },
  {
   "cell_type": "code",
   "execution_count": 30,
   "metadata": {
    "ExecuteTime": {
     "end_time": "2024-01-25T13:04:45.950095700Z",
     "start_time": "2024-01-25T13:04:45.792771600Z"
    }
   },
   "outputs": [
    {
     "data": {
      "text/plain": "float"
     },
     "execution_count": 30,
     "metadata": {},
     "output_type": "execute_result"
    }
   ],
   "source": [
    "type(3.14)"
   ]
  },
  {
   "cell_type": "code",
   "execution_count": 31,
   "metadata": {
    "ExecuteTime": {
     "end_time": "2024-01-25T13:04:46.049856900Z",
     "start_time": "2024-01-25T13:04:45.938558200Z"
    }
   },
   "outputs": [
    {
     "data": {
      "text/plain": "5.0"
     },
     "execution_count": 31,
     "metadata": {},
     "output_type": "execute_result"
    }
   ],
   "source": [
    "2*2.5"
   ]
  },
  {
   "cell_type": "markdown",
   "metadata": {},
   "source": [
    "A multiplicação que contém pelo menos 1 float gera um float como resultado, mesmo se o resultado for um número inteiro"
   ]
  },
  {
   "cell_type": "code",
   "execution_count": 32,
   "metadata": {
    "ExecuteTime": {
     "end_time": "2024-01-25T13:04:46.218008300Z",
     "start_time": "2024-01-25T13:04:46.036260300Z"
    }
   },
   "outputs": [
    {
     "data": {
      "text/plain": "float"
     },
     "execution_count": 32,
     "metadata": {},
     "output_type": "execute_result"
    }
   ],
   "source": [
    "type(2*2.5)"
   ]
  },
  {
   "cell_type": "markdown",
   "metadata": {},
   "source": [
    "A operação de divisão sempre gera um float como resultado, mesmo sendo entre dois números inteiros"
   ]
  },
  {
   "cell_type": "code",
   "execution_count": 33,
   "metadata": {
    "ExecuteTime": {
     "end_time": "2024-01-25T13:04:46.325946500Z",
     "start_time": "2024-01-25T13:04:46.187926400Z"
    }
   },
   "outputs": [
    {
     "data": {
      "text/plain": "int"
     },
     "execution_count": 33,
     "metadata": {},
     "output_type": "execute_result"
    }
   ],
   "source": [
    "type(2)"
   ]
  },
  {
   "cell_type": "code",
   "execution_count": 34,
   "metadata": {
    "ExecuteTime": {
     "end_time": "2024-01-25T13:04:46.516003500Z",
     "start_time": "2024-01-25T13:04:46.311345300Z"
    }
   },
   "outputs": [
    {
     "data": {
      "text/plain": "int"
     },
     "execution_count": 34,
     "metadata": {},
     "output_type": "execute_result"
    }
   ],
   "source": [
    "type(1)"
   ]
  },
  {
   "cell_type": "code",
   "execution_count": 35,
   "metadata": {
    "ExecuteTime": {
     "end_time": "2024-01-25T13:04:46.603748500Z",
     "start_time": "2024-01-25T13:04:46.503467500Z"
    }
   },
   "outputs": [
    {
     "data": {
      "text/plain": "float"
     },
     "execution_count": 35,
     "metadata": {},
     "output_type": "execute_result"
    }
   ],
   "source": [
    "type(2/1)"
   ]
  },
  {
   "cell_type": "markdown",
   "metadata": {},
   "source": [
    "Existe uma função dentro do python que transforma um número inteiro em float"
   ]
  },
  {
   "cell_type": "code",
   "execution_count": 36,
   "metadata": {
    "ExecuteTime": {
     "end_time": "2024-01-25T13:04:46.793814700Z",
     "start_time": "2024-01-25T13:04:46.590395800Z"
    }
   },
   "outputs": [
    {
     "data": {
      "text/plain": "1.0"
     },
     "execution_count": 36,
     "metadata": {},
     "output_type": "execute_result"
    }
   ],
   "source": [
    "float(1)"
   ]
  },
  {
   "cell_type": "markdown",
   "metadata": {},
   "source": [
    "## 3.0 - Cadeia de caractere (Texto) ``str``\n"
   ]
  },
  {
   "cell_type": "markdown",
   "metadata": {},
   "source": [
    "Dados tipo ``str`` são cadeias de caracteres, como \"batatinha\", \"1729\" e \"Rua Saturnino de Brito, 74\". Observe que mesmo o \"1729\" não é um número, e sim uma cadeia de cacteres (ou str), portanto não é passível de operações matemáticas a menos que seja convertido pra int ou float.\n",
    "\n",
    "Variáveis com dados tipo str podem ser criadas diretamente utilizando-se o operador de atribuição \"=\" e as aspas simples [' '] ou aspas duplas [\" \"] e não há diferença entre elas. Ficará claro nos exemplos abaixo:"
   ]
  },
  {
   "cell_type": "code",
   "execution_count": 37,
   "metadata": {
    "ExecuteTime": {
     "end_time": "2024-01-25T13:04:46.914970Z",
     "start_time": "2024-01-25T13:04:46.781272100Z"
    }
   },
   "outputs": [],
   "source": [
    "pergunta = \"biscoito ou bolacha?\"\n",
    "resposta = 'bolacha'\n",
    "numero_em_texto = '1729'"
   ]
  },
  {
   "cell_type": "code",
   "execution_count": 38,
   "metadata": {
    "ExecuteTime": {
     "end_time": "2024-01-25T13:04:47.074069300Z",
     "start_time": "2024-01-25T13:04:46.893334100Z"
    }
   },
   "outputs": [
    {
     "data": {
      "text/plain": "str"
     },
     "execution_count": 38,
     "metadata": {},
     "output_type": "execute_result"
    }
   ],
   "source": [
    "type(resposta)"
   ]
  },
  {
   "cell_type": "code",
   "execution_count": 39,
   "metadata": {
    "ExecuteTime": {
     "end_time": "2024-01-25T13:04:47.152771600Z",
     "start_time": "2024-01-25T13:04:47.062148100Z"
    }
   },
   "outputs": [
    {
     "data": {
      "text/plain": "str"
     },
     "execution_count": 39,
     "metadata": {},
     "output_type": "execute_result"
    }
   ],
   "source": [
    "type(numero_em_texto)"
   ]
  },
  {
   "cell_type": "code",
   "execution_count": 40,
   "metadata": {
    "ExecuteTime": {
     "end_time": "2024-01-25T13:04:47.336751200Z",
     "start_time": "2024-01-25T13:04:47.151255800Z"
    }
   },
   "outputs": [
    {
     "data": {
      "text/plain": "int"
     },
     "execution_count": 40,
     "metadata": {},
     "output_type": "execute_result"
    }
   ],
   "source": [
    "type(int(numero_em_texto))"
   ]
  },
  {
   "cell_type": "code",
   "execution_count": 40,
   "metadata": {
    "ExecuteTime": {
     "end_time": "2024-01-25T13:04:47.402278500Z",
     "start_time": "2024-01-25T13:04:47.307650500Z"
    }
   },
   "outputs": [],
   "source": []
  },
  {
   "cell_type": "markdown",
   "metadata": {
    "ExecuteTime": {
     "end_time": "2021-05-02T01:15:18.359903Z",
     "start_time": "2021-05-02T01:15:18.339802Z"
    }
   },
   "source": [
    "No **jupyter notebook**, quando você roda uma célula com uma variável no final, você vê o feedback com o valor dela na sequencia. O que não ocorre se o nome da variável não estiver no final da célula, nesses casos você pode utilizar a função *print()*."
   ]
  },
  {
   "cell_type": "code",
   "execution_count": 41,
   "metadata": {
    "ExecuteTime": {
     "end_time": "2024-01-25T13:04:47.631680900Z",
     "start_time": "2024-01-25T13:04:47.390959Z"
    }
   },
   "outputs": [
    {
     "data": {
      "text/plain": "'1729'"
     },
     "execution_count": 41,
     "metadata": {},
     "output_type": "execute_result"
    }
   ],
   "source": [
    "pergunta\n",
    "resposta\n",
    "numero_em_texto"
   ]
  },
  {
   "cell_type": "code",
   "execution_count": 42,
   "metadata": {
    "ExecuteTime": {
     "end_time": "2024-01-25T13:04:47.777269200Z",
     "start_time": "2024-01-25T13:04:47.610606900Z"
    }
   },
   "outputs": [
    {
     "name": "stdout",
     "output_type": "stream",
     "text": [
      "biscoito ou bolacha?\n",
      "bolacha\n",
      "1729\n"
     ]
    }
   ],
   "source": [
    "print(pergunta)\n",
    "print(resposta)\n",
    "print(numero_em_texto)"
   ]
  },
  {
   "cell_type": "markdown",
   "metadata": {},
   "source": [
    "A função len() pode ser usada para calcular o tamanho do texto. O python tem diversas funções úteis para manipulação de texto."
   ]
  },
  {
   "cell_type": "code",
   "execution_count": 43,
   "metadata": {
    "ExecuteTime": {
     "end_time": "2024-01-25T13:04:48.045689Z",
     "start_time": "2024-01-25T13:04:47.750427500Z"
    }
   },
   "outputs": [
    {
     "data": {
      "text/plain": "7"
     },
     "execution_count": 43,
     "metadata": {},
     "output_type": "execute_result"
    }
   ],
   "source": [
    "len(resposta)"
   ]
  },
  {
   "cell_type": "code",
   "execution_count": 44,
   "metadata": {
    "ExecuteTime": {
     "end_time": "2024-01-25T13:04:48.188464300Z",
     "start_time": "2024-01-25T13:04:48.030086400Z"
    }
   },
   "outputs": [
    {
     "data": {
      "text/plain": "'BOLACHA'"
     },
     "execution_count": 44,
     "metadata": {},
     "output_type": "execute_result"
    }
   ],
   "source": [
    "resposta.upper()"
   ]
  },
  {
   "cell_type": "code",
   "execution_count": 45,
   "metadata": {
    "ExecuteTime": {
     "end_time": "2024-01-25T13:04:48.379029Z",
     "start_time": "2024-01-25T13:04:48.167881200Z"
    }
   },
   "outputs": [
    {
     "data": {
      "text/plain": "'biscoito ou bolacha?bolacha'"
     },
     "execution_count": 45,
     "metadata": {},
     "output_type": "execute_result"
    }
   ],
   "source": [
    "pergunta + resposta"
   ]
  },
  {
   "cell_type": "code",
   "execution_count": 46,
   "metadata": {
    "ExecuteTime": {
     "end_time": "2024-01-25T13:04:48.478672Z",
     "start_time": "2024-01-25T13:04:48.365472100Z"
    }
   },
   "outputs": [
    {
     "data": {
      "text/plain": "'biscoito ou bolacha? bolacha'"
     },
     "execution_count": 46,
     "metadata": {},
     "output_type": "execute_result"
    }
   ],
   "source": [
    "pergunta + ' ' + resposta"
   ]
  },
  {
   "cell_type": "code",
   "execution_count": 47,
   "metadata": {
    "ExecuteTime": {
     "end_time": "2024-01-25T13:04:48.653265500Z",
     "start_time": "2024-01-25T13:04:48.464040300Z"
    }
   },
   "outputs": [
    {
     "data": {
      "text/plain": "'bolachabolachabolachabolachabolacha'"
     },
     "execution_count": 47,
     "metadata": {},
     "output_type": "execute_result"
    }
   ],
   "source": [
    "5 * resposta"
   ]
  },
  {
   "cell_type": "code",
   "execution_count": 48,
   "metadata": {
    "ExecuteTime": {
     "end_time": "2024-01-25T13:04:48.779102800Z",
     "start_time": "2024-01-25T13:04:48.639857400Z"
    }
   },
   "outputs": [
    {
     "data": {
      "text/plain": "'b'"
     },
     "execution_count": 48,
     "metadata": {},
     "output_type": "execute_result"
    }
   ],
   "source": [
    "pergunta[0]"
   ]
  },
  {
   "cell_type": "markdown",
   "metadata": {},
   "source": [
    "## 4.0 - Booleano ``boolean``\n",
    "\n",
    "A simbologia lógica, ou booleana, foi inventada por [George Boole](https://pt.wikipedia.org/wiki/George_Boole) e tem uma importância histórica marcante na matemática e na computação desde então. Trata-se da representação de conceitos lógicos como \"verdadeiro\" e \"falso\" e de operações sobre esses conceitos. \n",
    "\n",
    "No Python, tipos **booleanos** recebem dois possíveis valores: *True* e *False* (1 e 0 respectivamente). Há operadores lógicos específicos que retornam booleanos, e têm usos diversos em programação:\n"
   ]
  },
  {
   "cell_type": "code",
   "execution_count": 49,
   "metadata": {
    "ExecuteTime": {
     "end_time": "2024-01-25T13:04:49.014407700Z",
     "start_time": "2024-01-25T13:04:48.773792300Z"
    }
   },
   "outputs": [
    {
     "data": {
      "text/plain": "bool"
     },
     "execution_count": 49,
     "metadata": {},
     "output_type": "execute_result"
    }
   ],
   "source": [
    "type(True)"
   ]
  },
  {
   "cell_type": "code",
   "execution_count": 50,
   "metadata": {
    "ExecuteTime": {
     "end_time": "2024-01-25T13:04:49.151129800Z",
     "start_time": "2024-01-25T13:04:49.010375400Z"
    }
   },
   "outputs": [
    {
     "data": {
      "text/plain": "bool"
     },
     "execution_count": 50,
     "metadata": {},
     "output_type": "execute_result"
    }
   ],
   "source": [
    "type(False)"
   ]
  },
  {
   "cell_type": "markdown",
   "metadata": {},
   "source": [
    "O tipo de dado booleano é case sensitive, ou seja, as letras maiúsculas e minúsculas importam e é até indicado pela cor da palavra."
   ]
  },
  {
   "cell_type": "code",
   "execution_count": 51,
   "metadata": {
    "ExecuteTime": {
     "end_time": "2024-01-25T13:04:50.092824800Z",
     "start_time": "2024-01-25T13:04:49.123416500Z"
    }
   },
   "outputs": [
    {
     "ename": "NameError",
     "evalue": "name 'true' is not defined",
     "output_type": "error",
     "traceback": [
      "\u001B[1;31m---------------------------------------------------------------------------\u001B[0m",
      "\u001B[1;31mNameError\u001B[0m                                 Traceback (most recent call last)",
      "Cell \u001B[1;32mIn[51], line 1\u001B[0m\n\u001B[1;32m----> 1\u001B[0m \u001B[38;5;28mtype\u001B[39m(true)\n",
      "\u001B[1;31mNameError\u001B[0m: name 'true' is not defined"
     ]
    }
   ],
   "source": [
    "type(true)"
   ]
  },
  {
   "cell_type": "code",
   "execution_count": null,
   "metadata": {
    "ExecuteTime": {
     "start_time": "2024-01-25T13:04:50.046347600Z"
    }
   },
   "outputs": [],
   "source": [
    "cond = 3 > 10\n",
    "cond"
   ]
  },
  {
   "cell_type": "code",
   "execution_count": null,
   "metadata": {
    "ExecuteTime": {
     "start_time": "2024-01-25T13:04:50.049852500Z"
    }
   },
   "outputs": [],
   "source": [
    "cond = 10 > 3\n",
    "cond"
   ]
  },
  {
   "cell_type": "code",
   "execution_count": null,
   "metadata": {
    "ExecuteTime": {
     "start_time": "2024-01-25T13:04:50.052880100Z"
    }
   },
   "outputs": [],
   "source": [
    "type(cond)"
   ]
  },
  {
   "cell_type": "markdown",
   "metadata": {},
   "source": [
    "Na realidade variáveis Booleanas são números armazenados com 1 único bit, sendo 1 = True e 0 = False. Respondem portanto a operadores matemáticos, mas o resultado será um outro tipo numérico, *int* ou *float*."
   ]
  },
  {
   "cell_type": "code",
   "execution_count": null,
   "metadata": {
    "ExecuteTime": {
     "start_time": "2024-01-25T13:04:50.055879800Z"
    }
   },
   "outputs": [],
   "source": [
    "verdadeiro = True\n",
    "falso = False"
   ]
  },
  {
   "cell_type": "code",
   "execution_count": null,
   "metadata": {
    "ExecuteTime": {
     "start_time": "2024-01-25T13:04:50.057881Z"
    }
   },
   "outputs": [],
   "source": [
    "verdadeiro"
   ]
  },
  {
   "cell_type": "code",
   "execution_count": null,
   "metadata": {
    "ExecuteTime": {
     "start_time": "2024-01-25T13:04:50.060387700Z"
    }
   },
   "outputs": [],
   "source": [
    "verdadeiro * falso"
   ]
  },
  {
   "cell_type": "code",
   "execution_count": null,
   "metadata": {
    "ExecuteTime": {
     "start_time": "2024-01-25T13:04:50.062397100Z"
    }
   },
   "outputs": [],
   "source": [
    "verdadeiro + verdadeiro"
   ]
  },
  {
   "cell_type": "code",
   "execution_count": null,
   "metadata": {
    "ExecuteTime": {
     "start_time": "2024-01-25T13:04:50.065397800Z"
    }
   },
   "outputs": [],
   "source": [
    "verdadeiro * 2.5"
   ]
  },
  {
   "cell_type": "code",
   "execution_count": null,
   "metadata": {
    "ExecuteTime": {
     "start_time": "2024-01-25T13:04:50.067396800Z"
    }
   },
   "outputs": [],
   "source": [
    "type(verdadeiro + verdadeiro)"
   ]
  },
  {
   "cell_type": "code",
   "execution_count": 52,
   "metadata": {
    "ExecuteTime": {
     "end_time": "2024-01-25T13:04:51.422837400Z",
     "start_time": "2024-01-25T13:04:50.096825400Z"
    }
   },
   "outputs": [
    {
     "ename": "NameError",
     "evalue": "name 'verdadeiro' is not defined",
     "output_type": "error",
     "traceback": [
      "\u001B[1;31m---------------------------------------------------------------------------\u001B[0m",
      "\u001B[1;31mNameError\u001B[0m                                 Traceback (most recent call last)",
      "Cell \u001B[1;32mIn[52], line 1\u001B[0m\n\u001B[1;32m----> 1\u001B[0m \u001B[38;5;28mtype\u001B[39m(verdadeiro \u001B[38;5;241m*\u001B[39m \u001B[38;5;241m2.5\u001B[39m)\n",
      "\u001B[1;31mNameError\u001B[0m: name 'verdadeiro' is not defined"
     ]
    }
   ],
   "source": [
    "type(verdadeiro * 2.5)"
   ]
  },
  {
   "cell_type": "markdown",
   "metadata": {},
   "source": [
    "### 4.1 - Operadores *booleanos*\n",
    "\n",
    "\n",
    "| Operador          |Operação                                                     | Expressão                 |  Resultado    |\n",
    "| :-------:         |:-----------------------------------------------------------:| :-------------------:     |  :----------: |\n",
    "| ``==``            | Avalia se ambos os valores são iguais                       |    ``3 == 2``             |     False     |\n",
    "| ``>``             | Avalia se o valor da esquerda é maior que o da direita      |    ``7 > 5``              |     True      |\n",
    "| ``>=``            | Avalia se o valor da esquerda é maior ou igual ao da direita|    ``5 >= 5``             |     True      |\n",
    "| ``<``             | Avalia se o valor da esquerda é menor que o da direita      |    ``7 < 5``              |     False     |\n",
    "| ``<=``            | Avalia se o valor da esquerda é menor ou igual ao da direita|    ``7 <= 7``             |     True      |\n",
    "| ``!=``            | Avalia se o valor da esquerda diferente do da direita       |    ``3 != 2``             |     True      |\n",
    "| ``and``           | Avalia se duas expressões são verdadeiras                   | ``2 == 2`` and ``3 == 3`` |     True      |\n",
    "| ``or``            | Avalia se pelo menos uma expressão é verdadeira             | ``2 == 2`` or ``2 != 1``  |     True      |\n",
    "| ``not``           | Inverte a operação booleana à direita                       |  ``not 5 == 7``           |     True      |"
   ]
  },
  {
   "cell_type": "code",
   "execution_count": 53,
   "metadata": {
    "ExecuteTime": {
     "end_time": "2024-01-25T13:04:51.467639400Z",
     "start_time": "2024-01-25T13:04:50.770990600Z"
    }
   },
   "outputs": [
    {
     "data": {
      "text/plain": "False"
     },
     "execution_count": 53,
     "metadata": {},
     "output_type": "execute_result"
    }
   ],
   "source": [
    "2 == 3"
   ]
  },
  {
   "cell_type": "code",
   "execution_count": 54,
   "metadata": {
    "ExecuteTime": {
     "end_time": "2024-01-25T13:04:51.656941300Z",
     "start_time": "2024-01-25T13:04:51.466587100Z"
    }
   },
   "outputs": [
    {
     "data": {
      "text/plain": "False"
     },
     "execution_count": 54,
     "metadata": {},
     "output_type": "execute_result"
    }
   ],
   "source": [
    "2 > 3"
   ]
  },
  {
   "cell_type": "code",
   "execution_count": 55,
   "metadata": {
    "ExecuteTime": {
     "end_time": "2024-01-25T13:04:51.813552400Z",
     "start_time": "2024-01-25T13:04:51.618637100Z"
    }
   },
   "outputs": [
    {
     "ename": "NameError",
     "evalue": "name 'verdadeiro' is not defined",
     "output_type": "error",
     "traceback": [
      "\u001B[1;31m---------------------------------------------------------------------------\u001B[0m",
      "\u001B[1;31mNameError\u001B[0m                                 Traceback (most recent call last)",
      "Cell \u001B[1;32mIn[55], line 1\u001B[0m\n\u001B[1;32m----> 1\u001B[0m verdadeiro \u001B[38;5;129;01mand\u001B[39;00m verdadeiro\n",
      "\u001B[1;31mNameError\u001B[0m: name 'verdadeiro' is not defined"
     ]
    }
   ],
   "source": [
    "verdadeiro and verdadeiro"
   ]
  },
  {
   "cell_type": "code",
   "execution_count": 56,
   "metadata": {
    "ExecuteTime": {
     "start_time": "2024-01-25T13:04:51.715007900Z"
    }
   },
   "outputs": [
    {
     "ename": "NameError",
     "evalue": "name 'verdadeiro' is not defined",
     "output_type": "error",
     "traceback": [
      "\u001B[1;31m---------------------------------------------------------------------------\u001B[0m",
      "\u001B[1;31mNameError\u001B[0m                                 Traceback (most recent call last)",
      "Cell \u001B[1;32mIn[56], line 1\u001B[0m\n\u001B[1;32m----> 1\u001B[0m \u001B[38;5;28mint\u001B[39m(verdadeiro \u001B[38;5;129;01mand\u001B[39;00m verdadeiro)\n",
      "\u001B[1;31mNameError\u001B[0m: name 'verdadeiro' is not defined"
     ]
    }
   ],
   "source": [
    "int(verdadeiro and verdadeiro)"
   ]
  },
  {
   "cell_type": "code",
   "execution_count": 57,
   "metadata": {
    "ExecuteTime": {
     "end_time": "2024-01-25T13:04:52.146776600Z",
     "start_time": "2024-01-25T13:04:51.928384300Z"
    }
   },
   "outputs": [
    {
     "data": {
      "text/plain": "True"
     },
     "execution_count": 57,
     "metadata": {},
     "output_type": "execute_result"
    }
   ],
   "source": [
    "bool(1)"
   ]
  },
  {
   "cell_type": "code",
   "execution_count": 58,
   "metadata": {
    "ExecuteTime": {
     "end_time": "2024-01-25T13:04:52.200969100Z",
     "start_time": "2024-01-25T13:04:52.122461300Z"
    }
   },
   "outputs": [
    {
     "ename": "NameError",
     "evalue": "name 'verdadeiro' is not defined",
     "output_type": "error",
     "traceback": [
      "\u001B[1;31m---------------------------------------------------------------------------\u001B[0m",
      "\u001B[1;31mNameError\u001B[0m                                 Traceback (most recent call last)",
      "Cell \u001B[1;32mIn[58], line 1\u001B[0m\n\u001B[1;32m----> 1\u001B[0m verdadeiro \u001B[38;5;129;01mor\u001B[39;00m falso\n",
      "\u001B[1;31mNameError\u001B[0m: name 'verdadeiro' is not defined"
     ]
    }
   ],
   "source": [
    "verdadeiro or falso"
   ]
  },
  {
   "cell_type": "code",
   "execution_count": 59,
   "metadata": {
    "ExecuteTime": {
     "start_time": "2024-01-25T13:04:52.198431600Z"
    }
   },
   "outputs": [
    {
     "ename": "NameError",
     "evalue": "name 'verdadeiro' is not defined",
     "output_type": "error",
     "traceback": [
      "\u001B[1;31m---------------------------------------------------------------------------\u001B[0m",
      "\u001B[1;31mNameError\u001B[0m                                 Traceback (most recent call last)",
      "Cell \u001B[1;32mIn[59], line 1\u001B[0m\n\u001B[1;32m----> 1\u001B[0m verdadeiro \u001B[38;5;129;01mand\u001B[39;00m falso\n",
      "\u001B[1;31mNameError\u001B[0m: name 'verdadeiro' is not defined"
     ]
    }
   ],
   "source": [
    "verdadeiro and falso"
   ]
  },
  {
   "cell_type": "code",
   "execution_count": 60,
   "metadata": {
    "ExecuteTime": {
     "end_time": "2024-01-25T13:04:52.530042Z",
     "start_time": "2024-01-25T13:04:52.389758800Z"
    }
   },
   "outputs": [
    {
     "ename": "NameError",
     "evalue": "name 'verdadeiro' is not defined",
     "output_type": "error",
     "traceback": [
      "\u001B[1;31m---------------------------------------------------------------------------\u001B[0m",
      "\u001B[1;31mNameError\u001B[0m                                 Traceback (most recent call last)",
      "Cell \u001B[1;32mIn[60], line 1\u001B[0m\n\u001B[1;32m----> 1\u001B[0m \u001B[38;5;129;01mnot\u001B[39;00m (verdadeiro \u001B[38;5;129;01mand\u001B[39;00m falso)\n",
      "\u001B[1;31mNameError\u001B[0m: name 'verdadeiro' is not defined"
     ]
    }
   ],
   "source": [
    "not (verdadeiro and falso)"
   ]
  },
  {
   "cell_type": "markdown",
   "metadata": {},
   "source": [
    "**Tabela resumo contendo os tipos básicos mencionados até agora**\n",
    "\n",
    "\n",
    "| Estrutura         | Tipo       | Exemplos       | Descrição                                  |\n",
    "|-------------------|------------|----------------|--------------------------------------------|\n",
    "| Inteiro           |``int``     | ``x = 3``      | Números inteiros                           |\n",
    "| Ponto Flutuante   |``float``   | ``x = 3.14``    | Números reais                              |\n",
    "| Boleano           |``bool``    | ``x = True``   | Verdadeiro ou Falso                        |\n",
    "| Texto             |``str``     | ``x = 'pi'``  | Texto ou caractere                         |\n",
    "\n"
   ]
  },
  {
   "cell_type": "code",
   "execution_count": 60,
   "metadata": {
    "ExecuteTime": {
     "end_time": "2024-01-25T13:04:52.620393300Z",
     "start_time": "2024-01-25T13:04:52.474520900Z"
    }
   },
   "outputs": [],
   "source": []
  },
  {
   "cell_type": "markdown",
   "metadata": {},
   "source": [
    "# Aula 3 - Estruturas"
   ]
  },
  {
   "cell_type": "markdown",
   "metadata": {
    "ExecuteTime": {
     "end_time": "2021-04-28T00:48:21.251467Z",
     "start_time": "2021-04-28T00:48:21.249455Z"
    }
   },
   "source": [
    "# Listas, tuplas, conjuntos e dicionários"
   ]
  },
  {
   "cell_type": "markdown",
   "metadata": {},
   "source": [
    "O Python possui quatro estruturas básicas de dados nativas, que são coleções de dados, cada uma com suas características, e vêm a ajudar em programações mais complexas.\n",
    "\n",
    "As variáveis do Python podem ser classificadas em mutáveis e imutáveis. O conceito é o que se entende mesmo: variáveis mutáveis podem ter seu valor alterado, enquanto que variáveis imutáveis não podem ter seu valor alterado, a menos que se crie uma variável inteiramente nova em seu lugar.\n",
    "\n",
    "As estruturas, além disso, por serem coleções de dados, podem ser classificadas como ordenadas e não ordenadas.\n",
    "\n",
    "As quatro estruturas nativas do Python são:"
   ]
  },
  {
   "cell_type": "markdown",
   "metadata": {},
   "source": [
    "| Estrutura    | Tipo de dado|\n",
    "|--------------|-------------| \n",
    "|**Lista**     | ``list``    |\n",
    "|**Conjunto**  | ``set``     |\n",
    "|**Dicionário**| ``dict``    |\n",
    "|**Tupla**     | ``tuple``   |\n"
   ]
  },
  {
   "cell_type": "markdown",
   "metadata": {},
   "source": [
    "## 1.0 - Listas ``list``\n",
    "Listas são coleções de dados ordenados e mutáveis. São definidas por valores entre colchetes separados por vírgula."
   ]
  },
  {
   "cell_type": "code",
   "execution_count": 61,
   "metadata": {
    "ExecuteTime": {
     "end_time": "2024-01-25T13:04:52.792320600Z",
     "start_time": "2024-01-25T13:04:52.617873700Z"
    }
   },
   "outputs": [],
   "source": [
    "lista_1 = [1, 2, 3, 4]"
   ]
  },
  {
   "cell_type": "code",
   "execution_count": 62,
   "metadata": {
    "ExecuteTime": {
     "end_time": "2024-01-25T13:04:52.843504Z",
     "start_time": "2024-01-25T13:04:52.779943300Z"
    }
   },
   "outputs": [
    {
     "data": {
      "text/plain": "[1, 2, 3, 4]"
     },
     "execution_count": 62,
     "metadata": {},
     "output_type": "execute_result"
    }
   ],
   "source": [
    "lista_1"
   ]
  },
  {
   "cell_type": "code",
   "execution_count": 63,
   "metadata": {
    "ExecuteTime": {
     "end_time": "2024-01-25T13:04:52.966021700Z",
     "start_time": "2024-01-25T13:04:52.840493100Z"
    }
   },
   "outputs": [
    {
     "data": {
      "text/plain": "4"
     },
     "execution_count": 63,
     "metadata": {},
     "output_type": "execute_result"
    }
   ],
   "source": [
    "len(lista_1)"
   ]
  },
  {
   "cell_type": "code",
   "execution_count": 64,
   "metadata": {
    "ExecuteTime": {
     "end_time": "2024-01-25T13:04:53.033107100Z",
     "start_time": "2024-01-25T13:04:52.951131800Z"
    }
   },
   "outputs": [
    {
     "data": {
      "text/plain": "[1, 2, 3, 4, 5]"
     },
     "execution_count": 64,
     "metadata": {},
     "output_type": "execute_result"
    }
   ],
   "source": [
    "lista_1.append(5)\n",
    "lista_1"
   ]
  },
  {
   "cell_type": "code",
   "execution_count": 65,
   "metadata": {
    "ExecuteTime": {
     "end_time": "2024-01-25T13:04:53.168588900Z",
     "start_time": "2024-01-25T13:04:53.026490800Z"
    }
   },
   "outputs": [
    {
     "data": {
      "text/plain": "1"
     },
     "execution_count": 65,
     "metadata": {},
     "output_type": "execute_result"
    }
   ],
   "source": [
    "lista_1[0]"
   ]
  },
  {
   "cell_type": "code",
   "execution_count": 66,
   "metadata": {
    "ExecuteTime": {
     "end_time": "2024-01-25T13:04:53.240533300Z",
     "start_time": "2024-01-25T13:04:53.157689700Z"
    }
   },
   "outputs": [
    {
     "data": {
      "text/plain": "[6, 7, 8]"
     },
     "execution_count": 66,
     "metadata": {},
     "output_type": "execute_result"
    }
   ],
   "source": [
    "lista_2 = [6, 7, 8]\n",
    "lista_2"
   ]
  },
  {
   "cell_type": "code",
   "execution_count": 67,
   "metadata": {
    "ExecuteTime": {
     "end_time": "2024-01-25T13:04:53.353544300Z",
     "start_time": "2024-01-25T13:04:53.227283600Z"
    }
   },
   "outputs": [
    {
     "data": {
      "text/plain": "[1, 2, 3, 4, 5, 6, 7, 8]"
     },
     "execution_count": 67,
     "metadata": {},
     "output_type": "execute_result"
    }
   ],
   "source": [
    "lista_1 + lista_2"
   ]
  },
  {
   "cell_type": "code",
   "execution_count": 68,
   "metadata": {
    "ExecuteTime": {
     "end_time": "2024-01-25T13:04:53.418036500Z",
     "start_time": "2024-01-25T13:04:53.337062700Z"
    }
   },
   "outputs": [
    {
     "data": {
      "text/plain": "[8, 7, 6]"
     },
     "execution_count": 68,
     "metadata": {},
     "output_type": "execute_result"
    }
   ],
   "source": [
    "lista_2 = [8, 7, 6]\n",
    "lista_2"
   ]
  },
  {
   "cell_type": "code",
   "execution_count": 69,
   "metadata": {
    "ExecuteTime": {
     "end_time": "2024-01-25T13:04:53.578782700Z",
     "start_time": "2024-01-25T13:04:53.413024400Z"
    }
   },
   "outputs": [
    {
     "data": {
      "text/plain": "[1, 2, 3, 4, 5, 8, 7, 6]"
     },
     "execution_count": 69,
     "metadata": {},
     "output_type": "execute_result"
    }
   ],
   "source": [
    "lista_3 = lista_1 + lista_2\n",
    "lista_3"
   ]
  },
  {
   "cell_type": "code",
   "execution_count": 70,
   "metadata": {
    "ExecuteTime": {
     "end_time": "2024-01-25T13:04:53.642523800Z",
     "start_time": "2024-01-25T13:04:53.557127800Z"
    }
   },
   "outputs": [
    {
     "data": {
      "text/plain": "[1, 2, 3, 4, 5, 6, 7, 8]"
     },
     "execution_count": 70,
     "metadata": {},
     "output_type": "execute_result"
    }
   ],
   "source": [
    "lista_3.sort()\n",
    "lista_3"
   ]
  },
  {
   "cell_type": "code",
   "execution_count": 71,
   "metadata": {
    "ExecuteTime": {
     "end_time": "2024-01-25T13:04:53.827396500Z",
     "start_time": "2024-01-25T13:04:53.630182Z"
    }
   },
   "outputs": [
    {
     "data": {
      "text/plain": "['python', 'Guido van Rossum', 1991]"
     },
     "execution_count": 71,
     "metadata": {},
     "output_type": "execute_result"
    }
   ],
   "source": [
    "lista_com_diferentes_tipos = ['python', 'Guido van Rossum', 1991]\n",
    "lista_com_diferentes_tipos"
   ]
  },
  {
   "cell_type": "markdown",
   "metadata": {},
   "source": [
    "## 2.0 - Tuplas ``tuple``\n",
    "Tuplas são coleções de dados ordenados e imutáveis. São definidas por valores entre parênteses separados por vírgula."
   ]
  },
  {
   "cell_type": "code",
   "execution_count": 72,
   "metadata": {
    "ExecuteTime": {
     "end_time": "2024-01-25T13:04:54.001343200Z",
     "start_time": "2024-01-25T13:04:53.813311Z"
    }
   },
   "outputs": [
    {
     "data": {
      "text/plain": "(12, 34, 56, 'olá!')"
     },
     "execution_count": 72,
     "metadata": {},
     "output_type": "execute_result"
    }
   ],
   "source": [
    "tupla = (12, 34, 56, 'olá!')\n",
    "tupla"
   ]
  },
  {
   "cell_type": "code",
   "execution_count": 73,
   "metadata": {
    "ExecuteTime": {
     "end_time": "2024-01-25T13:04:54.155077400Z",
     "start_time": "2024-01-25T13:04:53.987451500Z"
    }
   },
   "outputs": [
    {
     "data": {
      "text/plain": "(12, 34, 56, 'olá!')"
     },
     "execution_count": 73,
     "metadata": {},
     "output_type": "execute_result"
    }
   ],
   "source": [
    "tupla = 12, 34, 56, 'olá!'\n",
    "tupla"
   ]
  },
  {
   "cell_type": "code",
   "execution_count": 74,
   "metadata": {
    "ExecuteTime": {
     "end_time": "2024-01-25T13:04:54.250849200Z",
     "start_time": "2024-01-25T13:04:54.141304700Z"
    }
   },
   "outputs": [
    {
     "data": {
      "text/plain": "4"
     },
     "execution_count": 74,
     "metadata": {},
     "output_type": "execute_result"
    }
   ],
   "source": [
    "len(tupla)"
   ]
  },
  {
   "cell_type": "code",
   "execution_count": 75,
   "metadata": {
    "ExecuteTime": {
     "end_time": "2024-01-25T13:04:54.385393300Z",
     "start_time": "2024-01-25T13:04:54.249824700Z"
    }
   },
   "outputs": [
    {
     "data": {
      "text/plain": "12"
     },
     "execution_count": 75,
     "metadata": {},
     "output_type": "execute_result"
    }
   ],
   "source": [
    "tupla[0]"
   ]
  },
  {
   "cell_type": "markdown",
   "metadata": {},
   "source": [
    "*Imutável*: Significa que após a tupla ser criada, não conseguimos mais alterar seu tamanho e conteúdo"
   ]
  },
  {
   "cell_type": "code",
   "execution_count": 76,
   "metadata": {
    "ExecuteTime": {
     "end_time": "2024-01-25T13:04:54.430385300Z",
     "start_time": "2024-01-25T13:04:54.346829400Z"
    }
   },
   "outputs": [
    {
     "ename": "TypeError",
     "evalue": "'tuple' object does not support item assignment",
     "output_type": "error",
     "traceback": [
      "\u001B[1;31m---------------------------------------------------------------------------\u001B[0m",
      "\u001B[1;31mTypeError\u001B[0m                                 Traceback (most recent call last)",
      "Cell \u001B[1;32mIn[76], line 1\u001B[0m\n\u001B[1;32m----> 1\u001B[0m tupla[\u001B[38;5;241m0\u001B[39m] \u001B[38;5;241m=\u001B[39m \u001B[38;5;241m88888\u001B[39m\n",
      "\u001B[1;31mTypeError\u001B[0m: 'tuple' object does not support item assignment"
     ]
    }
   ],
   "source": [
    "tupla[0] = 88888"
   ]
  },
  {
   "cell_type": "code",
   "execution_count": 77,
   "metadata": {
    "ExecuteTime": {
     "start_time": "2024-01-25T13:04:54.426875100Z"
    }
   },
   "outputs": [
    {
     "ename": "AttributeError",
     "evalue": "'tuple' object has no attribute 'append'",
     "output_type": "error",
     "traceback": [
      "\u001B[1;31m---------------------------------------------------------------------------\u001B[0m",
      "\u001B[1;31mAttributeError\u001B[0m                            Traceback (most recent call last)",
      "Cell \u001B[1;32mIn[77], line 1\u001B[0m\n\u001B[1;32m----> 1\u001B[0m tupla\u001B[38;5;241m.\u001B[39mappend(\u001B[38;5;241m4\u001B[39m)\n",
      "\u001B[1;31mAttributeError\u001B[0m: 'tuple' object has no attribute 'append'"
     ]
    }
   ],
   "source": [
    "tupla.append(4)"
   ]
  },
  {
   "cell_type": "markdown",
   "metadata": {},
   "source": [
    "A declaração ``tupla = 12, 34, 56, 'olá!'`` é um empacotamento de dados e podemos acessar (ou desempacotar) cada valor contido nele da seguinte maneira:"
   ]
  },
  {
   "cell_type": "code",
   "execution_count": 78,
   "metadata": {
    "ExecuteTime": {
     "end_time": "2024-01-25T13:04:54.651498Z",
     "start_time": "2024-01-25T13:04:54.575567800Z"
    }
   },
   "outputs": [
    {
     "name": "stdout",
     "output_type": "stream",
     "text": [
      "12\n",
      "34\n",
      "56\n",
      "olá!\n"
     ]
    }
   ],
   "source": [
    "a, b, c, d = 12, 34, 56, 'olá!'\n",
    "print(a)\n",
    "print(b)\n",
    "print(c)\n",
    "print(d)"
   ]
  },
  {
   "cell_type": "code",
   "execution_count": 79,
   "metadata": {
    "ExecuteTime": {
     "end_time": "2024-01-25T13:04:54.803348500Z",
     "start_time": "2024-01-25T13:04:54.649985200Z"
    }
   },
   "outputs": [
    {
     "name": "stdout",
     "output_type": "stream",
     "text": [
      "12\n",
      "34\n",
      "56\n",
      "olá!\n"
     ]
    }
   ],
   "source": [
    "a, b, c, d = tupla\n",
    "print(a)\n",
    "print(b)\n",
    "print(c)\n",
    "print(d)"
   ]
  },
  {
   "cell_type": "markdown",
   "metadata": {},
   "source": [
    "## 3.0 - Conjuntos ``set``\n",
    "\n",
    "O terceiro tipo de dado é o conjunto. O conjunto é uma coleção de dados não ordenada com dados não duplicados.\n",
    "\n",
    "Chaves ou a função set() pode ser usada para criar um conjunto."
   ]
  },
  {
   "cell_type": "code",
   "execution_count": 80,
   "metadata": {
    "ExecuteTime": {
     "end_time": "2024-01-25T13:04:54.873019300Z",
     "start_time": "2024-01-25T13:04:54.792376800Z"
    }
   },
   "outputs": [
    {
     "data": {
      "text/plain": "{2, 4, 6, 8, 10}"
     },
     "execution_count": 80,
     "metadata": {},
     "output_type": "execute_result"
    }
   ],
   "source": [
    "pares = {2, 4, 6, 8, 10}\n",
    "pares"
   ]
  },
  {
   "cell_type": "code",
   "execution_count": 81,
   "metadata": {
    "ExecuteTime": {
     "end_time": "2024-01-25T13:04:55.026164500Z",
     "start_time": "2024-01-25T13:04:54.869992600Z"
    }
   },
   "outputs": [
    {
     "data": {
      "text/plain": "{'e', 's', 't'}"
     },
     "execution_count": 81,
     "metadata": {},
     "output_type": "execute_result"
    }
   ],
   "source": [
    "teste = set('teste') #valores unicos em 'teste'\n",
    "teste"
   ]
  },
  {
   "cell_type": "code",
   "execution_count": 82,
   "metadata": {
    "ExecuteTime": {
     "end_time": "2024-01-25T13:04:55.083003600Z",
     "start_time": "2024-01-25T13:04:54.990847Z"
    }
   },
   "outputs": [],
   "source": [
    "impares = {1, 3, 5, 7, 9, 11, 13}\n",
    "primos = {2, 3, 5, 7, 11, 13}"
   ]
  },
  {
   "cell_type": "markdown",
   "metadata": {},
   "source": [
    "Os conjuntos suportam operações matemáticas como união, interseção, diferença e diferença simétrica."
   ]
  },
  {
   "cell_type": "code",
   "execution_count": 83,
   "metadata": {
    "ExecuteTime": {
     "end_time": "2024-01-25T13:04:55.228734100Z",
     "start_time": "2024-01-25T13:04:55.072397200Z"
    }
   },
   "outputs": [
    {
     "data": {
      "text/plain": "{1, 2, 3, 5, 7, 9, 11, 13}"
     },
     "execution_count": 83,
     "metadata": {},
     "output_type": "execute_result"
    }
   ],
   "source": [
    "#União\n",
    "impares | primos # números que são impares ou primos ou os dois"
   ]
  },
  {
   "cell_type": "code",
   "execution_count": 84,
   "metadata": {
    "ExecuteTime": {
     "end_time": "2024-01-25T13:04:55.293707100Z",
     "start_time": "2024-01-25T13:04:55.222423300Z"
    }
   },
   "outputs": [
    {
     "data": {
      "text/plain": "{3, 5, 7, 11, 13}"
     },
     "execution_count": 84,
     "metadata": {},
     "output_type": "execute_result"
    }
   ],
   "source": [
    "#Interseção\n",
    "impares & primos # números impares e primos"
   ]
  },
  {
   "cell_type": "code",
   "execution_count": 85,
   "metadata": {
    "ExecuteTime": {
     "end_time": "2024-01-25T13:04:55.420351900Z",
     "start_time": "2024-01-25T13:04:55.284745700Z"
    }
   },
   "outputs": [
    {
     "data": {
      "text/plain": "{1, 9}"
     },
     "execution_count": 85,
     "metadata": {},
     "output_type": "execute_result"
    }
   ],
   "source": [
    "#Diferença\n",
    "impares - primos # números em impares que não são primos"
   ]
  },
  {
   "cell_type": "code",
   "execution_count": 86,
   "metadata": {
    "ExecuteTime": {
     "end_time": "2024-01-25T13:04:55.516282400Z",
     "start_time": "2024-01-25T13:04:55.417283400Z"
    }
   },
   "outputs": [
    {
     "data": {
      "text/plain": "{1, 2, 9}"
     },
     "execution_count": 86,
     "metadata": {},
     "output_type": "execute_result"
    }
   ],
   "source": [
    "#Diferença simétrica\n",
    "impares ^ primos # números impares ou primos, mas não os dois"
   ]
  },
  {
   "cell_type": "markdown",
   "metadata": {},
   "source": [
    "## 4.0 - Dicionários ``dict``\n",
    "\n",
    "Dicionários são estruturas de dados do tipo ``chave:valor`` e são declarados por valores desse tipo separados por vírgula entre chaves. Podemos entender como um **conjunto** de dados (seção anterior) do tipo ``chave:valor``\n"
   ]
  },
  {
   "cell_type": "code",
   "execution_count": 87,
   "metadata": {
    "ExecuteTime": {
     "end_time": "2024-01-25T13:04:55.632927100Z",
     "start_time": "2024-01-25T13:04:55.478741300Z"
    }
   },
   "outputs": [
    {
     "data": {
      "text/plain": "{'dois': 2, 'quatro': 4, 'seis': 6}"
     },
     "execution_count": 87,
     "metadata": {},
     "output_type": "execute_result"
    }
   ],
   "source": [
    "pares = {'dois':2, 'quatro':4, 'seis':6}\n",
    "pares"
   ]
  },
  {
   "cell_type": "markdown",
   "metadata": {
    "ExecuteTime": {
     "end_time": "2021-05-02T14:47:15.907215Z",
     "start_time": "2021-05-02T14:47:15.901220Z"
    }
   },
   "source": [
    "Diferentemente das sequencias que são indexadas por números, os dicionários são indexados por chaves."
   ]
  },
  {
   "cell_type": "code",
   "execution_count": 88,
   "metadata": {
    "ExecuteTime": {
     "end_time": "2024-01-25T13:04:55.701503900Z",
     "start_time": "2024-01-25T13:04:55.617546400Z"
    }
   },
   "outputs": [
    {
     "data": {
      "text/plain": "3"
     },
     "execution_count": 88,
     "metadata": {},
     "output_type": "execute_result"
    }
   ],
   "source": [
    "lista_1[2]"
   ]
  },
  {
   "cell_type": "code",
   "execution_count": 89,
   "metadata": {
    "ExecuteTime": {
     "end_time": "2024-01-25T13:04:55.868532900Z",
     "start_time": "2024-01-25T13:04:55.688518700Z"
    }
   },
   "outputs": [
    {
     "ename": "KeyError",
     "evalue": "2",
     "output_type": "error",
     "traceback": [
      "\u001B[1;31m---------------------------------------------------------------------------\u001B[0m",
      "\u001B[1;31mKeyError\u001B[0m                                  Traceback (most recent call last)",
      "Cell \u001B[1;32mIn[89], line 1\u001B[0m\n\u001B[1;32m----> 1\u001B[0m pares[\u001B[38;5;241m2\u001B[39m]\n",
      "\u001B[1;31mKeyError\u001B[0m: 2"
     ]
    }
   ],
   "source": [
    "pares[2]"
   ]
  },
  {
   "cell_type": "code",
   "execution_count": 90,
   "metadata": {
    "ExecuteTime": {
     "end_time": "2024-01-25T13:04:55.932744600Z",
     "start_time": "2024-01-25T13:04:55.848945800Z"
    }
   },
   "outputs": [
    {
     "data": {
      "text/plain": "2"
     },
     "execution_count": 90,
     "metadata": {},
     "output_type": "execute_result"
    }
   ],
   "source": [
    "pares['dois']"
   ]
  },
  {
   "cell_type": "markdown",
   "metadata": {},
   "source": [
    "Novos elementos podem ser adicionado usando a indexação:"
   ]
  },
  {
   "cell_type": "code",
   "execution_count": 91,
   "metadata": {
    "ExecuteTime": {
     "end_time": "2024-01-25T13:04:56.071862700Z",
     "start_time": "2024-01-25T13:04:55.921101600Z"
    }
   },
   "outputs": [
    {
     "data": {
      "text/plain": "{'dois': 2, 'quatro': 4, 'seis': 6, 'oito': 8}"
     },
     "execution_count": 91,
     "metadata": {},
     "output_type": "execute_result"
    }
   ],
   "source": [
    "pares['oito'] = 8\n",
    "pares"
   ]
  },
  {
   "cell_type": "markdown",
   "metadata": {},
   "source": [
    "| Estrutura    | Tipo de dado|Descrição                                                    | Exemplo                   |\n",
    "|--------------|-------------|-------------------------------------------------------------|---------------------------| \n",
    "|**Lista**     | ``list``    |Coleção mutável e ordenada de variáveis de qualquer tipo     | ``[1, 2, 3]``             |\n",
    "|**Conjunto**  | ``set``     |Coleção mutável e não ordenada de valores únicos             | ``{1, 2, 3}``             |\n",
    "|**Tupla**     | ``tuple``   |Coleção imutável e ordenada                       | ``(1, 2, 3)``             |\n",
    "|**Dicionário**| ``dict``    |Coleção mutável e não ordenada. Do tipo ``chave:valor``| ``{'a':1, 'b':2, 'c':3}`` |"
   ]
  },
  {
   "cell_type": "markdown",
   "metadata": {},
   "source": [
    "# Aula 4 - Sintaxe"
   ]
  },
  {
   "cell_type": "markdown",
   "metadata": {},
   "source": [
    "# Sintaxe e controle de fluxo"
   ]
  },
  {
   "cell_type": "markdown",
   "metadata": {},
   "source": [
    "O python é conhecido por ter sua sintaxe mais limpa e de fácil entendimento se comparada a outras linguagens de programação, o que facilita muito na leitura e escrita do código. Abaixo veremos alguns pontos importantes para entendermos e escrevermos códigos em python."
   ]
  },
  {
   "cell_type": "markdown",
   "metadata": {
    "ExecuteTime": {
     "end_time": "2021-04-28T10:31:05.393164Z",
     "start_time": "2021-04-28T10:31:05.373201Z"
    }
   },
   "source": [
    "## 1.0 - Sintaxe"
   ]
  },
  {
   "cell_type": "markdown",
   "metadata": {},
   "source": [
    "- Comentários (``#``)\n",
    "- Operador de atribuição (``=``)\n",
    "- Indentação\n",
    "- Dois pontos (``:``)\n",
    "- Espaçamento (``TAB``)\n",
    "- Print "
   ]
  },
  {
   "cell_type": "markdown",
   "metadata": {},
   "source": [
    "### 1.1 - Comentários ``#``"
   ]
  },
  {
   "cell_type": "markdown",
   "metadata": {},
   "source": [
    "Para facilitar o entendimento de cada etapa do código no momento que revisitamos o código, é importante que tenhamos cada trecho de código comentado, contendo a função daquele trecho. \n",
    "\n",
    "Os comentários no python contém o caractere ``#`` antes do texto. Esse caractere e tudo que está após ele, é ignorado pelo interpretador."
   ]
  },
  {
   "cell_type": "code",
   "execution_count": 92,
   "metadata": {
    "ExecuteTime": {
     "end_time": "2024-01-25T13:04:56.142064300Z",
     "start_time": "2024-01-25T13:04:56.060609900Z"
    }
   },
   "outputs": [
    {
     "data": {
      "text/plain": "2"
     },
     "execution_count": 92,
     "metadata": {},
     "output_type": "execute_result"
    }
   ],
   "source": [
    "1+1"
   ]
  },
  {
   "cell_type": "code",
   "execution_count": 93,
   "metadata": {
    "ExecuteTime": {
     "end_time": "2024-01-25T13:04:56.276920100Z",
     "start_time": "2024-01-25T13:04:56.133057100Z"
    }
   },
   "outputs": [],
   "source": [
    "# ISSO DAQUI É UM COMENTÁRIO"
   ]
  },
  {
   "cell_type": "code",
   "execution_count": 94,
   "metadata": {
    "ExecuteTime": {
     "end_time": "2024-01-25T13:04:56.347759800Z",
     "start_time": "2024-01-25T13:04:56.266856300Z"
    }
   },
   "outputs": [
    {
     "data": {
      "text/plain": "2"
     },
     "execution_count": 94,
     "metadata": {},
     "output_type": "execute_result"
    }
   ],
   "source": [
    "# ISSO DAQUI É UM COMENTÁRIO SOBRE UMA SOMA DE 1+1\n",
    "1+1"
   ]
  },
  {
   "cell_type": "code",
   "execution_count": 95,
   "metadata": {
    "ExecuteTime": {
     "end_time": "2024-01-25T13:04:56.458984300Z",
     "start_time": "2024-01-25T13:04:56.339730700Z"
    }
   },
   "outputs": [
    {
     "data": {
      "text/plain": "2"
     },
     "execution_count": 95,
     "metadata": {},
     "output_type": "execute_result"
    }
   ],
   "source": [
    "# ISSO DAQUI É UM COMENTÁRIO SOBRE UMA SOMA DE 1+1\n",
    "1+1 #SOMA DE 1+1"
   ]
  },
  {
   "cell_type": "code",
   "execution_count": 96,
   "metadata": {
    "ExecuteTime": {
     "end_time": "2024-01-25T13:04:56.516322100Z",
     "start_time": "2024-01-25T13:04:56.448417800Z"
    }
   },
   "outputs": [],
   "source": [
    "# ISSO DAQUI É UM COMENTÁRIO SOBRE UMA SOMA DE 1+1\n",
    "#1+1 #SOMA DE 1+1"
   ]
  },
  {
   "cell_type": "markdown",
   "metadata": {},
   "source": [
    "### 1.2 - Operador de atribuição ``=``"
   ]
  },
  {
   "cell_type": "markdown",
   "metadata": {},
   "source": [
    "O sinal de atribuição no python é o ``=`` e é usado para atribuir um valor a alguma variável."
   ]
  },
  {
   "cell_type": "code",
   "execution_count": 97,
   "metadata": {
    "ExecuteTime": {
     "end_time": "2024-01-25T13:04:56.652612900Z",
     "start_time": "2024-01-25T13:04:56.510866600Z"
    }
   },
   "outputs": [],
   "source": [
    "# Atribuindo um valor a variável x\n",
    "x = 1"
   ]
  },
  {
   "cell_type": "code",
   "execution_count": 98,
   "metadata": {
    "ExecuteTime": {
     "end_time": "2024-01-25T13:04:56.722619500Z",
     "start_time": "2024-01-25T13:04:56.650084500Z"
    }
   },
   "outputs": [
    {
     "name": "stdout",
     "output_type": "stream",
     "text": [
      "1\n"
     ]
    }
   ],
   "source": [
    "# Verificando o valor contido na variável x\n",
    "print(x)"
   ]
  },
  {
   "cell_type": "markdown",
   "metadata": {},
   "source": [
    "### 1.3 - Indentação "
   ]
  },
  {
   "cell_type": "markdown",
   "metadata": {},
   "source": [
    "Indentação, extraído do wikipedia é:\n",
    "\n",
    "**\"Em ciência da computação, indentação (recuo, neologismo derivado da palavra em inglês *indentation*) é um termo aplicado ao código fonte de um programa para ressaltar ou definir a estrutura do algoritmo.\n",
    "Na maioria das linguagens de programação, a indentação é empregada com o objetivo de ressaltar a estrutura do algoritmo, aumentando assim a legibilidade do código\"**\n",
    "\n",
    "A indentação em qualquer código de qualquer linguagem é muito importante para facilitar a leitura e consequentemente a manutenção do código. \n",
    "\n",
    "*Um código é lido muito mais vezes do que escrito*. Por isso, a aparência e a facilidade de leitura conta.\n",
    "\n",
    "No python a indentação do código é obrigatória, pois se houver algo não indentado ocorre um erro."
   ]
  },
  {
   "cell_type": "markdown",
   "metadata": {
    "ExecuteTime": {
     "end_time": "2021-05-02T18:36:45.566295Z",
     "start_time": "2021-05-02T18:36:45.365717Z"
    }
   },
   "source": [
    "Exemplo do emprego de indentação em C:\n",
    "\n",
    "![Exemplo de indentação](indentacao.png)\n",
    "\n",
    "https://pt.wikipedia.org/wiki/Indenta%C3%A7%C3%A3o"
   ]
  },
  {
   "cell_type": "code",
   "execution_count": 99,
   "metadata": {
    "scrolled": true,
    "ExecuteTime": {
     "end_time": "2024-01-25T13:04:56.823975900Z",
     "start_time": "2024-01-25T13:04:56.704702700Z"
    }
   },
   "outputs": [
    {
     "data": {
      "text/plain": "[1, 2, 3]"
     },
     "execution_count": 99,
     "metadata": {},
     "output_type": "execute_result"
    }
   ],
   "source": [
    "lista = [1,2,3]\n",
    "lista"
   ]
  },
  {
   "cell_type": "code",
   "execution_count": 100,
   "metadata": {
    "ExecuteTime": {
     "end_time": "2024-01-25T13:04:56.895282Z",
     "start_time": "2024-01-25T13:04:56.803603300Z"
    }
   },
   "outputs": [
    {
     "ename": "IndentationError",
     "evalue": "unexpected indent (1004645408.py, line 2)",
     "output_type": "error",
     "traceback": [
      "\u001B[1;36m  Cell \u001B[1;32mIn[100], line 2\u001B[1;36m\u001B[0m\n\u001B[1;33m    = [1,2,3]\u001B[0m\n\u001B[1;37m    ^\u001B[0m\n\u001B[1;31mIndentationError\u001B[0m\u001B[1;31m:\u001B[0m unexpected indent\n"
     ]
    }
   ],
   "source": [
    "lista \n",
    "    = [1,2,3]\n",
    "lista"
   ]
  },
  {
   "cell_type": "code",
   "execution_count": 101,
   "metadata": {
    "ExecuteTime": {
     "end_time": "2024-01-25T13:04:57.028400700Z",
     "start_time": "2024-01-25T13:04:56.883371400Z"
    }
   },
   "outputs": [
    {
     "data": {
      "text/plain": "[1, 2, 3]"
     },
     "execution_count": 101,
     "metadata": {},
     "output_type": "execute_result"
    }
   ],
   "source": [
    "lista                                                       = [1,2,3]\n",
    "lista"
   ]
  },
  {
   "cell_type": "code",
   "execution_count": 102,
   "metadata": {
    "ExecuteTime": {
     "end_time": "2024-01-25T13:04:57.107968200Z",
     "start_time": "2024-01-25T13:04:57.018239700Z"
    }
   },
   "outputs": [
    {
     "data": {
      "text/plain": "[1, 2, 3]"
     },
     "execution_count": 102,
     "metadata": {},
     "output_type": "execute_result"
    }
   ],
   "source": [
    "lista=[                              1,2,3]\n",
    "lista"
   ]
  },
  {
   "cell_type": "code",
   "execution_count": 103,
   "metadata": {
    "ExecuteTime": {
     "end_time": "2024-01-25T13:04:57.214237200Z",
     "start_time": "2024-01-25T13:04:57.087639900Z"
    }
   },
   "outputs": [
    {
     "data": {
      "text/plain": "[1, 2, 3]"
     },
     "execution_count": 103,
     "metadata": {},
     "output_type": "execute_result"
    }
   ],
   "source": [
    "lista = ([1, \n",
    "          2, 3])\n",
    "lista"
   ]
  },
  {
   "cell_type": "markdown",
   "metadata": {},
   "source": [
    "### 1.4 - Dois pontos ``:``"
   ]
  },
  {
   "cell_type": "markdown",
   "metadata": {},
   "source": [
    "Dois pontos é utilizado para indicar blocos de códigos e esse bloco deve estar indentado por alguns espaços.\n",
    "\n",
    "Essa quantidade de espaços para indentar um bloco de código pode ser definido pelo programador e deve ser consistente por todo o código. \n",
    "Por convenção, a maioria dos guias de estilo (sim, existe guias pra isso) recomendam indentar os blocos de códigos com 4 espaços e iremos tentar seguir esses guias."
   ]
  },
  {
   "cell_type": "code",
   "execution_count": 104,
   "metadata": {
    "ExecuteTime": {
     "end_time": "2024-01-25T13:04:57.271706Z",
     "start_time": "2024-01-25T13:04:57.200658300Z"
    }
   },
   "outputs": [
    {
     "name": "stdout",
     "output_type": "stream",
     "text": [
      "Indentado com 4 espaços\n",
      "Não indentado\n"
     ]
    }
   ],
   "source": [
    "if 2>1:\n",
    "    print('Indentado com 4 espaços')\n",
    "print('Não indentado') "
   ]
  },
  {
   "cell_type": "code",
   "execution_count": 105,
   "metadata": {
    "ExecuteTime": {
     "end_time": "2024-01-25T13:04:57.435925600Z",
     "start_time": "2024-01-25T13:04:57.268953Z"
    }
   },
   "outputs": [
    {
     "name": "stdout",
     "output_type": "stream",
     "text": [
      "Indentado com 1 espaço\n",
      "Não indentado\n"
     ]
    }
   ],
   "source": [
    "if 2>1:\n",
    " print('Indentado com 1 espaço')\n",
    "print('Não indentado') "
   ]
  },
  {
   "cell_type": "code",
   "execution_count": 106,
   "metadata": {
    "ExecuteTime": {
     "end_time": "2024-01-25T13:04:57.495622700Z",
     "start_time": "2024-01-25T13:04:57.424573Z"
    }
   },
   "outputs": [
    {
     "ename": "IndentationError",
     "evalue": "expected an indented block after 'if' statement on line 1 (181090412.py, line 3)",
     "output_type": "error",
     "traceback": [
      "\u001B[1;36m  Cell \u001B[1;32mIn[106], line 3\u001B[1;36m\u001B[0m\n\u001B[1;33m    print('Não indentado')\u001B[0m\n\u001B[1;37m    ^\u001B[0m\n\u001B[1;31mIndentationError\u001B[0m\u001B[1;31m:\u001B[0m expected an indented block after 'if' statement on line 1\n"
     ]
    }
   ],
   "source": [
    "if 2>1:\n",
    "#     print('Indentado')\n",
    "print('Não indentado') "
   ]
  },
  {
   "cell_type": "code",
   "execution_count": 107,
   "metadata": {
    "ExecuteTime": {
     "start_time": "2024-01-25T13:04:57.485181300Z"
    }
   },
   "outputs": [
    {
     "ename": "IndentationError",
     "evalue": "expected an indented block after 'if' statement on line 1 (3522975833.py, line 2)",
     "output_type": "error",
     "traceback": [
      "\u001B[1;36m  Cell \u001B[1;32mIn[107], line 2\u001B[1;36m\u001B[0m\n\u001B[1;33m    print('Não indentado')\u001B[0m\n\u001B[1;37m    ^\u001B[0m\n\u001B[1;31mIndentationError\u001B[0m\u001B[1;31m:\u001B[0m expected an indented block after 'if' statement on line 1\n"
     ]
    }
   ],
   "source": [
    "if 2>1:\n",
    "print('Não indentado') "
   ]
  },
  {
   "cell_type": "code",
   "execution_count": 108,
   "metadata": {
    "ExecuteTime": {
     "end_time": "2024-01-25T13:04:57.670009300Z",
     "start_time": "2024-01-25T13:04:57.596434200Z"
    }
   },
   "outputs": [
    {
     "name": "stdout",
     "output_type": "stream",
     "text": [
      "Indentado com o TAB\n"
     ]
    }
   ],
   "source": [
    "if 2>1:\n",
    "    print('Indentado com o TAB') "
   ]
  },
  {
   "cell_type": "code",
   "execution_count": 109,
   "metadata": {
    "ExecuteTime": {
     "end_time": "2024-01-25T13:04:57.757996300Z",
     "start_time": "2024-01-25T13:04:57.658962500Z"
    }
   },
   "outputs": [
    {
     "name": "stdout",
     "output_type": "stream",
     "text": [
      "100\n"
     ]
    }
   ],
   "source": [
    "x = 10\n",
    "if x > 1:\n",
    "    y = 10 * x\n",
    "    print(y)"
   ]
  },
  {
   "cell_type": "code",
   "execution_count": 110,
   "metadata": {
    "ExecuteTime": {
     "end_time": "2024-01-25T13:04:57.916719200Z",
     "start_time": "2024-01-25T13:04:57.740371200Z"
    }
   },
   "outputs": [
    {
     "ename": "NameError",
     "evalue": "name 'z' is not defined",
     "output_type": "error",
     "traceback": [
      "\u001B[1;31m---------------------------------------------------------------------------\u001B[0m",
      "\u001B[1;31mNameError\u001B[0m                                 Traceback (most recent call last)",
      "Cell \u001B[1;32mIn[110], line 4\u001B[0m\n\u001B[0;32m      2\u001B[0m \u001B[38;5;28;01mif\u001B[39;00m x \u001B[38;5;241m<\u001B[39m \u001B[38;5;241m1\u001B[39m:\n\u001B[0;32m      3\u001B[0m     z \u001B[38;5;241m=\u001B[39m \u001B[38;5;241m10\u001B[39m \u001B[38;5;241m*\u001B[39m x\n\u001B[1;32m----> 4\u001B[0m \u001B[38;5;28mprint\u001B[39m(z)\n",
      "\u001B[1;31mNameError\u001B[0m: name 'z' is not defined"
     ]
    }
   ],
   "source": [
    "x = 10\n",
    "if x < 1:\n",
    "    z = 10 * x\n",
    "print(z)"
   ]
  },
  {
   "cell_type": "code",
   "execution_count": 110,
   "metadata": {
    "ExecuteTime": {
     "end_time": "2024-01-25T13:04:57.983273Z",
     "start_time": "2024-01-25T13:04:57.812816600Z"
    }
   },
   "outputs": [],
   "source": []
  },
  {
   "cell_type": "markdown",
   "metadata": {},
   "source": [
    "### 1.5 - Resumo\n",
    "\n",
    "Nessa seção, eu mencionei guias de estilo e o mais conhecido para python é o PEP8 e pode ser encontrado em https://www.python.org/dev/peps/pep-0008/\n",
    "\n",
    "*Um guia de estilo é sobre consistência. A consistência do guia de estilo é importante. A consistência dentro de um projeto é mais importante. A consistência dentro de um módulo ou função é o mais importante.*\n",
    "\n",
    "Conforme você for avançando o conhecimento sobre python e começar a escrever muitos códigos, vale a pena dar uma lida e conhecer mais sobre esse e outros guias."
   ]
  },
  {
   "cell_type": "markdown",
   "metadata": {
    "ExecuteTime": {
     "end_time": "2021-04-28T10:31:13.938767Z",
     "start_time": "2021-04-28T10:31:13.935769Z"
    }
   },
   "source": [
    "## 2.0 - Controle de fluxo"
   ]
  },
  {
   "cell_type": "markdown",
   "metadata": {},
   "source": [
    "### 2.1 - Estrutura de decisão condicional: ``se - senão se - senão``\n",
    "A estrutura de decisão condicional permite executar códigos baseados em condições booleanas."
   ]
  },
  {
   "cell_type": "code",
   "execution_count": 111,
   "metadata": {
    "scrolled": true,
    "ExecuteTime": {
     "end_time": "2024-01-25T13:05:36.737433100Z",
     "start_time": "2024-01-25T13:04:57.971629900Z"
    }
   },
   "outputs": [
    {
     "name": "stdout",
     "output_type": "stream",
     "text": [
      "Parabéns! Você tem 26 anos de idade\n"
     ]
    }
   ],
   "source": [
    "x = int(input('Quantos anos você tem? '))\n",
    "# x = 99\n",
    "# print('Parece que você tem: %d anos de idade' %x)\n",
    "\n",
    "\n",
    "if x == 0:\n",
    "    print(\"Parabéns, você acabou de nascer e tem %d anos de idade\" % x)\n",
    "elif x < 0:\n",
    "    print(\"Idade negativa?\")\n",
    "elif x > 130:\n",
    "    print(\"Tem certeza que você ainda está vivo com %d anos de idade?\"% x)\n",
    "else:\n",
    "    print(\"Parabéns! Você tem %d anos de idade\" % x)"
   ]
  },
  {
   "cell_type": "markdown",
   "metadata": {},
   "source": [
    "### 2.2 - Estruturas de repetição\n",
    "\n",
    "Quando um comando ou um bloco código irá se repetir por diversas vezes, podemos utilizar uma estrutura de repetição para realizar a tarefa. \n",
    "\n",
    "Imagina se precisássemos construir uma lista com todos os números pares até 1000. \n",
    "\n",
    "``` python\n",
    "lista = [2, 4, 6, 8, 10, 12, ..., 1000]\n",
    "lista\n",
    "[2, 4, 6, 8, 10, 12, ..., 1000]\n",
    "```\n",
    "\n",
    "Abaixo temos um exemplo de como resolver essa tarefa com as estruturas de repetição ``while`` e ``for``\n",
    "\n"
   ]
  },
  {
   "cell_type": "markdown",
   "metadata": {},
   "source": [
    "### 2.3 - Estrutura de repetição ``while``\n",
    "\n",
    "A estrutura de repetição ``while`` repete a execução do bloco de código indentado enquanto a condição for verdadeira. Por exemplo:"
   ]
  },
  {
   "cell_type": "code",
   "execution_count": 112,
   "metadata": {
    "ExecuteTime": {
     "end_time": "2024-01-25T13:05:36.775613800Z",
     "start_time": "2024-01-25T13:05:36.506074700Z"
    }
   },
   "outputs": [
    {
     "name": "stdout",
     "output_type": "stream",
     "text": [
      "2, 4, 6, 8, 10, 12, 14, 16, 18, 20, "
     ]
    }
   ],
   "source": [
    "# Declara e atribui 2 a uma variável de iteração\n",
    "i = 2\n",
    "\n",
    "#Estrutura de repetição para printar os valores pares até 20\n",
    "while i <= 20:\n",
    "    print(i, end=', ')\n",
    "    i += 2\n"
   ]
  },
  {
   "cell_type": "code",
   "execution_count": 113,
   "metadata": {
    "ExecuteTime": {
     "end_time": "2024-01-25T13:05:36.863456400Z",
     "start_time": "2024-01-25T13:05:36.691404200Z"
    }
   },
   "outputs": [
    {
     "name": "stdout",
     "output_type": "stream",
     "text": [
      "1a  volta       2  <= 20: True\n",
      "2a  volta       4  <= 20: True\n",
      "3a  volta       6  <= 20: True\n",
      "4a  volta       8  <= 20: True\n",
      "5a  volta       10 <= 20: True\n",
      "6a  volta       12 <= 20: True\n",
      "7a  volta       14 <= 20: True\n",
      "8a  volta       16 <= 20: True\n",
      "9a  volta       18 <= 20: True\n",
      "10a volta       20 <= 20: True\n",
      "11a volta       22 <= 20: False\n"
     ]
    }
   ],
   "source": [
    "print('1a  volta       2  <= 20:', 2  <= 20)\n",
    "print('2a  volta       4  <= 20:', 4  <= 20)\n",
    "print('3a  volta       6  <= 20:', 6  <= 20)\n",
    "print('4a  volta       8  <= 20:', 8  <= 20)\n",
    "print('5a  volta       10 <= 20:', 10 <= 20)\n",
    "print('6a  volta       12 <= 20:', 12 <= 20)\n",
    "print('7a  volta       14 <= 20:', 14 <= 20)\n",
    "print('8a  volta       16 <= 20:', 16 <= 20)\n",
    "print('9a  volta       18 <= 20:', 18 <= 20)\n",
    "print('10a volta       20 <= 20:', 20 <= 20)\n",
    "print('11a volta       22 <= 20:', 22 <= 20)"
   ]
  },
  {
   "cell_type": "code",
   "execution_count": 114,
   "metadata": {
    "scrolled": false,
    "ExecuteTime": {
     "end_time": "2024-01-25T13:05:37.231121900Z",
     "start_time": "2024-01-25T13:05:36.869964600Z"
    }
   },
   "outputs": [
    {
     "name": "stdout",
     "output_type": "stream",
     "text": [
      "2, 4, 6, 8, 10, 12, 14, 16, 18, 20, 22, 24, 26, 28, 30, 32, 34, 36, 38, 40, 42, 44, 46, 48, 50, 52, 54, 56, 58, 60, 62, 64, 66, 68, 70, 72, 74, 76, 78, 80, 82, 84, 86, 88, 90, 92, 94, 96, 98, 100, 102, 104, 106, 108, 110, 112, 114, 116, 118, 120, 122, 124, 126, 128, 130, 132, 134, 136, 138, 140, 142, 144, 146, 148, 150, 152, 154, 156, 158, 160, 162, 164, 166, 168, 170, 172, 174, 176, 178, 180, 182, 184, 186, 188, 190, 192, 194, 196, 198, 200, 202, 204, 206, 208, 210, 212, 214, 216, 218, 220, 222, 224, 226, 228, 230, 232, 234, 236, 238, 240, 242, 244, 246, 248, 250, 252, 254, 256, 258, 260, 262, 264, 266, 268, 270, 272, 274, 276, 278, 280, 282, 284, 286, 288, 290, 292, 294, 296, 298, 300, 302, 304, 306, 308, 310, 312, 314, 316, 318, 320, 322, 324, 326, 328, 330, 332, 334, 336, 338, 340, 342, 344, 346, 348, 350, 352, 354, 356, 358, 360, 362, 364, 366, 368, 370, 372, 374, 376, 378, 380, 382, 384, 386, 388, 390, 392, 394, 396, 398, 400, 402, 404, 406, 408, 410, 412, 414, 416, 418, 420, 422, 424, 426, 428, 430, 432, 434, 436, 438, 440, 442, 444, 446, 448, 450, 452, 454, 456, 458, 460, 462, 464, 466, 468, 470, 472, 474, 476, 478, 480, 482, 484, 486, 488, 490, 492, 494, 496, 498, 500, 502, 504, 506, 508, 510, 512, 514, 516, 518, 520, 522, 524, 526, 528, 530, 532, 534, 536, 538, 540, 542, 544, 546, 548, 550, 552, 554, 556, 558, 560, 562, 564, 566, 568, 570, 572, 574, 576, 578, 580, 582, 584, 586, 588, 590, 592, 594, 596, 598, 600, 602, 604, 606, 608, 610, 612, 614, 616, 618, 620, 622, 624, 626, 628, 630, 632, 634, 636, 638, 640, 642, 644, 646, 648, 650, 652, 654, 656, 658, 660, 662, 664, 666, 668, 670, 672, 674, 676, 678, 680, 682, 684, 686, 688, 690, 692, 694, 696, 698, 700, 702, 704, 706, 708, 710, 712, 714, 716, 718, 720, 722, 724, 726, 728, 730, 732, 734, 736, 738, 740, 742, 744, 746, 748, 750, 752, 754, 756, 758, 760, 762, 764, 766, 768, 770, 772, 774, 776, 778, 780, 782, 784, 786, 788, 790, 792, 794, 796, 798, 800, 802, 804, 806, 808, 810, 812, 814, 816, 818, 820, 822, 824, 826, 828, 830, 832, 834, 836, 838, 840, 842, 844, 846, 848, 850, 852, 854, 856, 858, 860, 862, 864, 866, 868, 870, 872, 874, 876, 878, 880, 882, 884, 886, 888, 890, 892, 894, 896, 898, 900, 902, 904, 906, 908, 910, 912, 914, 916, 918, 920, 922, 924, 926, 928, 930, 932, 934, 936, 938, 940, 942, 944, 946, 948, 950, 952, 954, 956, 958, 960, 962, 964, 966, 968, 970, 972, 974, 976, 978, 980, 982, 984, 986, 988, 990, 992, 994, 996, 998, 1000, "
     ]
    }
   ],
   "source": [
    "# Declara e atribui 2 a uma variável de iteração\n",
    "i = 2\n",
    "\n",
    "#Estrutura de repetição para printar os valores pares até 20\n",
    "while i <= 1000:\n",
    "    print(i, end=', ')\n",
    "    i += 2\n"
   ]
  },
  {
   "cell_type": "markdown",
   "metadata": {},
   "source": [
    "### 2.4 -  Estrutura de repetição ``for`` \n",
    "\n",
    "A estrutura de repetição ``for`` é usado quando queremos percorrer os valores de uma sequencia, ou seja, uma lista ou uma cadeia de caracteres (string) e executar determinado comando para cada elemento."
   ]
  },
  {
   "cell_type": "code",
   "execution_count": 115,
   "metadata": {
    "ExecuteTime": {
     "end_time": "2024-01-25T13:05:37.454986900Z",
     "start_time": "2024-01-25T13:05:37.204047400Z"
    }
   },
   "outputs": [
    {
     "name": "stdout",
     "output_type": "stream",
     "text": [
      "a\n",
      "b\n",
      "c\n",
      "d\n",
      "e\n",
      "f\n",
      "g\n",
      "h\n"
     ]
    }
   ],
   "source": [
    "for elemento in 'abcdefgh':\n",
    "    print(elemento)"
   ]
  },
  {
   "cell_type": "markdown",
   "metadata": {},
   "source": [
    "Podemos querer percorrer uma lista de números e usar o comando ``print``:"
   ]
  },
  {
   "cell_type": "code",
   "execution_count": 116,
   "metadata": {
    "ExecuteTime": {
     "end_time": "2024-01-25T13:05:37.625495700Z",
     "start_time": "2024-01-25T13:05:37.452975700Z"
    }
   },
   "outputs": [
    {
     "name": "stdout",
     "output_type": "stream",
     "text": [
      "0\n",
      "1\n",
      "2\n",
      "3\n",
      "4\n",
      "5\n",
      "6\n"
     ]
    }
   ],
   "source": [
    "for i in [0,1,2,3,4,5,6]:\n",
    "    print(i)"
   ]
  },
  {
   "cell_type": "markdown",
   "metadata": {},
   "source": [
    "Se a gente precisasse percorrer todos os valores pares até 1000?"
   ]
  },
  {
   "cell_type": "code",
   "execution_count": 117,
   "metadata": {
    "scrolled": false,
    "ExecuteTime": {
     "end_time": "2024-01-25T13:05:37.765955900Z",
     "start_time": "2024-01-25T13:05:37.585886600Z"
    }
   },
   "outputs": [
    {
     "name": "stdout",
     "output_type": "stream",
     "text": [
      "2, 4, 6, 8, 10, 12, 14, 16, 18, 20, 22, 24, 26, 28, 30, 32, 34, 36, 38, 40, 42, 44, 46, 48, 50, 52, 54, 56, 58, 60, 62, 64, 66, 68, 70, 72, 74, 76, 78, 80, 82, 84, 86, 88, 90, 92, 94, 96, 98, 100, 102, 104, 106, 108, 110, 112, 114, 116, 118, 120, 122, 124, 126, 128, 130, 132, 134, 136, 138, 140, 142, 144, 146, 148, 150, 152, 154, 156, 158, 160, 162, 164, 166, 168, 170, 172, 174, 176, 178, 180, 182, 184, 186, 188, 190, 192, 194, 196, 198, 200, 202, 204, 206, 208, 210, 212, 214, 216, 218, 220, 222, 224, 226, 228, 230, 232, 234, 236, 238, 240, 242, 244, 246, 248, 250, 252, 254, 256, 258, 260, 262, 264, 266, 268, 270, 272, 274, 276, 278, 280, 282, 284, 286, 288, 290, 292, 294, 296, 298, 300, 302, 304, 306, 308, 310, 312, 314, 316, 318, 320, 322, 324, 326, 328, 330, 332, 334, 336, 338, 340, 342, 344, 346, 348, 350, 352, 354, 356, 358, 360, 362, 364, 366, 368, 370, 372, 374, 376, 378, 380, 382, 384, 386, 388, 390, 392, 394, 396, 398, 400, 402, 404, 406, 408, 410, 412, 414, 416, 418, 420, 422, 424, 426, 428, 430, 432, 434, 436, 438, 440, 442, 444, 446, 448, 450, 452, 454, 456, 458, 460, 462, 464, 466, 468, 470, 472, 474, 476, 478, 480, 482, 484, 486, 488, 490, 492, 494, 496, 498, 500, 502, 504, 506, 508, 510, 512, 514, 516, 518, 520, 522, 524, 526, 528, 530, 532, 534, 536, 538, 540, 542, 544, 546, 548, 550, 552, 554, 556, 558, 560, 562, 564, 566, 568, 570, 572, 574, 576, 578, 580, 582, 584, 586, 588, 590, 592, 594, 596, 598, 600, 602, 604, 606, 608, 610, 612, 614, 616, 618, 620, 622, 624, 626, 628, 630, 632, 634, 636, 638, 640, 642, 644, 646, 648, 650, 652, 654, 656, 658, 660, 662, 664, 666, 668, 670, 672, 674, 676, 678, 680, 682, 684, 686, 688, 690, 692, 694, 696, 698, 700, 702, 704, 706, 708, 710, 712, 714, 716, 718, 720, 722, 724, 726, 728, 730, 732, 734, 736, 738, 740, 742, 744, 746, 748, 750, 752, 754, 756, 758, 760, 762, 764, 766, 768, 770, 772, 774, 776, 778, 780, 782, 784, 786, 788, 790, 792, 794, 796, 798, 800, 802, 804, 806, 808, 810, 812, 814, 816, 818, 820, 822, 824, 826, 828, 830, 832, 834, 836, 838, 840, 842, 844, 846, 848, 850, 852, 854, 856, 858, 860, 862, 864, 866, 868, 870, 872, 874, 876, 878, 880, 882, 884, 886, 888, 890, 892, 894, 896, 898, 900, 902, 904, 906, 908, 910, 912, 914, 916, 918, 920, 922, 924, 926, 928, 930, 932, 934, 936, 938, 940, 942, 944, 946, 948, 950, 952, 954, 956, 958, 960, 962, 964, 966, 968, 970, 972, 974, 976, 978, 980, 982, 984, 986, 988, 990, 992, 994, 996, 998, "
     ]
    }
   ],
   "source": [
    "#Podemos utilizar a função range para criar essa lista e usar o for pra percorrer\n",
    "for i in range(2, 1000, 2):\n",
    "    print(i, end = ', ')"
   ]
  },
  {
   "cell_type": "code",
   "execution_count": 118,
   "metadata": {
    "ExecuteTime": {
     "end_time": "2024-01-25T13:05:37.947421300Z",
     "start_time": "2024-01-25T13:05:37.757340Z"
    }
   },
   "outputs": [
    {
     "data": {
      "text/plain": "[2,\n 4,\n 6,\n 8,\n 10,\n 12,\n 14,\n 16,\n 18,\n 20,\n 22,\n 24,\n 26,\n 28,\n 30,\n 32,\n 34,\n 36,\n 38,\n 40,\n 42,\n 44,\n 46,\n 48,\n 50,\n 52,\n 54,\n 56,\n 58,\n 60,\n 62,\n 64,\n 66,\n 68,\n 70,\n 72,\n 74,\n 76,\n 78,\n 80,\n 82,\n 84,\n 86,\n 88,\n 90,\n 92,\n 94,\n 96,\n 98,\n 100,\n 102,\n 104,\n 106,\n 108,\n 110,\n 112,\n 114,\n 116,\n 118,\n 120,\n 122,\n 124,\n 126,\n 128,\n 130,\n 132,\n 134,\n 136,\n 138,\n 140,\n 142,\n 144,\n 146,\n 148,\n 150,\n 152,\n 154,\n 156,\n 158,\n 160,\n 162,\n 164,\n 166,\n 168,\n 170,\n 172,\n 174,\n 176,\n 178,\n 180,\n 182,\n 184,\n 186,\n 188,\n 190,\n 192,\n 194,\n 196,\n 198,\n 200,\n 202,\n 204,\n 206,\n 208,\n 210,\n 212,\n 214,\n 216,\n 218,\n 220,\n 222,\n 224,\n 226,\n 228,\n 230,\n 232,\n 234,\n 236,\n 238,\n 240,\n 242,\n 244,\n 246,\n 248,\n 250,\n 252,\n 254,\n 256,\n 258,\n 260,\n 262,\n 264,\n 266,\n 268,\n 270,\n 272,\n 274,\n 276,\n 278,\n 280,\n 282,\n 284,\n 286,\n 288,\n 290,\n 292,\n 294,\n 296,\n 298,\n 300,\n 302,\n 304,\n 306,\n 308,\n 310,\n 312,\n 314,\n 316,\n 318,\n 320,\n 322,\n 324,\n 326,\n 328,\n 330,\n 332,\n 334,\n 336,\n 338,\n 340,\n 342,\n 344,\n 346,\n 348,\n 350,\n 352,\n 354,\n 356,\n 358,\n 360,\n 362,\n 364,\n 366,\n 368,\n 370,\n 372,\n 374,\n 376,\n 378,\n 380,\n 382,\n 384,\n 386,\n 388,\n 390,\n 392,\n 394,\n 396,\n 398,\n 400,\n 402,\n 404,\n 406,\n 408,\n 410,\n 412,\n 414,\n 416,\n 418,\n 420,\n 422,\n 424,\n 426,\n 428,\n 430,\n 432,\n 434,\n 436,\n 438,\n 440,\n 442,\n 444,\n 446,\n 448,\n 450,\n 452,\n 454,\n 456,\n 458,\n 460,\n 462,\n 464,\n 466,\n 468,\n 470,\n 472,\n 474,\n 476,\n 478,\n 480,\n 482,\n 484,\n 486,\n 488,\n 490,\n 492,\n 494,\n 496,\n 498,\n 500,\n 502,\n 504,\n 506,\n 508,\n 510,\n 512,\n 514,\n 516,\n 518,\n 520,\n 522,\n 524,\n 526,\n 528,\n 530,\n 532,\n 534,\n 536,\n 538,\n 540,\n 542,\n 544,\n 546,\n 548,\n 550,\n 552,\n 554,\n 556,\n 558,\n 560,\n 562,\n 564,\n 566,\n 568,\n 570,\n 572,\n 574,\n 576,\n 578,\n 580,\n 582,\n 584,\n 586,\n 588,\n 590,\n 592,\n 594,\n 596,\n 598,\n 600,\n 602,\n 604,\n 606,\n 608,\n 610,\n 612,\n 614,\n 616,\n 618,\n 620,\n 622,\n 624,\n 626,\n 628,\n 630,\n 632,\n 634,\n 636,\n 638,\n 640,\n 642,\n 644,\n 646,\n 648,\n 650,\n 652,\n 654,\n 656,\n 658,\n 660,\n 662,\n 664,\n 666,\n 668,\n 670,\n 672,\n 674,\n 676,\n 678,\n 680,\n 682,\n 684,\n 686,\n 688,\n 690,\n 692,\n 694,\n 696,\n 698,\n 700,\n 702,\n 704,\n 706,\n 708,\n 710,\n 712,\n 714,\n 716,\n 718,\n 720,\n 722,\n 724,\n 726,\n 728,\n 730,\n 732,\n 734,\n 736,\n 738,\n 740,\n 742,\n 744,\n 746,\n 748,\n 750,\n 752,\n 754,\n 756,\n 758,\n 760,\n 762,\n 764,\n 766,\n 768,\n 770,\n 772,\n 774,\n 776,\n 778,\n 780,\n 782,\n 784,\n 786,\n 788,\n 790,\n 792,\n 794,\n 796,\n 798,\n 800,\n 802,\n 804,\n 806,\n 808,\n 810,\n 812,\n 814,\n 816,\n 818,\n 820,\n 822,\n 824,\n 826,\n 828,\n 830,\n 832,\n 834,\n 836,\n 838,\n 840,\n 842,\n 844,\n 846,\n 848,\n 850,\n 852,\n 854,\n 856,\n 858,\n 860,\n 862,\n 864,\n 866,\n 868,\n 870,\n 872,\n 874,\n 876,\n 878,\n 880,\n 882,\n 884,\n 886,\n 888,\n 890,\n 892,\n 894,\n 896,\n 898,\n 900,\n 902,\n 904,\n 906,\n 908,\n 910,\n 912,\n 914,\n 916,\n 918,\n 920,\n 922,\n 924,\n 926,\n 928,\n 930,\n 932,\n 934,\n 936,\n 938,\n 940,\n 942,\n 944,\n 946,\n 948,\n 950,\n 952,\n 954,\n 956,\n 958,\n 960,\n 962,\n 964,\n 966,\n 968,\n 970,\n 972,\n 974,\n 976,\n 978,\n 980,\n 982,\n 984,\n 986,\n 988,\n 990,\n 992,\n 994,\n 996,\n 998]"
     },
     "execution_count": 118,
     "metadata": {},
     "output_type": "execute_result"
    }
   ],
   "source": [
    "list(range(2,1000,2))"
   ]
  },
  {
   "cell_type": "markdown",
   "metadata": {},
   "source": [
    "# Motivação para a próxima parte do módulo"
   ]
  },
  {
   "cell_type": "markdown",
   "metadata": {
    "ExecuteTime": {
     "end_time": "2021-04-28T00:47:57.535858Z",
     "start_time": "2021-04-28T00:47:57.531896Z"
    }
   },
   "source": [
    "## Os principais módulos/bibliotecas do Python para Ciência de dados"
   ]
  },
  {
   "cell_type": "markdown",
   "metadata": {},
   "source": [
    "A comunidade de análise de dados do python é muito forte e por isso que o python se destaca dentre outras liguagens para esse tipo de tarefa. Podemos encontrar diversos trechos de código, módulos, pacotes que já estão prontos para facilitar a nossa resolução de problemas. A grosso modo:\n",
    "- Um trecho de código é um trecho de código.\n",
    "- Um módulo é um arquivo .py que contém trechos de código que usamos repetidas vezes e em diferentes projetos.\n",
    "- Um pacote é uma pasta que contém um conjunto de módulos (de arquivos .py) com o mesmo escopo de funcionalidade.\n",
    "\n",
    "Podemos destacar 4 pacotes que são essenciais para Ciência de dados:\n",
    "\n",
    "\n",
    "| Pacote    | Descrição | link para documentação |\n",
    "|--------------|-------------|-------------| \n",
    "|**Numpy**     | Permite fazer cálculos numéricos com vetores de forma simples e eficiente    | [link](http://numpy.org)\n",
    "|**Pandas**  | Contém uma poderosa estrutura de dados que facilita a manipulação e análise de dados.     | [link](http://pandas.pydata.org)    |\n",
    "|**Matplotlib**| Contém módulos que permite a criação de gráficos estáticos, animados e interativos.    | [link](http://matplotlib.org)     |\n",
    "|**Scikit-learn**     | Fornece ferramentas eficientes para aprendizado de máquina e modelagem estatística   | [link](http://scikit-learn.org)     |\n",
    "\n"
   ]
  },
  {
   "cell_type": "markdown",
   "metadata": {},
   "source": [
    "# ATIVIDADE 1"
   ]
  },
  {
   "cell_type": "code",
   "execution_count": 118,
   "metadata": {
    "ExecuteTime": {
     "end_time": "2024-01-25T13:05:38.077356900Z",
     "start_time": "2024-01-25T13:05:37.831517200Z"
    }
   },
   "outputs": [],
   "source": []
  }
 ],
 "metadata": {
  "kernelspec": {
   "display_name": "Python 3",
   "language": "python",
   "name": "python3"
  },
  "language_info": {
   "codemirror_mode": {
    "name": "ipython",
    "version": 3
   },
   "file_extension": ".py",
   "mimetype": "text/x-python",
   "name": "python",
   "nbconvert_exporter": "python",
   "pygments_lexer": "ipython3",
   "version": "3.8.5"
  },
  "varInspector": {
   "cols": {
    "lenName": 16,
    "lenType": 16,
    "lenVar": 40
   },
   "kernels_config": {
    "python": {
     "delete_cmd_postfix": "",
     "delete_cmd_prefix": "del ",
     "library": "var_list.py",
     "varRefreshCmd": "print(var_dic_list())"
    },
    "r": {
     "delete_cmd_postfix": ") ",
     "delete_cmd_prefix": "rm(",
     "library": "var_list.r",
     "varRefreshCmd": "cat(var_dic_list()) "
    }
   },
   "types_to_exclude": [
    "module",
    "function",
    "builtin_function_or_method",
    "instance",
    "_Feature"
   ],
   "window_display": false
  }
 },
 "nbformat": 4,
 "nbformat_minor": 4
}
