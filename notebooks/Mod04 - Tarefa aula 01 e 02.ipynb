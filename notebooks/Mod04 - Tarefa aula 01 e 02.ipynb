{
 "cells": [
  {
   "cell_type": "markdown",
   "metadata": {},
   "source": [
    "# Tarefa 01\n",
    "\n",
    "- Leia os enunciados com atenção\n",
    "- Saiba que pode haver mais de uma resposta correta\n",
    "- Insira novas células de código sempre que achar necessário\n",
    "- Em caso de dúvidas, procure os tutores\n",
    "- Divirta-se :)\n",
    "\n",
    "#### 1)  crie uma série do pandas a partir de uma lista com os dados abaixo:\n",
    "\n",
    "Em um estudo sobre alteração na tempreatura global, A NASA disponibiliza dados de diferenças de de temperatura média da superfície terrestre relativos às médias de temperatura entre 1951 e 1980. Os dados originais podem ser vistos no site da NASA/GISS, e estão dispostos a cada década na tabela abaixo.\n",
    "\n",
    "|ano|anomalia termica|\n",
    "|:-:|:----:|\n",
    "| 1900 | -0.08 |\n",
    "| 1920 | -0.27 |\n",
    "| 1940 | 0.12 |\n",
    "| 1960 | -0.03 |\n",
    "| 1980 | 0.26 |\n",
    "| 2000 | 0.40 |\n",
    "| 2020 | 1.02 |\n",
    "\n",
    "Crie uma séries do Pandas a partir de uma lista com esses dados."
   ]
  },
  {
   "cell_type": "code",
   "execution_count": 4,
   "metadata": {
    "ExecuteTime": {
     "end_time": "2024-02-01T16:22:31.060533500Z",
     "start_time": "2024-02-01T16:22:29.743237700Z"
    }
   },
   "outputs": [
    {
     "data": {
      "text/plain": "       Ano  Anomalia Térmica\n1900  1900             -0.08\n1920  1920             -0.27\n1940  1940              0.12\n1960  1960             -0.03\n1980  1980              0.26\n2000  2000              0.40\n2020  2020              1.02",
      "text/html": "<div>\n<style scoped>\n    .dataframe tbody tr th:only-of-type {\n        vertical-align: middle;\n    }\n\n    .dataframe tbody tr th {\n        vertical-align: top;\n    }\n\n    .dataframe thead th {\n        text-align: right;\n    }\n</style>\n<table border=\"1\" class=\"dataframe\">\n  <thead>\n    <tr style=\"text-align: right;\">\n      <th></th>\n      <th>Ano</th>\n      <th>Anomalia Térmica</th>\n    </tr>\n  </thead>\n  <tbody>\n    <tr>\n      <th>1900</th>\n      <td>1900</td>\n      <td>-0.08</td>\n    </tr>\n    <tr>\n      <th>1920</th>\n      <td>1920</td>\n      <td>-0.27</td>\n    </tr>\n    <tr>\n      <th>1940</th>\n      <td>1940</td>\n      <td>0.12</td>\n    </tr>\n    <tr>\n      <th>1960</th>\n      <td>1960</td>\n      <td>-0.03</td>\n    </tr>\n    <tr>\n      <th>1980</th>\n      <td>1980</td>\n      <td>0.26</td>\n    </tr>\n    <tr>\n      <th>2000</th>\n      <td>2000</td>\n      <td>0.40</td>\n    </tr>\n    <tr>\n      <th>2020</th>\n      <td>2020</td>\n      <td>1.02</td>\n    </tr>\n  </tbody>\n</table>\n</div>"
     },
     "execution_count": 4,
     "metadata": {},
     "output_type": "execute_result"
    }
   ],
   "source": [
    "import pandas as pd\n",
    "import numpy as np\n",
    "\n",
    "# Seu código aqui\n",
    "dados_temperaturas = [[1900, -0.08], [1920, -0.27], [1940, 0.12], [1960, -0.03], [1980, 0.26], [2000, 0.40], [2020, 1.02]]\n",
    "\n",
    "classes = ['1900', '1920', '1940', '1960', '1980', '2000', '2020']\n",
    "\n",
    "dados_temperaturas = pd.DataFrame(dados_temperaturas, columns=['Ano', 'Anomalia Térmica'], index=classes)\n",
    "classes = pd.Series(classes)\n",
    "dados_temperaturas"
   ]
  },
  {
   "cell_type": "markdown",
   "metadata": {},
   "source": [
    "#### 2) Coloque os anos nos índices conforme a tabela."
   ]
  },
  {
   "cell_type": "code",
   "outputs": [
    {
     "data": {
      "text/plain": "Ano    1900\nAno    1920\nAno    1940\nAno    1960\nAno    1980\nAno    2000\nAno    2020\ndtype: int64"
     },
     "execution_count": 5,
     "metadata": {},
     "output_type": "execute_result"
    }
   ],
   "source": [
    "anos = [1900, 1920, 1940, 1960, 1980, 2000, 2020]\n",
    "index=['Ano', 'Ano', 'Ano', 'Ano', 'Ano', 'Ano', 'Ano']\n",
    "# seu código aqui\n",
    "anos = pd.Series(anos, index=index)\n",
    "anos"
   ],
   "metadata": {
    "collapsed": false,
    "ExecuteTime": {
     "end_time": "2024-02-01T16:22:31.072534100Z",
     "start_time": "2024-02-01T16:22:31.050340500Z"
    }
   },
   "execution_count": 5
  },
  {
   "cell_type": "markdown",
   "metadata": {},
   "source": [
    "#### 3) A partir do dicionário abaixo, crie uma séries do Pandas:"
   ]
  },
  {
   "cell_type": "code",
   "execution_count": 6,
   "metadata": {
    "ExecuteTime": {
     "end_time": "2024-02-01T16:22:31.090189700Z",
     "start_time": "2024-02-01T16:22:31.067533Z"
    }
   },
   "outputs": [
    {
     "data": {
      "text/plain": "1900   -0.08\n1920   -0.27\n1940    0.12\n1960   -0.03\n1980    0.26\n2000    0.40\n2020    1.02\ndtype: float64"
     },
     "execution_count": 6,
     "metadata": {},
     "output_type": "execute_result"
    }
   ],
   "source": [
    "dic_temperaturas = {1900: -.08, 1920: -.27, 1940: .12, 1960: -.03, 1980: .26, 2000: .40, 2020: 1.02}\n",
    "\n",
    "# seu código aqui\n",
    "dic_temperaturas = pd.Series(dic_temperaturas)\n",
    "dic_temperaturas"
   ]
  },
  {
   "cell_type": "markdown",
   "metadata": {},
   "source": [
    "#### 4) Transforme o ndarray abaixo em um dataframe. \n",
    "O numpy é capaz de gerar arrays n-dimensionais com números pseudo-aleatórios de acordo com uma variedade de distribuições, como no exemplo abaixo. Transforme esse nd-array em um DataFrame."
   ]
  },
  {
   "cell_type": "code",
   "execution_count": 7,
   "metadata": {
    "ExecuteTime": {
     "end_time": "2024-02-01T16:22:31.133448900Z",
     "start_time": "2024-02-01T16:22:31.077191100Z"
    }
   },
   "outputs": [
    {
     "data": {
      "text/plain": "             0           1           2\n0   119.684859  107.702420   79.940535\n1   115.176251   99.159541   89.164935\n2   102.559158  101.648982  115.836533\n3    98.903901  113.206897   86.991534\n4   108.103451  105.403318   71.369044\n5    99.516850   91.340114  100.115150\n6   114.747996  105.619151   96.918812\n7    93.891913  120.376578   99.282045\n8    88.654252  104.729609  101.395255\n9    92.196580   96.532700  110.963666\n10  101.751348   90.936481  107.346592\n11  109.408106  119.266875   91.668847\n12  100.257213  103.750417   96.055551\n13  100.847908  107.097007  106.383338\n14  120.803728   88.924650   93.445851\n15   77.082592  107.270892   93.448989\n16  115.624700   96.144513  121.328588\n17  114.623178   96.540268   90.728048\n18   95.128590   95.407991  107.562371\n19  116.251044   90.223064  108.141529",
      "text/html": "<div>\n<style scoped>\n    .dataframe tbody tr th:only-of-type {\n        vertical-align: middle;\n    }\n\n    .dataframe tbody tr th {\n        vertical-align: top;\n    }\n\n    .dataframe thead th {\n        text-align: right;\n    }\n</style>\n<table border=\"1\" class=\"dataframe\">\n  <thead>\n    <tr style=\"text-align: right;\">\n      <th></th>\n      <th>0</th>\n      <th>1</th>\n      <th>2</th>\n    </tr>\n  </thead>\n  <tbody>\n    <tr>\n      <th>0</th>\n      <td>119.684859</td>\n      <td>107.702420</td>\n      <td>79.940535</td>\n    </tr>\n    <tr>\n      <th>1</th>\n      <td>115.176251</td>\n      <td>99.159541</td>\n      <td>89.164935</td>\n    </tr>\n    <tr>\n      <th>2</th>\n      <td>102.559158</td>\n      <td>101.648982</td>\n      <td>115.836533</td>\n    </tr>\n    <tr>\n      <th>3</th>\n      <td>98.903901</td>\n      <td>113.206897</td>\n      <td>86.991534</td>\n    </tr>\n    <tr>\n      <th>4</th>\n      <td>108.103451</td>\n      <td>105.403318</td>\n      <td>71.369044</td>\n    </tr>\n    <tr>\n      <th>5</th>\n      <td>99.516850</td>\n      <td>91.340114</td>\n      <td>100.115150</td>\n    </tr>\n    <tr>\n      <th>6</th>\n      <td>114.747996</td>\n      <td>105.619151</td>\n      <td>96.918812</td>\n    </tr>\n    <tr>\n      <th>7</th>\n      <td>93.891913</td>\n      <td>120.376578</td>\n      <td>99.282045</td>\n    </tr>\n    <tr>\n      <th>8</th>\n      <td>88.654252</td>\n      <td>104.729609</td>\n      <td>101.395255</td>\n    </tr>\n    <tr>\n      <th>9</th>\n      <td>92.196580</td>\n      <td>96.532700</td>\n      <td>110.963666</td>\n    </tr>\n    <tr>\n      <th>10</th>\n      <td>101.751348</td>\n      <td>90.936481</td>\n      <td>107.346592</td>\n    </tr>\n    <tr>\n      <th>11</th>\n      <td>109.408106</td>\n      <td>119.266875</td>\n      <td>91.668847</td>\n    </tr>\n    <tr>\n      <th>12</th>\n      <td>100.257213</td>\n      <td>103.750417</td>\n      <td>96.055551</td>\n    </tr>\n    <tr>\n      <th>13</th>\n      <td>100.847908</td>\n      <td>107.097007</td>\n      <td>106.383338</td>\n    </tr>\n    <tr>\n      <th>14</th>\n      <td>120.803728</td>\n      <td>88.924650</td>\n      <td>93.445851</td>\n    </tr>\n    <tr>\n      <th>15</th>\n      <td>77.082592</td>\n      <td>107.270892</td>\n      <td>93.448989</td>\n    </tr>\n    <tr>\n      <th>16</th>\n      <td>115.624700</td>\n      <td>96.144513</td>\n      <td>121.328588</td>\n    </tr>\n    <tr>\n      <th>17</th>\n      <td>114.623178</td>\n      <td>96.540268</td>\n      <td>90.728048</td>\n    </tr>\n    <tr>\n      <th>18</th>\n      <td>95.128590</td>\n      <td>95.407991</td>\n      <td>107.562371</td>\n    </tr>\n    <tr>\n      <th>19</th>\n      <td>116.251044</td>\n      <td>90.223064</td>\n      <td>108.141529</td>\n    </tr>\n  </tbody>\n</table>\n</div>"
     },
     "execution_count": 7,
     "metadata": {},
     "output_type": "execute_result"
    }
   ],
   "source": [
    "arr = np.random.normal(100, 10, (20,3))\n",
    "\n",
    "# seu código aqui\n",
    "arr = pd.DataFrame(arr)\n",
    "arr"
   ]
  },
  {
   "cell_type": "markdown",
   "metadata": {},
   "source": [
    "#### 5) Nomeie os índices das linhas com inteiros de 1 a 20, e as colunas com os nomes \"x1\", \"x2\", e \"x3\" respectivamente."
   ]
  },
  {
   "cell_type": "code",
   "execution_count": 8,
   "metadata": {
    "ExecuteTime": {
     "end_time": "2024-02-01T16:22:31.179902900Z",
     "start_time": "2024-02-01T16:22:31.098233Z"
    }
   },
   "outputs": [
    {
     "data": {
      "text/plain": "            x1          x2          x3\n1    92.976310  101.995929  107.895131\n2   108.541540   98.369418   84.079113\n3    86.958484   95.955862   88.158944\n4    90.937155  102.779104  105.938009\n5    97.787062   83.062561  109.340709\n6    97.876892  114.002514   98.486139\n7    94.180987   96.940259  110.357984\n8   108.548967  105.618223  105.339431\n9   118.850691   85.487416   97.750517\n10  100.946033  100.514935  106.011619\n11  127.237482   99.936909  118.989489\n12   98.064729   96.119746  105.822299\n13   99.292178  102.333030  106.022258\n14   89.530618  115.230949  105.637253\n15   95.680599  101.184598  108.097643\n16   94.500966  101.239383   98.410756\n17  121.717345  103.793033  100.569191\n18  103.070766   90.033416   95.655934\n19  107.806555   96.699738  100.712887\n20   95.631368   94.648549   84.489161",
      "text/html": "<div>\n<style scoped>\n    .dataframe tbody tr th:only-of-type {\n        vertical-align: middle;\n    }\n\n    .dataframe tbody tr th {\n        vertical-align: top;\n    }\n\n    .dataframe thead th {\n        text-align: right;\n    }\n</style>\n<table border=\"1\" class=\"dataframe\">\n  <thead>\n    <tr style=\"text-align: right;\">\n      <th></th>\n      <th>x1</th>\n      <th>x2</th>\n      <th>x3</th>\n    </tr>\n  </thead>\n  <tbody>\n    <tr>\n      <th>1</th>\n      <td>92.976310</td>\n      <td>101.995929</td>\n      <td>107.895131</td>\n    </tr>\n    <tr>\n      <th>2</th>\n      <td>108.541540</td>\n      <td>98.369418</td>\n      <td>84.079113</td>\n    </tr>\n    <tr>\n      <th>3</th>\n      <td>86.958484</td>\n      <td>95.955862</td>\n      <td>88.158944</td>\n    </tr>\n    <tr>\n      <th>4</th>\n      <td>90.937155</td>\n      <td>102.779104</td>\n      <td>105.938009</td>\n    </tr>\n    <tr>\n      <th>5</th>\n      <td>97.787062</td>\n      <td>83.062561</td>\n      <td>109.340709</td>\n    </tr>\n    <tr>\n      <th>6</th>\n      <td>97.876892</td>\n      <td>114.002514</td>\n      <td>98.486139</td>\n    </tr>\n    <tr>\n      <th>7</th>\n      <td>94.180987</td>\n      <td>96.940259</td>\n      <td>110.357984</td>\n    </tr>\n    <tr>\n      <th>8</th>\n      <td>108.548967</td>\n      <td>105.618223</td>\n      <td>105.339431</td>\n    </tr>\n    <tr>\n      <th>9</th>\n      <td>118.850691</td>\n      <td>85.487416</td>\n      <td>97.750517</td>\n    </tr>\n    <tr>\n      <th>10</th>\n      <td>100.946033</td>\n      <td>100.514935</td>\n      <td>106.011619</td>\n    </tr>\n    <tr>\n      <th>11</th>\n      <td>127.237482</td>\n      <td>99.936909</td>\n      <td>118.989489</td>\n    </tr>\n    <tr>\n      <th>12</th>\n      <td>98.064729</td>\n      <td>96.119746</td>\n      <td>105.822299</td>\n    </tr>\n    <tr>\n      <th>13</th>\n      <td>99.292178</td>\n      <td>102.333030</td>\n      <td>106.022258</td>\n    </tr>\n    <tr>\n      <th>14</th>\n      <td>89.530618</td>\n      <td>115.230949</td>\n      <td>105.637253</td>\n    </tr>\n    <tr>\n      <th>15</th>\n      <td>95.680599</td>\n      <td>101.184598</td>\n      <td>108.097643</td>\n    </tr>\n    <tr>\n      <th>16</th>\n      <td>94.500966</td>\n      <td>101.239383</td>\n      <td>98.410756</td>\n    </tr>\n    <tr>\n      <th>17</th>\n      <td>121.717345</td>\n      <td>103.793033</td>\n      <td>100.569191</td>\n    </tr>\n    <tr>\n      <th>18</th>\n      <td>103.070766</td>\n      <td>90.033416</td>\n      <td>95.655934</td>\n    </tr>\n    <tr>\n      <th>19</th>\n      <td>107.806555</td>\n      <td>96.699738</td>\n      <td>100.712887</td>\n    </tr>\n    <tr>\n      <th>20</th>\n      <td>95.631368</td>\n      <td>94.648549</td>\n      <td>84.489161</td>\n    </tr>\n  </tbody>\n</table>\n</div>"
     },
     "execution_count": 8,
     "metadata": {},
     "output_type": "execute_result"
    }
   ],
   "source": [
    "#seu código aqui\n",
    "arr = np.random.normal(100, 10, (20,3))\n",
    "arr = pd.DataFrame(arr, index=range(1, 21), columns=['x1', 'x2', 'x3'])\n",
    "arr"
   ]
  },
  {
   "cell_type": "markdown",
   "metadata": {},
   "source": [
    "#### 6) No DataFrame do exercício 5, crie uma nova coluna como sendo a média das três colunas, e dê a ela o nome de \"media\" (não recomendo colocar acentos em nomes de variáveis)."
   ]
  },
  {
   "cell_type": "code",
   "execution_count": 9,
   "metadata": {
    "ExecuteTime": {
     "end_time": "2024-02-01T16:22:31.210064Z",
     "start_time": "2024-02-01T16:22:31.110982300Z"
    }
   },
   "outputs": [
    {
     "data": {
      "text/plain": "            x1          x2          x3       media\n1    92.976310  101.995929  107.895131  100.955790\n2   108.541540   98.369418   84.079113   96.996690\n3    86.958484   95.955862   88.158944   90.357763\n4    90.937155  102.779104  105.938009   99.884756\n5    97.787062   83.062561  109.340709   96.730111\n6    97.876892  114.002514   98.486139  103.455181\n7    94.180987   96.940259  110.357984  100.493077\n8   108.548967  105.618223  105.339431  106.502207\n9   118.850691   85.487416   97.750517  100.696208\n10  100.946033  100.514935  106.011619  102.490863\n11  127.237482   99.936909  118.989489  115.387960\n12   98.064729   96.119746  105.822299  100.002258\n13   99.292178  102.333030  106.022258  102.549156\n14   89.530618  115.230949  105.637253  103.466274\n15   95.680599  101.184598  108.097643  101.654280\n16   94.500966  101.239383   98.410756   98.050369\n17  121.717345  103.793033  100.569191  108.693190\n18  103.070766   90.033416   95.655934   96.253372\n19  107.806555   96.699738  100.712887  101.739727\n20   95.631368   94.648549   84.489161   91.589693",
      "text/html": "<div>\n<style scoped>\n    .dataframe tbody tr th:only-of-type {\n        vertical-align: middle;\n    }\n\n    .dataframe tbody tr th {\n        vertical-align: top;\n    }\n\n    .dataframe thead th {\n        text-align: right;\n    }\n</style>\n<table border=\"1\" class=\"dataframe\">\n  <thead>\n    <tr style=\"text-align: right;\">\n      <th></th>\n      <th>x1</th>\n      <th>x2</th>\n      <th>x3</th>\n      <th>media</th>\n    </tr>\n  </thead>\n  <tbody>\n    <tr>\n      <th>1</th>\n      <td>92.976310</td>\n      <td>101.995929</td>\n      <td>107.895131</td>\n      <td>100.955790</td>\n    </tr>\n    <tr>\n      <th>2</th>\n      <td>108.541540</td>\n      <td>98.369418</td>\n      <td>84.079113</td>\n      <td>96.996690</td>\n    </tr>\n    <tr>\n      <th>3</th>\n      <td>86.958484</td>\n      <td>95.955862</td>\n      <td>88.158944</td>\n      <td>90.357763</td>\n    </tr>\n    <tr>\n      <th>4</th>\n      <td>90.937155</td>\n      <td>102.779104</td>\n      <td>105.938009</td>\n      <td>99.884756</td>\n    </tr>\n    <tr>\n      <th>5</th>\n      <td>97.787062</td>\n      <td>83.062561</td>\n      <td>109.340709</td>\n      <td>96.730111</td>\n    </tr>\n    <tr>\n      <th>6</th>\n      <td>97.876892</td>\n      <td>114.002514</td>\n      <td>98.486139</td>\n      <td>103.455181</td>\n    </tr>\n    <tr>\n      <th>7</th>\n      <td>94.180987</td>\n      <td>96.940259</td>\n      <td>110.357984</td>\n      <td>100.493077</td>\n    </tr>\n    <tr>\n      <th>8</th>\n      <td>108.548967</td>\n      <td>105.618223</td>\n      <td>105.339431</td>\n      <td>106.502207</td>\n    </tr>\n    <tr>\n      <th>9</th>\n      <td>118.850691</td>\n      <td>85.487416</td>\n      <td>97.750517</td>\n      <td>100.696208</td>\n    </tr>\n    <tr>\n      <th>10</th>\n      <td>100.946033</td>\n      <td>100.514935</td>\n      <td>106.011619</td>\n      <td>102.490863</td>\n    </tr>\n    <tr>\n      <th>11</th>\n      <td>127.237482</td>\n      <td>99.936909</td>\n      <td>118.989489</td>\n      <td>115.387960</td>\n    </tr>\n    <tr>\n      <th>12</th>\n      <td>98.064729</td>\n      <td>96.119746</td>\n      <td>105.822299</td>\n      <td>100.002258</td>\n    </tr>\n    <tr>\n      <th>13</th>\n      <td>99.292178</td>\n      <td>102.333030</td>\n      <td>106.022258</td>\n      <td>102.549156</td>\n    </tr>\n    <tr>\n      <th>14</th>\n      <td>89.530618</td>\n      <td>115.230949</td>\n      <td>105.637253</td>\n      <td>103.466274</td>\n    </tr>\n    <tr>\n      <th>15</th>\n      <td>95.680599</td>\n      <td>101.184598</td>\n      <td>108.097643</td>\n      <td>101.654280</td>\n    </tr>\n    <tr>\n      <th>16</th>\n      <td>94.500966</td>\n      <td>101.239383</td>\n      <td>98.410756</td>\n      <td>98.050369</td>\n    </tr>\n    <tr>\n      <th>17</th>\n      <td>121.717345</td>\n      <td>103.793033</td>\n      <td>100.569191</td>\n      <td>108.693190</td>\n    </tr>\n    <tr>\n      <th>18</th>\n      <td>103.070766</td>\n      <td>90.033416</td>\n      <td>95.655934</td>\n      <td>96.253372</td>\n    </tr>\n    <tr>\n      <th>19</th>\n      <td>107.806555</td>\n      <td>96.699738</td>\n      <td>100.712887</td>\n      <td>101.739727</td>\n    </tr>\n    <tr>\n      <th>20</th>\n      <td>95.631368</td>\n      <td>94.648549</td>\n      <td>84.489161</td>\n      <td>91.589693</td>\n    </tr>\n  </tbody>\n</table>\n</div>"
     },
     "execution_count": 9,
     "metadata": {},
     "output_type": "execute_result"
    }
   ],
   "source": [
    "# seu código aqui\n",
    "arr['media'] = (arr['x1'] + arr['x2'] + arr['x3']) / 3\n",
    "arr"
   ]
  },
  {
   "cell_type": "markdown",
   "metadata": {},
   "source": [
    "#### 7) No DataFrame do exercício 6, crie uma nova coluna chamada \"log_med\", contendo o logaritmo natural da média calculada no exercício 6 <br>"
   ]
  },
  {
   "cell_type": "code",
   "execution_count": 10,
   "metadata": {
    "ExecuteTime": {
     "end_time": "2024-02-01T16:22:31.255400100Z",
     "start_time": "2024-02-01T16:22:31.129309100Z"
    }
   },
   "outputs": [
    {
     "data": {
      "text/plain": "            x1          x2          x3       media   log_med\n1    92.976310  101.995929  107.895131  100.955790  4.614683\n2   108.541540   98.369418   84.079113   96.996690  4.574677\n3    86.958484   95.955862   88.158944   90.357763  4.503777\n4    90.937155  102.779104  105.938009   99.884756  4.604017\n5    97.787062   83.062561  109.340709   96.730111  4.571925\n6    97.876892  114.002514   98.486139  103.455181  4.639138\n7    94.180987   96.940259  110.357984  100.493077  4.610089\n8   108.548967  105.618223  105.339431  106.502207  4.668166\n9   118.850691   85.487416   97.750517  100.696208  4.612108\n10  100.946033  100.514935  106.011619  102.490863  4.629774\n11  127.237482   99.936909  118.989489  115.387960  4.748300\n12   98.064729   96.119746  105.822299  100.002258  4.605193\n13   99.292178  102.333030  106.022258  102.549156  4.630342\n14   89.530618  115.230949  105.637253  103.466274  4.639246\n15   95.680599  101.184598  108.097643  101.654280  4.621578\n16   94.500966  101.239383   98.410756   98.050369  4.585481\n17  121.717345  103.793033  100.569191  108.693190  4.688529\n18  103.070766   90.033416   95.655934   96.253372  4.566984\n19  107.806555   96.699738  100.712887  101.739727  4.622418\n20   95.631368   94.648549   84.489161   91.589693  4.517319",
      "text/html": "<div>\n<style scoped>\n    .dataframe tbody tr th:only-of-type {\n        vertical-align: middle;\n    }\n\n    .dataframe tbody tr th {\n        vertical-align: top;\n    }\n\n    .dataframe thead th {\n        text-align: right;\n    }\n</style>\n<table border=\"1\" class=\"dataframe\">\n  <thead>\n    <tr style=\"text-align: right;\">\n      <th></th>\n      <th>x1</th>\n      <th>x2</th>\n      <th>x3</th>\n      <th>media</th>\n      <th>log_med</th>\n    </tr>\n  </thead>\n  <tbody>\n    <tr>\n      <th>1</th>\n      <td>92.976310</td>\n      <td>101.995929</td>\n      <td>107.895131</td>\n      <td>100.955790</td>\n      <td>4.614683</td>\n    </tr>\n    <tr>\n      <th>2</th>\n      <td>108.541540</td>\n      <td>98.369418</td>\n      <td>84.079113</td>\n      <td>96.996690</td>\n      <td>4.574677</td>\n    </tr>\n    <tr>\n      <th>3</th>\n      <td>86.958484</td>\n      <td>95.955862</td>\n      <td>88.158944</td>\n      <td>90.357763</td>\n      <td>4.503777</td>\n    </tr>\n    <tr>\n      <th>4</th>\n      <td>90.937155</td>\n      <td>102.779104</td>\n      <td>105.938009</td>\n      <td>99.884756</td>\n      <td>4.604017</td>\n    </tr>\n    <tr>\n      <th>5</th>\n      <td>97.787062</td>\n      <td>83.062561</td>\n      <td>109.340709</td>\n      <td>96.730111</td>\n      <td>4.571925</td>\n    </tr>\n    <tr>\n      <th>6</th>\n      <td>97.876892</td>\n      <td>114.002514</td>\n      <td>98.486139</td>\n      <td>103.455181</td>\n      <td>4.639138</td>\n    </tr>\n    <tr>\n      <th>7</th>\n      <td>94.180987</td>\n      <td>96.940259</td>\n      <td>110.357984</td>\n      <td>100.493077</td>\n      <td>4.610089</td>\n    </tr>\n    <tr>\n      <th>8</th>\n      <td>108.548967</td>\n      <td>105.618223</td>\n      <td>105.339431</td>\n      <td>106.502207</td>\n      <td>4.668166</td>\n    </tr>\n    <tr>\n      <th>9</th>\n      <td>118.850691</td>\n      <td>85.487416</td>\n      <td>97.750517</td>\n      <td>100.696208</td>\n      <td>4.612108</td>\n    </tr>\n    <tr>\n      <th>10</th>\n      <td>100.946033</td>\n      <td>100.514935</td>\n      <td>106.011619</td>\n      <td>102.490863</td>\n      <td>4.629774</td>\n    </tr>\n    <tr>\n      <th>11</th>\n      <td>127.237482</td>\n      <td>99.936909</td>\n      <td>118.989489</td>\n      <td>115.387960</td>\n      <td>4.748300</td>\n    </tr>\n    <tr>\n      <th>12</th>\n      <td>98.064729</td>\n      <td>96.119746</td>\n      <td>105.822299</td>\n      <td>100.002258</td>\n      <td>4.605193</td>\n    </tr>\n    <tr>\n      <th>13</th>\n      <td>99.292178</td>\n      <td>102.333030</td>\n      <td>106.022258</td>\n      <td>102.549156</td>\n      <td>4.630342</td>\n    </tr>\n    <tr>\n      <th>14</th>\n      <td>89.530618</td>\n      <td>115.230949</td>\n      <td>105.637253</td>\n      <td>103.466274</td>\n      <td>4.639246</td>\n    </tr>\n    <tr>\n      <th>15</th>\n      <td>95.680599</td>\n      <td>101.184598</td>\n      <td>108.097643</td>\n      <td>101.654280</td>\n      <td>4.621578</td>\n    </tr>\n    <tr>\n      <th>16</th>\n      <td>94.500966</td>\n      <td>101.239383</td>\n      <td>98.410756</td>\n      <td>98.050369</td>\n      <td>4.585481</td>\n    </tr>\n    <tr>\n      <th>17</th>\n      <td>121.717345</td>\n      <td>103.793033</td>\n      <td>100.569191</td>\n      <td>108.693190</td>\n      <td>4.688529</td>\n    </tr>\n    <tr>\n      <th>18</th>\n      <td>103.070766</td>\n      <td>90.033416</td>\n      <td>95.655934</td>\n      <td>96.253372</td>\n      <td>4.566984</td>\n    </tr>\n    <tr>\n      <th>19</th>\n      <td>107.806555</td>\n      <td>96.699738</td>\n      <td>100.712887</td>\n      <td>101.739727</td>\n      <td>4.622418</td>\n    </tr>\n    <tr>\n      <th>20</th>\n      <td>95.631368</td>\n      <td>94.648549</td>\n      <td>84.489161</td>\n      <td>91.589693</td>\n      <td>4.517319</td>\n    </tr>\n  </tbody>\n</table>\n</div>"
     },
     "execution_count": 10,
     "metadata": {},
     "output_type": "execute_result"
    }
   ],
   "source": [
    "# seu código aqui\n",
    "arr['log_med'] = np.log(arr['media'])\n",
    "arr"
   ]
  }
 ],
 "metadata": {
  "kernelspec": {
   "display_name": "Python 3",
   "language": "python",
   "name": "python3"
  },
  "language_info": {
   "codemirror_mode": {
    "name": "ipython",
    "version": 3
   },
   "file_extension": ".py",
   "mimetype": "text/x-python",
   "name": "python",
   "nbconvert_exporter": "python",
   "pygments_lexer": "ipython3",
   "version": "3.8.5"
  }
 },
 "nbformat": 4,
 "nbformat_minor": 4
}
