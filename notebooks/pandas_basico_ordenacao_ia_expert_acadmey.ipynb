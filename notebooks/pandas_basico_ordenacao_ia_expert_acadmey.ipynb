{
 "cells": [
  {
   "cell_type": "code",
   "id": "initial_id",
   "metadata": {
    "collapsed": true,
    "ExecuteTime": {
     "end_time": "2024-04-26T23:28:37.615317Z",
     "start_time": "2024-04-26T23:28:37.611436Z"
    }
   },
   "source": "import pandas as pd",
   "outputs": [],
   "execution_count": 20
  },
  {
   "metadata": {
    "ExecuteTime": {
     "end_time": "2024-04-26T23:28:37.632479Z",
     "start_time": "2024-04-26T23:28:37.620314Z"
    }
   },
   "cell_type": "code",
   "source": "df = pd.read_csv('./AirPassengers.csv')",
   "id": "13bb1e9dea897559",
   "outputs": [],
   "execution_count": 21
  },
  {
   "metadata": {
    "ExecuteTime": {
     "end_time": "2024-04-26T23:28:37.642677Z",
     "start_time": "2024-04-26T23:28:37.635025Z"
    }
   },
   "cell_type": "code",
   "source": [
    "df.sort_values(by='#Passengers', ascending=True, inplace=True)\n",
    "print(df)"
   ],
   "id": "c02024e1fab10a41",
   "outputs": [
    {
     "name": "stdout",
     "output_type": "stream",
     "text": [
      "       Month  #Passengers\n",
      "10   1949-11          104\n",
      "0    1949-01          112\n",
      "22   1950-11          114\n",
      "12   1950-01          115\n",
      "1    1949-02          118\n",
      "..       ...          ...\n",
      "137  1960-06          535\n",
      "126  1959-07          548\n",
      "127  1959-08          559\n",
      "139  1960-08          606\n",
      "138  1960-07          622\n",
      "\n",
      "[144 rows x 2 columns]\n"
     ]
    }
   ],
   "execution_count": 22
  },
  {
   "metadata": {
    "ExecuteTime": {
     "end_time": "2024-04-26T23:28:37.654179Z",
     "start_time": "2024-04-26T23:28:37.644188Z"
    }
   },
   "cell_type": "code",
   "source": [
    "df.sort_values(by='#Passengers', ascending=False, inplace=True)\n",
    "print(df)"
   ],
   "id": "b8a68c4c446e41b0",
   "outputs": [
    {
     "name": "stdout",
     "output_type": "stream",
     "text": [
      "       Month  #Passengers\n",
      "138  1960-07          622\n",
      "139  1960-08          606\n",
      "127  1959-08          559\n",
      "126  1959-07          548\n",
      "137  1960-06          535\n",
      "..       ...          ...\n",
      "11   1949-12          118\n",
      "12   1950-01          115\n",
      "22   1950-11          114\n",
      "0    1949-01          112\n",
      "10   1949-11          104\n",
      "\n",
      "[144 rows x 2 columns]\n"
     ]
    }
   ],
   "execution_count": 23
  },
  {
   "metadata": {
    "ExecuteTime": {
     "end_time": "2024-04-26T23:42:52.686358Z",
     "start_time": "2024-04-26T23:42:52.678200Z"
    }
   },
   "cell_type": "code",
   "source": [
    "df.sort_index(ascending=True, inplace=True)\n",
    "print(df)"
   ],
   "id": "acb2042d91b5ab1f",
   "outputs": [
    {
     "name": "stdout",
     "output_type": "stream",
     "text": [
      "       Month  #Passengers\n",
      "0    1949-01          112\n",
      "1    1949-02          118\n",
      "2    1949-03          132\n",
      "3    1949-04          129\n",
      "4    1949-05          121\n",
      "..       ...          ...\n",
      "139  1960-08          606\n",
      "140  1960-09          508\n",
      "141  1960-10          461\n",
      "142  1960-11          390\n",
      "143  1960-12          432\n",
      "\n",
      "[144 rows x 2 columns]\n"
     ]
    }
   ],
   "execution_count": 25
  }
 ],
 "metadata": {
  "kernelspec": {
   "display_name": "Python 3",
   "language": "python",
   "name": "python3"
  },
  "language_info": {
   "codemirror_mode": {
    "name": "ipython",
    "version": 2
   },
   "file_extension": ".py",
   "mimetype": "text/x-python",
   "name": "python",
   "nbconvert_exporter": "python",
   "pygments_lexer": "ipython2",
   "version": "2.7.6"
  }
 },
 "nbformat": 4,
 "nbformat_minor": 5
}
