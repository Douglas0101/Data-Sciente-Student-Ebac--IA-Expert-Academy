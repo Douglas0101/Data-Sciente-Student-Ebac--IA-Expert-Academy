{
 "cells": [
  {
   "cell_type": "code",
   "id": "initial_id",
   "metadata": {
    "collapsed": true,
    "ExecuteTime": {
     "end_time": "2024-04-12T22:22:10.967957Z",
     "start_time": "2024-04-12T22:22:03.966518Z"
    }
   },
   "source": [
    "# Exercício - 11 - Python - Básico - IA Expert Academy\n",
    "\n",
    "def dados(leitura_dados):\n",
    "    print(leitura_dados)\n",
    "    leitura_dados = float(input())\n",
    "    return leitura_dados\n",
    "\n",
    "def calculo_distancia(tempo, velocidade):\n",
    "    return tempo * velocidade\n",
    "\n",
    "def calculo_litros_usados(distancia):\n",
    "    return distancia / 12\n",
    "\n",
    "if __name__ == '__main__':\n",
    "    tempo = dados('Tempo gasto (h)')\n",
    "    print(tempo)\n",
    "    velocidade = dados('Velocidade média (km/h)')\n",
    "    print(velocidade)\n",
    "    distancia = calculo_distancia(tempo, velocidade)\n",
    "    print(f'Distancia percorrida: {distancia:.2f}')\n",
    "    litros = calculo_litros_usados(distancia)\n",
    "    \n",
    "    print(f'Litros usados: {litros:.2f}')"
   ],
   "outputs": [
    {
     "name": "stdout",
     "output_type": "stream",
     "text": [
      "Tempo gasto (h)\n",
      "3.0\n",
      "Velocidade média (km/h)\n",
      "120.0\n",
      "Distancia percorrida: 360.00\n",
      "Litros usados: 30.00\n"
     ]
    }
   ],
   "execution_count": 2
  },
  {
   "metadata": {},
   "cell_type": "markdown",
   "source": "",
   "id": "525a5acaf78cb0fd"
  }
 ],
 "metadata": {
  "kernelspec": {
   "display_name": "Python 3",
   "language": "python",
   "name": "python3"
  },
  "language_info": {
   "codemirror_mode": {
    "name": "ipython",
    "version": 2
   },
   "file_extension": ".py",
   "mimetype": "text/x-python",
   "name": "python",
   "nbconvert_exporter": "python",
   "pygments_lexer": "ipython2",
   "version": "2.7.6"
  }
 },
 "nbformat": 4,
 "nbformat_minor": 5
}
