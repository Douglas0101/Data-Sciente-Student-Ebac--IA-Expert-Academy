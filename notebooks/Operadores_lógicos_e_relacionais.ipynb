{
 "nbformat": 4,
 "nbformat_minor": 0,
 "metadata": {
  "colab": {
   "provenance": []
  },
  "kernelspec": {
   "name": "python3",
   "display_name": "Python 3 (ipykernel)",
   "language": "python"
  }
 },
 "cells": [
  {
   "cell_type": "markdown",
   "metadata": {
    "id": "GY09z1-ia5g8"
   },
   "source": [
    "# Operadores lógicos e relacionais\n",
    "\n",
    "\n"
   ]
  },
  {
   "cell_type": "markdown",
   "metadata": {
    "id": "HI4JJHvBa8vR"
   },
   "source": [
    "## Operadores lógicos"
   ]
  },
  {
   "cell_type": "code",
   "metadata": {
    "id": "rzfRhacJ5SKw",
    "ExecuteTime": {
     "end_time": "2024-04-08T20:02:31.961712Z",
     "start_time": "2024-04-08T20:02:31.957832Z"
    }
   },
   "source": [
    "a = True\n",
    "b = False"
   ],
   "outputs": [],
   "execution_count": 17
  },
  {
   "cell_type": "code",
   "metadata": {
    "id": "4X7HAtz65dax",
    "colab": {
     "base_uri": "https://localhost:8080/",
     "height": 34
    },
    "outputId": "d1192e36-545a-480b-cc6f-12c04cb525e3",
    "ExecuteTime": {
     "end_time": "2024-04-08T20:02:32.060705Z",
     "start_time": "2024-04-08T20:02:32.055477Z"
    }
   },
   "source": "print(a,'&', b)",
   "outputs": [
    {
     "name": "stdout",
     "output_type": "stream",
     "text": [
      "True & False\n"
     ]
    }
   ],
   "execution_count": 18
  },
  {
   "cell_type": "code",
   "metadata": {
    "id": "etBezuil5j5w",
    "colab": {
     "base_uri": "https://localhost:8080/",
     "height": 34
    },
    "outputId": "c453eefe-a93a-41cf-8df2-dc44e11ea1ee",
    "ExecuteTime": {
     "end_time": "2024-04-08T20:02:32.088588Z",
     "start_time": "2024-04-08T20:02:32.078912Z"
    }
   },
   "source": [
    "a and b"
   ],
   "outputs": [
    {
     "data": {
      "text/plain": [
       "False"
      ]
     },
     "execution_count": 19,
     "metadata": {},
     "output_type": "execute_result"
    }
   ],
   "execution_count": 19
  },
  {
   "cell_type": "code",
   "metadata": {
    "id": "UtWISDG45rdf",
    "colab": {
     "base_uri": "https://localhost:8080/",
     "height": 34
    },
    "outputId": "b7c458c2-90d7-4c07-9ea1-a8a538ab1ec0",
    "ExecuteTime": {
     "end_time": "2024-04-08T20:02:32.127431Z",
     "start_time": "2024-04-08T20:02:32.117883Z"
    }
   },
   "source": [
    "a & b"
   ],
   "outputs": [
    {
     "data": {
      "text/plain": [
       "False"
      ]
     },
     "execution_count": 20,
     "metadata": {},
     "output_type": "execute_result"
    }
   ],
   "execution_count": 20
  },
  {
   "cell_type": "code",
   "metadata": {
    "id": "V5z_jiGH5zpJ",
    "colab": {
     "base_uri": "https://localhost:8080/",
     "height": 34
    },
    "outputId": "d1ed4af0-c5fc-4840-ca3c-51c8615ff073",
    "ExecuteTime": {
     "end_time": "2024-04-08T20:02:32.162105Z",
     "start_time": "2024-04-08T20:02:32.157371Z"
    }
   },
   "source": [
    "c = a and b\n",
    "print(\"'A' e 'B' são iguais é\", c)"
   ],
   "outputs": [
    {
     "name": "stdout",
     "output_type": "stream",
     "text": [
      "'A' e 'B' são iguais é False\n"
     ]
    }
   ],
   "execution_count": 21
  },
  {
   "cell_type": "code",
   "metadata": {
    "id": "pYv-F6Uo6Jik",
    "colab": {
     "base_uri": "https://localhost:8080/",
     "height": 34
    },
    "outputId": "020666ad-4d96-4f3b-af21-5dfd831227b8",
    "ExecuteTime": {
     "end_time": "2024-04-08T20:02:32.250037Z",
     "start_time": "2024-04-08T20:02:32.240336Z"
    }
   },
   "source": [
    "a or b"
   ],
   "outputs": [
    {
     "data": {
      "text/plain": [
       "True"
      ]
     },
     "execution_count": 22,
     "metadata": {},
     "output_type": "execute_result"
    }
   ],
   "execution_count": 22
  },
  {
   "cell_type": "code",
   "metadata": {
    "id": "IX_vZaDm6Pwf",
    "colab": {
     "base_uri": "https://localhost:8080/",
     "height": 34
    },
    "outputId": "1eb5921f-5e07-4bd8-a123-1b5c271b7e4e",
    "ExecuteTime": {
     "end_time": "2024-04-08T20:02:32.332129Z",
     "start_time": "2024-04-08T20:02:32.326389Z"
    }
   },
   "source": [
    "a | b"
   ],
   "outputs": [
    {
     "data": {
      "text/plain": [
       "True"
      ]
     },
     "execution_count": 23,
     "metadata": {},
     "output_type": "execute_result"
    }
   ],
   "execution_count": 23
  },
  {
   "cell_type": "code",
   "metadata": {
    "id": "TtqH9SuN6WYc",
    "colab": {
     "base_uri": "https://localhost:8080/",
     "height": 34
    },
    "outputId": "632a407f-4d0c-409f-b775-396c78996f61",
    "ExecuteTime": {
     "end_time": "2024-04-08T20:02:32.422492Z",
     "start_time": "2024-04-08T20:02:32.413953Z"
    }
   },
   "source": [
    "d = a or b\n",
    "print(\"'A' ou 'B' é igual a\", d)"
   ],
   "outputs": [
    {
     "name": "stdout",
     "output_type": "stream",
     "text": [
      "'A' ou 'B' é igual a True\n"
     ]
    }
   ],
   "execution_count": 24
  },
  {
   "cell_type": "code",
   "metadata": {
    "id": "pEfaRFzZ6fNZ",
    "colab": {
     "base_uri": "https://localhost:8080/",
     "height": 34
    },
    "outputId": "bceb5136-9551-4e29-9f64-bea0e8aecd78",
    "ExecuteTime": {
     "end_time": "2024-04-08T20:02:32.452063Z",
     "start_time": "2024-04-08T20:02:32.435476Z"
    }
   },
   "source": [
    "not a"
   ],
   "outputs": [
    {
     "data": {
      "text/plain": [
       "False"
      ]
     },
     "execution_count": 25,
     "metadata": {},
     "output_type": "execute_result"
    }
   ],
   "execution_count": 25
  },
  {
   "cell_type": "code",
   "metadata": {
    "id": "IIvESI1X6lrp",
    "colab": {
     "base_uri": "https://localhost:8080/",
     "height": 34
    },
    "outputId": "b7a13b2f-4ec8-4dda-8e19-05c2961af5c6",
    "ExecuteTime": {
     "end_time": "2024-04-08T20:02:32.480506Z",
     "start_time": "2024-04-08T20:02:32.473461Z"
    }
   },
   "source": [
    "not b"
   ],
   "outputs": [
    {
     "data": {
      "text/plain": [
       "True"
      ]
     },
     "execution_count": 26,
     "metadata": {},
     "output_type": "execute_result"
    }
   ],
   "execution_count": 26
  },
  {
   "cell_type": "markdown",
   "metadata": {
    "id": "dsJcxHQxcIdd"
   },
   "source": [
    "## Operadores relacionais"
   ]
  },
  {
   "cell_type": "code",
   "metadata": {
    "id": "hV8lQ68M6osG",
    "colab": {
     "base_uri": "https://localhost:8080/",
     "height": 34
    },
    "outputId": "3dcaa35d-e2aa-44c3-c85e-637a0bec5440",
    "ExecuteTime": {
     "end_time": "2024-04-08T20:02:32.542910Z",
     "start_time": "2024-04-08T20:02:32.537735Z"
    }
   },
   "source": [
    "5 > 3"
   ],
   "outputs": [
    {
     "data": {
      "text/plain": [
       "True"
      ]
     },
     "execution_count": 27,
     "metadata": {},
     "output_type": "execute_result"
    }
   ],
   "execution_count": 27
  },
  {
   "cell_type": "code",
   "metadata": {
    "id": "bnrB8kMC6ttx",
    "colab": {
     "base_uri": "https://localhost:8080/",
     "height": 34
    },
    "outputId": "39a2bc6b-a5b0-4739-a923-0727c9d284e8",
    "ExecuteTime": {
     "end_time": "2024-04-08T20:02:32.616370Z",
     "start_time": "2024-04-08T20:02:32.611007Z"
    }
   },
   "source": [
    "5 < 3"
   ],
   "outputs": [
    {
     "data": {
      "text/plain": [
       "False"
      ]
     },
     "execution_count": 28,
     "metadata": {},
     "output_type": "execute_result"
    }
   ],
   "execution_count": 28
  },
  {
   "cell_type": "code",
   "metadata": {
    "id": "TCupjJD86v6T",
    "colab": {
     "base_uri": "https://localhost:8080/",
     "height": 34
    },
    "outputId": "a947d770-914b-472e-efa9-f6cacedcaf92",
    "ExecuteTime": {
     "end_time": "2024-04-08T20:02:32.663194Z",
     "start_time": "2024-04-08T20:02:32.658528Z"
    }
   },
   "source": [
    "5 >= 5"
   ],
   "outputs": [
    {
     "data": {
      "text/plain": [
       "True"
      ]
     },
     "execution_count": 29,
     "metadata": {},
     "output_type": "execute_result"
    }
   ],
   "execution_count": 29
  },
  {
   "cell_type": "code",
   "metadata": {
    "id": "HgmwL04662Pp",
    "colab": {
     "base_uri": "https://localhost:8080/",
     "height": 34
    },
    "outputId": "c805960b-25cf-49e5-99fb-f2d3f35a8928",
    "ExecuteTime": {
     "end_time": "2024-04-08T20:02:32.730221Z",
     "start_time": "2024-04-08T20:02:32.722703Z"
    }
   },
   "source": [
    "5 <= 3"
   ],
   "outputs": [
    {
     "data": {
      "text/plain": [
       "False"
      ]
     },
     "execution_count": 30,
     "metadata": {},
     "output_type": "execute_result"
    }
   ],
   "execution_count": 30
  },
  {
   "cell_type": "code",
   "metadata": {
    "id": "n5Tagg3c65wR",
    "colab": {
     "base_uri": "https://localhost:8080/",
     "height": 34
    },
    "outputId": "b5207fa6-e187-4aa4-997f-39ee2059ac23",
    "ExecuteTime": {
     "end_time": "2024-04-08T20:02:32.790763Z",
     "start_time": "2024-04-08T20:02:32.776251Z"
    }
   },
   "source": [
    "5 == 3"
   ],
   "outputs": [
    {
     "data": {
      "text/plain": [
       "False"
      ]
     },
     "execution_count": 31,
     "metadata": {},
     "output_type": "execute_result"
    }
   ],
   "execution_count": 31
  },
  {
   "cell_type": "code",
   "metadata": {
    "id": "1fAPptVK7Bu_",
    "colab": {
     "base_uri": "https://localhost:8080/",
     "height": 34
    },
    "outputId": "17cf4eca-8eea-4801-ca11-33019f7f251a",
    "ExecuteTime": {
     "end_time": "2024-04-08T20:02:32.826173Z",
     "start_time": "2024-04-08T20:02:32.815751Z"
    }
   },
   "source": [
    "5 != 3"
   ],
   "outputs": [
    {
     "data": {
      "text/plain": [
       "True"
      ]
     },
     "execution_count": 32,
     "metadata": {},
     "output_type": "execute_result"
    }
   ],
   "execution_count": 32
  }
 ]
}
