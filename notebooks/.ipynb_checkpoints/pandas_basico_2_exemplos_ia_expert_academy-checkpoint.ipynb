{
 "cells": [
  {
   "cell_type": "code",
   "execution_count": 70,
   "id": "initial_id",
   "metadata": {
    "collapsed": true
   },
   "outputs": [],
   "source": [
    "lista = [0, 1, 2, 3, 4, 5, 6, 7, 8, 9]\n",
    "print(lista[0:5])"
   ]
  },
  {
   "cell_type": "code",
   "execution_count": 71,
   "id": "b7193be020a3a617",
   "metadata": {},
   "outputs": [],
   "source": [
    "string = 'Python'\n",
    "print(string[1:4])"
   ]
  },
  {
   "cell_type": "code",
   "execution_count": 72,
   "id": "d8caf9f8c8593f44",
   "metadata": {},
   "outputs": [],
   "source": [
    "import numpy as np"
   ]
  },
  {
   "cell_type": "code",
   "execution_count": 73,
   "id": "a46ad50091d759e5",
   "metadata": {},
   "outputs": [],
   "source": [
    "array = np.array([0, 1, 2, 3, 4, 5, 6, 7, 8, 9])\n",
    "print(array[0:5])"
   ]
  },
  {
   "cell_type": "code",
   "execution_count": 74,
   "id": "aebce22936c20bc3",
   "metadata": {},
   "outputs": [],
   "source": [
    "print(array[1:4])"
   ]
  },
  {
   "cell_type": "code",
   "execution_count": 75,
   "id": "1a4c783f281cdff",
   "metadata": {},
   "outputs": [],
   "source": [
    "import pandas as pd"
   ]
  },
  {
   "cell_type": "code",
   "execution_count": 76,
   "id": "c887ac806a402490",
   "metadata": {},
   "outputs": [],
   "source": [
    "s = pd.Series([0, 1, 2, 3, 4, 5, 6, 7, 8, 9])\n",
    "print(s[0:5])"
   ]
  },
  {
   "cell_type": "code",
   "execution_count": 77,
   "id": "2fee5019eeeace4f",
   "metadata": {},
   "outputs": [],
   "source": [
    "s = pd.Series([0, 1, 2, 3, 4, 5, 6, 7, 8, 9])\n",
    "print(s[1:4])"
   ]
  },
  {
   "cell_type": "code",
   "execution_count": 78,
   "id": "10dce68216a9dabe",
   "metadata": {},
   "outputs": [],
   "source": [
    "df = pd.DataFrame(\n",
    "    {\n",
    "        'A': [0, 1, 2, 3, 4],\n",
    "        'B': [5, 6, 7, 8, 9]\n",
    "    }\n",
    ")\n",
    "\n",
    "print(df[1:4])"
   ]
  },
  {
   "cell_type": "code",
   "execution_count": 79,
   "id": "bdadb11c64efa2fb",
   "metadata": {},
   "outputs": [],
   "source": [
    "print(lista[::2])"
   ]
  }
 ],
 "metadata": {
  "kernelspec": {
   "display_name": "Python 3 (ipykernel)",
   "language": "python",
   "name": "python3"
  },
  "language_info": {
   "codemirror_mode": {
    "name": "ipython",
    "version": 3
   },
   "file_extension": ".py",
   "mimetype": "text/x-python",
   "name": "python",
   "nbconvert_exporter": "python",
   "pygments_lexer": "ipython3",
   "version": "3.11.9"
  }
 },
 "nbformat": 4,
 "nbformat_minor": 5
}
