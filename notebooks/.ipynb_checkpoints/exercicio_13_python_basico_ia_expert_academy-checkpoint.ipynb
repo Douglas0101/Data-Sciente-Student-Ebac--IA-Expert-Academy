{
 "cells": [
  {
   "cell_type": "code",
   "id": "initial_id",
   "metadata": {
    "collapsed": true,
    "ExecuteTime": {
     "end_time": "2024-04-16T23:18:35.247408Z",
     "start_time": "2024-04-16T23:18:33.685138Z"
    }
   },
   "source": [
    "# Exercício - 13 - Python Básico - IA Expert Academy\n",
    "\n",
    "lista = []    \n",
    "\n",
    "try:\n",
    "    lista.append(float(input('Digite um número: ')))\n",
    "    lista.append(float(input('Digite outro número: ')))\n",
    "    divisao = lista[0] / lista[1]\n",
    "except ValueError:\n",
    "    print('Digite somente números.')\n",
    "except ZeroDivisionError:\n",
    "    print('Não é possível executar divisão por zero.')\n",
    "except IndexError:\n",
    "    print('O valor inserido ultrapassa o limite da lista.')\n",
    "except KeyboardInterrupt:\n",
    "    print('Programa encerrado pelo usuário.')\n",
    "else:\n",
    "    print(f'{divisao:.2f}')\n",
    "finally:\n",
    "    print('Fim do programa.')"
   ],
   "outputs": [
    {
     "name": "stdout",
     "output_type": "stream",
     "text": [
      "Digite somente números.\n",
      "Fim do programa.\n"
     ]
    }
   ],
   "execution_count": 42
  }
 ],
 "metadata": {
  "kernelspec": {
   "display_name": "Python 3",
   "language": "python",
   "name": "python3"
  },
  "language_info": {
   "codemirror_mode": {
    "name": "ipython",
    "version": 2
   },
   "file_extension": ".py",
   "mimetype": "text/x-python",
   "name": "python",
   "nbconvert_exporter": "python",
   "pygments_lexer": "ipython2",
   "version": "2.7.6"
  }
 },
 "nbformat": 4,
 "nbformat_minor": 5
}
