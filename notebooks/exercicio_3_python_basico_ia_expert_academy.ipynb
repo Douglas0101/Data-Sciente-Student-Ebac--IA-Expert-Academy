{
 "cells": [
  {
   "metadata": {
    "ExecuteTime": {
     "end_time": "2024-04-09T16:16:45.488940Z",
     "start_time": "2024-04-09T16:16:45.482614Z"
    }
   },
   "cell_type": "code",
   "source": [
    "def leitura_idade(idade):\n",
    "    print(idade)\n",
    "    idade = int(input())\n",
    "    return idade\n",
    "\n",
    "def condicao(idade):\n",
    "    if idade > 0 and idade <= 12:\n",
    "        print('Criança!')\n",
    "    elif idade >= 13 and idade <= 17:\n",
    "        print('Adolescente!')\n",
    "    elif idade >= 18:\n",
    "        print('Adulto')\n",
    "    else:\n",
    "        print('Não é possível realizar leitura de idade negativa.')\n",
    "    return idade"
   ],
   "id": "d34857c913a006e7",
   "outputs": [],
   "execution_count": 63
  },
  {
   "metadata": {
    "ExecuteTime": {
     "end_time": "2024-04-09T16:16:47.840298Z",
     "start_time": "2024-04-09T16:16:45.494930Z"
    }
   },
   "cell_type": "code",
   "source": [
    "leitura = leitura_idade('Informe uma idade')\n",
    "print(leitura)\n",
    "comparativo = condicao(leitura)"
   ],
   "id": "1819d52238dc33c4",
   "outputs": [
    {
     "name": "stdout",
     "output_type": "stream",
     "text": [
      "Informe uma idade\n",
      "19\n",
      "Adulto\n"
     ]
    }
   ],
   "execution_count": 64
  }
 ],
 "metadata": {
  "kernelspec": {
   "display_name": "Python 3",
   "language": "python",
   "name": "python3"
  },
  "language_info": {
   "codemirror_mode": {
    "name": "ipython",
    "version": 2
   },
   "file_extension": ".py",
   "mimetype": "text/x-python",
   "name": "python",
   "nbconvert_exporter": "python",
   "pygments_lexer": "ipython2",
   "version": "2.7.6"
  }
 },
 "nbformat": 4,
 "nbformat_minor": 5
}
