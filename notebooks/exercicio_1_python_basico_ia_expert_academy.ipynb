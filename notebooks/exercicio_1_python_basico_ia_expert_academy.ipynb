{
 "cells": [
  {
   "cell_type": "code",
   "id": "initial_id",
   "metadata": {
    "collapsed": true,
    "ExecuteTime": {
     "end_time": "2024-04-08T04:30:45.133902Z",
     "start_time": "2024-04-08T04:30:45.120642Z"
    }
   },
   "source": [
    "def leitura_numero(numero):\n",
    "    print(numero)\n",
    "    numero = float(input())\n",
    "    return numero\n",
    "\n",
    "def calculo_adicao(x, y):\n",
    "    return x + y\n",
    "\n",
    "def calculo_subtracao(x, y):\n",
    "    return x - y\n",
    "\n",
    "def calculo_multiplicacao(x, y):\n",
    "    return x * y\n",
    "\n",
    "def calculo_divisao(x, y):\n",
    "    return x / y\n",
    "\n",
    "def calculo_potenciacao(x, y):\n",
    "    return x**y\n",
    "\n",
    "def resultado(calcular):\n",
    "    print(f'x & y = {calcular}')\n",
    "    return calcular"
   ],
   "outputs": [],
   "execution_count": 19
  },
  {
   "metadata": {
    "ExecuteTime": {
     "end_time": "2024-04-08T04:30:48.136750Z",
     "start_time": "2024-04-08T04:30:45.136415Z"
    }
   },
   "cell_type": "code",
   "source": [
    "if __name__ == '__main__':\n",
    "    valor_1 = leitura_numero('Digite um número: ')\n",
    "    valor_2 = leitura_numero('Digite um número: ')\n",
    "    for valor in [valor_1, valor_2]:\n",
    "        soma = calculo_adicao(valor_1, valor_2)\n",
    "        subtracao = calculo_subtracao(valor_1, valor_2)\n",
    "        multiplicacao = calculo_multiplicacao(valor_1, valor_2)\n",
    "        divisao = calculo_divisao(valor_1, valor_2)\n",
    "        potenciacao = calculo_potenciacao(valor_1, valor_2)\n",
    "    resultado(soma)\n",
    "    resultado(subtracao)\n",
    "    resultado(multiplicacao)\n",
    "    resultado(divisao)\n",
    "    resultado(potenciacao)"
   ],
   "id": "70aaa3fcc55bc889",
   "outputs": [
    {
     "name": "stdout",
     "output_type": "stream",
     "text": [
      "Digite um número: \n",
      "Digite um número: \n",
      "x & y = 66.0\n",
      "x & y = -62.0\n",
      "x & y = 128.0\n",
      "x & y = 0.03125\n",
      "x & y = 1.8446744073709552e+19\n"
     ]
    }
   ],
   "execution_count": 20
  }
 ],
 "metadata": {
  "kernelspec": {
   "display_name": "Python 3",
   "language": "python",
   "name": "python3"
  },
  "language_info": {
   "codemirror_mode": {
    "name": "ipython",
    "version": 2
   },
   "file_extension": ".py",
   "mimetype": "text/x-python",
   "name": "python",
   "nbconvert_exporter": "python",
   "pygments_lexer": "ipython2",
   "version": "2.7.6"
  }
 },
 "nbformat": 4,
 "nbformat_minor": 5
}
