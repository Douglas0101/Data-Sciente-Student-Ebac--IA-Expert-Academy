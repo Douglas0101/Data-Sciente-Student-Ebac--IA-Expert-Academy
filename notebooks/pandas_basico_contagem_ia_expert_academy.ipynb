{
 "cells": [
  {
   "cell_type": "code",
   "id": "initial_id",
   "metadata": {
    "collapsed": true,
    "ExecuteTime": {
     "end_time": "2024-04-26T23:47:01.161402Z",
     "start_time": "2024-04-26T23:47:00.119676Z"
    }
   },
   "source": "import pandas as pd",
   "outputs": [],
   "execution_count": 2
  },
  {
   "metadata": {
    "ExecuteTime": {
     "end_time": "2024-04-26T23:47:01.252683Z",
     "start_time": "2024-04-26T23:47:01.162421Z"
    }
   },
   "cell_type": "code",
   "source": "df = pd.read_csv('./pagamentos_largo.csv')",
   "id": "977db4e00db59c0b",
   "outputs": [],
   "execution_count": 3
  },
  {
   "metadata": {
    "ExecuteTime": {
     "end_time": "2024-04-26T23:47:01.300293Z",
     "start_time": "2024-04-26T23:47:01.257278Z"
    }
   },
   "cell_type": "code",
   "source": "print(df.count())",
   "id": "890ba5a4c77c5484",
   "outputs": [
    {
     "name": "stdout",
     "output_type": "stream",
     "text": [
      "ID        20937\n",
      "mes_0     20937\n",
      "mes_1     19216\n",
      "mes_10    17455\n",
      "mes_11    16972\n",
      "mes_12    16943\n",
      "mes_13    16540\n",
      "mes_14    16525\n",
      "mes_15    16155\n",
      "mes_16    16093\n",
      "mes_17    15911\n",
      "mes_18    15630\n",
      "mes_19    15336\n",
      "mes_2     19348\n",
      "mes_20    15184\n",
      "mes_21    15076\n",
      "mes_22    14797\n",
      "mes_23    14598\n",
      "mes_24    14433\n",
      "mes_3     18925\n",
      "mes_4     18802\n",
      "mes_5     18512\n",
      "mes_6     18214\n",
      "mes_7     17762\n",
      "mes_8     17741\n",
      "mes_9     17510\n",
      "dtype: int64\n"
     ]
    }
   ],
   "execution_count": 4
  },
  {
   "metadata": {
    "ExecuteTime": {
     "end_time": "2024-04-26T23:48:09.903922Z",
     "start_time": "2024-04-26T23:48:09.898248Z"
    }
   },
   "cell_type": "code",
   "source": "print(df['mes_0'].count())",
   "id": "12a8fd62754e02a7",
   "outputs": [
    {
     "name": "stdout",
     "output_type": "stream",
     "text": [
      "20937\n"
     ]
    }
   ],
   "execution_count": 6
  },
  {
   "metadata": {
    "ExecuteTime": {
     "end_time": "2024-04-26T23:49:35.122825Z",
     "start_time": "2024-04-26T23:49:35.099923Z"
    }
   },
   "cell_type": "code",
   "source": "print(df.count(axis=0))",
   "id": "108bf447e7e112e1",
   "outputs": [
    {
     "name": "stdout",
     "output_type": "stream",
     "text": [
      "ID        20937\n",
      "mes_0     20937\n",
      "mes_1     19216\n",
      "mes_10    17455\n",
      "mes_11    16972\n",
      "mes_12    16943\n",
      "mes_13    16540\n",
      "mes_14    16525\n",
      "mes_15    16155\n",
      "mes_16    16093\n",
      "mes_17    15911\n",
      "mes_18    15630\n",
      "mes_19    15336\n",
      "mes_2     19348\n",
      "mes_20    15184\n",
      "mes_21    15076\n",
      "mes_22    14797\n",
      "mes_23    14598\n",
      "mes_24    14433\n",
      "mes_3     18925\n",
      "mes_4     18802\n",
      "mes_5     18512\n",
      "mes_6     18214\n",
      "mes_7     17762\n",
      "mes_8     17741\n",
      "mes_9     17510\n",
      "dtype: int64\n"
     ]
    }
   ],
   "execution_count": 8
  },
  {
   "metadata": {
    "ExecuteTime": {
     "end_time": "2024-04-26T23:49:53.836972Z",
     "start_time": "2024-04-26T23:49:53.803922Z"
    }
   },
   "cell_type": "code",
   "source": "print(df.count(axis=1))",
   "id": "d5a4704205b1a1c9",
   "outputs": [
    {
     "name": "stdout",
     "output_type": "stream",
     "text": [
      "0        19\n",
      "1        26\n",
      "2        26\n",
      "3         9\n",
      "4        26\n",
      "         ..\n",
      "20932    26\n",
      "20933    18\n",
      "20934    26\n",
      "20935    19\n",
      "20936    26\n",
      "Length: 20937, dtype: int64\n"
     ]
    }
   ],
   "execution_count": 9
  },
  {
   "metadata": {},
   "cell_type": "code",
   "outputs": [],
   "execution_count": null,
   "source": "",
   "id": "e83b3c50fa74f3e4"
  }
 ],
 "metadata": {
  "kernelspec": {
   "display_name": "Python 3",
   "language": "python",
   "name": "python3"
  },
  "language_info": {
   "codemirror_mode": {
    "name": "ipython",
    "version": 2
   },
   "file_extension": ".py",
   "mimetype": "text/x-python",
   "name": "python",
   "nbconvert_exporter": "python",
   "pygments_lexer": "ipython2",
   "version": "2.7.6"
  }
 },
 "nbformat": 4,
 "nbformat_minor": 5
}
