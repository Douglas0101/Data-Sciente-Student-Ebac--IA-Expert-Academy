{
 "cells": [
  {
   "cell_type": "code",
   "id": "initial_id",
   "metadata": {
    "collapsed": true,
    "ExecuteTime": {
     "end_time": "2024-04-12T03:50:25.666075Z",
     "start_time": "2024-04-12T03:50:07.802505Z"
    }
   },
   "source": [
    "# Exercício - 8 - Python Básico - IA Expert Academy\n",
    "\n",
    "lista_aluno_1 = input('Nome do primeiro aluno: ')\n",
    "lista_aluno_2 = input('Nome do segundo aluno: ')\n",
    "lista_aluno_3 = input('Nome do terceiro aluno: ')\n",
    "\n",
    "for i in [lista_aluno_1, lista_aluno_2, lista_aluno_3]:\n",
    "    nota_1 = float(input('Primeira nota: '))\n",
    "    nota_2 = float(input('Segunda nota: '))\n",
    "    nota_3 = float(input('Terceira nota: '))\n",
    "    media = (nota_1 + nota_2 + nota_3) / 3\n",
    "    print(f'A média de {i} é {media:.2f}')"
   ],
   "outputs": [
    {
     "name": "stdout",
     "output_type": "stream",
     "text": [
      "A média de João é 6.33\n",
      "A média de Lucas é 8.00\n",
      "A média de Maria é 4.33\n"
     ]
    }
   ],
   "execution_count": 2
  }
 ],
 "metadata": {
  "kernelspec": {
   "display_name": "Python 3",
   "language": "python",
   "name": "python3"
  },
  "language_info": {
   "codemirror_mode": {
    "name": "ipython",
    "version": 2
   },
   "file_extension": ".py",
   "mimetype": "text/x-python",
   "name": "python",
   "nbconvert_exporter": "python",
   "pygments_lexer": "ipython2",
   "version": "2.7.6"
  }
 },
 "nbformat": 4,
 "nbformat_minor": 5
}
