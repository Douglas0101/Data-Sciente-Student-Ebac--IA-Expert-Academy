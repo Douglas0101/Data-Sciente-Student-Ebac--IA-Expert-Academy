{
 "cells": [
  {
   "cell_type": "code",
   "id": "initial_id",
   "metadata": {
    "collapsed": true,
    "ExecuteTime": {
     "end_time": "2024-04-18T23:32:37.005073Z",
     "start_time": "2024-04-18T23:32:36.998799Z"
    }
   },
   "source": [
    "import re\n",
    "\n",
    "# Exercício - 15. Python Básico - I.A. Expert Academy\n",
    "\n",
    "numeros_telefone = {'1': '(11) 98765-4321', '2': '(21) 12345-6789', '3': '(31) 87654-3210', '4': '(41) 65432-1098', '5': '(51) 54321-0987'}\n",
    "\n",
    "ceps_estados = {'11': 'São Paulo', '21': 'Rio de Janeiro', '31': 'Belo Horizonte', '41': 'Curitiba', '51': 'Porto Alegre'}\n",
    "\n",
    "urls = {'11': 'www.11sp.com.br', '21': 'www.21rj.com.br', '31': 'www.31bh.com.br', '41': 'www.41pr.com.br', '51': 'www.51rs.com.br'}"
   ],
   "outputs": [],
   "execution_count": 118
  },
  {
   "metadata": {
    "ExecuteTime": {
     "end_time": "2024-04-18T23:32:37.013312Z",
     "start_time": "2024-04-18T23:32:37.009606Z"
    }
   },
   "cell_type": "code",
   "source": [
    "padrao_telefone = r'(\\\\d{2})\\\\s(\\\\d{5}-\\\\d{4})'\n",
    "\n",
    "padrao_cep = r'(\\\\d{2})\\\\s(\\\\d{5})'\n",
    "\n",
    "padrao_url = r'(\\\\d{2})\\\\s(www.\\\\S+)'"
   ],
   "id": "616c5fb037fb90ec",
   "outputs": [],
   "execution_count": 119
  },
  {
   "metadata": {
    "ExecuteTime": {
     "end_time": "2024-04-18T23:32:37.020187Z",
     "start_time": "2024-04-18T23:32:37.015326Z"
    }
   },
   "cell_type": "code",
   "source": [
    "for chave, valor in numeros_telefone.items():\n",
    "    print(re.sub(padrao_telefone, r'(\\1) \\2', valor))"
   ],
   "id": "565add5e6244e45",
   "outputs": [
    {
     "name": "stdout",
     "output_type": "stream",
     "text": [
      "(11) 98765-4321\n",
      "(21) 12345-6789\n",
      "(31) 87654-3210\n",
      "(41) 65432-1098\n",
      "(51) 54321-0987\n"
     ]
    }
   ],
   "execution_count": 120
  },
  {
   "metadata": {
    "ExecuteTime": {
     "end_time": "2024-04-18T23:32:37.027230Z",
     "start_time": "2024-04-18T23:32:37.021196Z"
    }
   },
   "cell_type": "code",
   "source": [
    "for chave, valor in ceps_estados.items():\n",
    "    print(re.sub(padrao_cep, r'(\\1) \\2', valor))"
   ],
   "id": "b64d684b28416610",
   "outputs": [
    {
     "name": "stdout",
     "output_type": "stream",
     "text": [
      "São Paulo\n",
      "Rio de Janeiro\n",
      "Belo Horizonte\n",
      "Curitiba\n",
      "Porto Alegre\n"
     ]
    }
   ],
   "execution_count": 121
  },
  {
   "metadata": {
    "ExecuteTime": {
     "end_time": "2024-04-18T23:32:37.043256Z",
     "start_time": "2024-04-18T23:32:37.030240Z"
    }
   },
   "cell_type": "code",
   "source": [
    "for chave, valor in urls.items():\n",
    "    print(re.sub(padrao_cep, r'(\\1) \\2', valor))"
   ],
   "id": "deac547ec0d27152",
   "outputs": [
    {
     "name": "stdout",
     "output_type": "stream",
     "text": [
      "www.11sp.com.br\n",
      "www.21rj.com.br\n",
      "www.31bh.com.br\n",
      "www.41pr.com.br\n",
      "www.51rs.com.br\n"
     ]
    }
   ],
   "execution_count": 122
  }
 ],
 "metadata": {
  "kernelspec": {
   "display_name": "Python 3",
   "language": "python",
   "name": "python3"
  },
  "language_info": {
   "codemirror_mode": {
    "name": "ipython",
    "version": 2
   },
   "file_extension": ".py",
   "mimetype": "text/x-python",
   "name": "python",
   "nbconvert_exporter": "python",
   "pygments_lexer": "ipython2",
   "version": "2.7.6"
  }
 },
 "nbformat": 4,
 "nbformat_minor": 5
}
