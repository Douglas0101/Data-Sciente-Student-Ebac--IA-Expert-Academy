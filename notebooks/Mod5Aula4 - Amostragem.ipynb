{
 "cells": [
  {
   "cell_type": "markdown",
   "metadata": {},
   "source": [
    "# Índice <a name=\"Contents\"></a>\n",
    "1. [Importando bibliotecas](#import)\n",
    "2. [Construindo um dataframe ](#read)\n",
    "3. [Amostragem (sample)](#amostragem)\n",
    "3. [Intro sobre métodos de string](#strings)\n",
    "\n"
   ]
  },
  {
   "cell_type": "markdown",
   "metadata": {},
   "source": [
    "# 1. Importando bibliotecas <a name=\"import\"></a>\n",
    "\n",
    "<div style=\"text-align: right\"\n",
    "     \n",
    "[Voltar ao índice](#Contents)"
   ]
  },
  {
   "cell_type": "code",
   "metadata": {
    "ExecuteTime": {
     "end_time": "2024-04-19T17:04:12.585649Z",
     "start_time": "2024-04-19T17:04:12.581621Z"
    }
   },
   "source": [
    "import numpy  as np\n",
    "import pandas as pd"
   ],
   "outputs": [],
   "execution_count": 18
  },
  {
   "cell_type": "markdown",
   "metadata": {},
   "source": [
    "# 2. Construindo um dataframe  <a name=\"read\"></a>\n",
    "<div style=\"text-align: right\"\n",
    "     \n",
    "[Voltar ao índice](#Contents)"
   ]
  },
  {
   "cell_type": "code",
   "metadata": {
    "ExecuteTime": {
     "end_time": "2024-04-19T17:04:12.828741Z",
     "start_time": "2024-04-19T17:04:12.683952Z"
    }
   },
   "source": [
    "df = pd.DataFrame(np.random.randint(100000, size=(1000000, 10)),\n",
    "             columns=['A', 'B', 'C', 'D', 'E', 'F', 'G', 'H', 'I', 'J']) "
   ],
   "outputs": [],
   "execution_count": 19
  },
  {
   "cell_type": "markdown",
   "metadata": {},
   "source": [
    "# 3. Amostragem <a name=\"amostragem\"></a>\n",
    "<div style=\"text-align: right\"\n",
    "     \n",
    "[Voltar ao índice](#Contents)"
   ]
  },
  {
   "cell_type": "code",
   "metadata": {
    "ExecuteTime": {
     "end_time": "2024-04-19T17:04:12.837652Z",
     "start_time": "2024-04-19T17:04:12.830744Z"
    }
   },
   "source": [
    "df.shape"
   ],
   "outputs": [
    {
     "data": {
      "text/plain": [
       "(1000000, 10)"
      ]
     },
     "execution_count": 20,
     "metadata": {},
     "output_type": "execute_result"
    }
   ],
   "execution_count": 20
  },
  {
   "cell_type": "code",
   "metadata": {
    "ExecuteTime": {
     "end_time": "2024-04-19T17:04:12.940953Z",
     "start_time": "2024-04-19T17:04:12.838662Z"
    }
   },
   "source": [
    "df.sample(10)"
   ],
   "outputs": [
    {
     "data": {
      "text/plain": [
       "            A      B      C      D      E      F      G      H      I      J\n",
       "580476  94011  46613  62314  52366   6321  70243  72058  59794  71354  94729\n",
       "265065  67163  82430  53595  31963  89794  99647  83776  85820  71410  56344\n",
       "347033  15729  61695  32849  27980  71599  64242  76900   9265  41536  18002\n",
       "871686  63070   6008  87958  25142  67088  82268  89840  72601  16424  93057\n",
       "962944  59172  35924   9306  28748  72575  87635  60659   7024  27838   2646\n",
       "856112  32562  91762  31286  19981  96231  11466  59320  72071   8639  79091\n",
       "891950  96128  21057  87466  15717   5918  51726  12588  42477  73724  16769\n",
       "862690  45901  10816  41600  66884  94017  73466  74214  30843  58214  46121\n",
       "880654  41660  22201  37250   9876   3318  86376  47042  42824  49929  92088\n",
       "35390   17623  52086  38880  11178  68312  75384  11604  57755  60416  87589"
      ],
      "text/html": [
       "<div>\n",
       "<style scoped>\n",
       "    .dataframe tbody tr th:only-of-type {\n",
       "        vertical-align: middle;\n",
       "    }\n",
       "\n",
       "    .dataframe tbody tr th {\n",
       "        vertical-align: top;\n",
       "    }\n",
       "\n",
       "    .dataframe thead th {\n",
       "        text-align: right;\n",
       "    }\n",
       "</style>\n",
       "<table border=\"1\" class=\"dataframe\">\n",
       "  <thead>\n",
       "    <tr style=\"text-align: right;\">\n",
       "      <th></th>\n",
       "      <th>A</th>\n",
       "      <th>B</th>\n",
       "      <th>C</th>\n",
       "      <th>D</th>\n",
       "      <th>E</th>\n",
       "      <th>F</th>\n",
       "      <th>G</th>\n",
       "      <th>H</th>\n",
       "      <th>I</th>\n",
       "      <th>J</th>\n",
       "    </tr>\n",
       "  </thead>\n",
       "  <tbody>\n",
       "    <tr>\n",
       "      <th>580476</th>\n",
       "      <td>94011</td>\n",
       "      <td>46613</td>\n",
       "      <td>62314</td>\n",
       "      <td>52366</td>\n",
       "      <td>6321</td>\n",
       "      <td>70243</td>\n",
       "      <td>72058</td>\n",
       "      <td>59794</td>\n",
       "      <td>71354</td>\n",
       "      <td>94729</td>\n",
       "    </tr>\n",
       "    <tr>\n",
       "      <th>265065</th>\n",
       "      <td>67163</td>\n",
       "      <td>82430</td>\n",
       "      <td>53595</td>\n",
       "      <td>31963</td>\n",
       "      <td>89794</td>\n",
       "      <td>99647</td>\n",
       "      <td>83776</td>\n",
       "      <td>85820</td>\n",
       "      <td>71410</td>\n",
       "      <td>56344</td>\n",
       "    </tr>\n",
       "    <tr>\n",
       "      <th>347033</th>\n",
       "      <td>15729</td>\n",
       "      <td>61695</td>\n",
       "      <td>32849</td>\n",
       "      <td>27980</td>\n",
       "      <td>71599</td>\n",
       "      <td>64242</td>\n",
       "      <td>76900</td>\n",
       "      <td>9265</td>\n",
       "      <td>41536</td>\n",
       "      <td>18002</td>\n",
       "    </tr>\n",
       "    <tr>\n",
       "      <th>871686</th>\n",
       "      <td>63070</td>\n",
       "      <td>6008</td>\n",
       "      <td>87958</td>\n",
       "      <td>25142</td>\n",
       "      <td>67088</td>\n",
       "      <td>82268</td>\n",
       "      <td>89840</td>\n",
       "      <td>72601</td>\n",
       "      <td>16424</td>\n",
       "      <td>93057</td>\n",
       "    </tr>\n",
       "    <tr>\n",
       "      <th>962944</th>\n",
       "      <td>59172</td>\n",
       "      <td>35924</td>\n",
       "      <td>9306</td>\n",
       "      <td>28748</td>\n",
       "      <td>72575</td>\n",
       "      <td>87635</td>\n",
       "      <td>60659</td>\n",
       "      <td>7024</td>\n",
       "      <td>27838</td>\n",
       "      <td>2646</td>\n",
       "    </tr>\n",
       "    <tr>\n",
       "      <th>856112</th>\n",
       "      <td>32562</td>\n",
       "      <td>91762</td>\n",
       "      <td>31286</td>\n",
       "      <td>19981</td>\n",
       "      <td>96231</td>\n",
       "      <td>11466</td>\n",
       "      <td>59320</td>\n",
       "      <td>72071</td>\n",
       "      <td>8639</td>\n",
       "      <td>79091</td>\n",
       "    </tr>\n",
       "    <tr>\n",
       "      <th>891950</th>\n",
       "      <td>96128</td>\n",
       "      <td>21057</td>\n",
       "      <td>87466</td>\n",
       "      <td>15717</td>\n",
       "      <td>5918</td>\n",
       "      <td>51726</td>\n",
       "      <td>12588</td>\n",
       "      <td>42477</td>\n",
       "      <td>73724</td>\n",
       "      <td>16769</td>\n",
       "    </tr>\n",
       "    <tr>\n",
       "      <th>862690</th>\n",
       "      <td>45901</td>\n",
       "      <td>10816</td>\n",
       "      <td>41600</td>\n",
       "      <td>66884</td>\n",
       "      <td>94017</td>\n",
       "      <td>73466</td>\n",
       "      <td>74214</td>\n",
       "      <td>30843</td>\n",
       "      <td>58214</td>\n",
       "      <td>46121</td>\n",
       "    </tr>\n",
       "    <tr>\n",
       "      <th>880654</th>\n",
       "      <td>41660</td>\n",
       "      <td>22201</td>\n",
       "      <td>37250</td>\n",
       "      <td>9876</td>\n",
       "      <td>3318</td>\n",
       "      <td>86376</td>\n",
       "      <td>47042</td>\n",
       "      <td>42824</td>\n",
       "      <td>49929</td>\n",
       "      <td>92088</td>\n",
       "    </tr>\n",
       "    <tr>\n",
       "      <th>35390</th>\n",
       "      <td>17623</td>\n",
       "      <td>52086</td>\n",
       "      <td>38880</td>\n",
       "      <td>11178</td>\n",
       "      <td>68312</td>\n",
       "      <td>75384</td>\n",
       "      <td>11604</td>\n",
       "      <td>57755</td>\n",
       "      <td>60416</td>\n",
       "      <td>87589</td>\n",
       "    </tr>\n",
       "  </tbody>\n",
       "</table>\n",
       "</div>"
      ]
     },
     "execution_count": 21,
     "metadata": {},
     "output_type": "execute_result"
    }
   ],
   "execution_count": 21
  },
  {
   "cell_type": "code",
   "metadata": {
    "scrolled": true,
    "ExecuteTime": {
     "end_time": "2024-04-19T17:04:13.025459Z",
     "start_time": "2024-04-19T17:04:12.946459Z"
    }
   },
   "source": [
    "df.sample(10, random_state=100)"
   ],
   "outputs": [
    {
     "data": {
      "text/plain": [
       "            A      B      C      D      E      F      G      H      I      J\n",
       "617759  83184  96989  61000  96488  91476  64425   8004  24379  25302  80743\n",
       "693227  99599  56922  88043  94187  53146  16107  80190  22887  91870  66935\n",
       "906065  28160  90312   1410  51272  49218  86988  73923  71993  62334  69406\n",
       "828507  86668  82201  80143  71464  65585  22199  40063  52380  20215  51343\n",
       "869730  41299   5952   8153  91396   5281  29245  22053  42819  29017  86776\n",
       "147081  16110  84049  48729  27306  80848  39827  15565  80286  50659  47523\n",
       "779428  26699  98278  55184  98528  85722  43804  61205   2219  23836  63952\n",
       "485973  36943  77874  18613  91762  10404  86479  21338  84816  27383  81060\n",
       "30697   74187  25937   1774  89601    763  35426  37550   4468  41277  49643\n",
       "306669  87046  12200  15132  23913  79851  94732  91768  30159  12732  51921"
      ],
      "text/html": [
       "<div>\n",
       "<style scoped>\n",
       "    .dataframe tbody tr th:only-of-type {\n",
       "        vertical-align: middle;\n",
       "    }\n",
       "\n",
       "    .dataframe tbody tr th {\n",
       "        vertical-align: top;\n",
       "    }\n",
       "\n",
       "    .dataframe thead th {\n",
       "        text-align: right;\n",
       "    }\n",
       "</style>\n",
       "<table border=\"1\" class=\"dataframe\">\n",
       "  <thead>\n",
       "    <tr style=\"text-align: right;\">\n",
       "      <th></th>\n",
       "      <th>A</th>\n",
       "      <th>B</th>\n",
       "      <th>C</th>\n",
       "      <th>D</th>\n",
       "      <th>E</th>\n",
       "      <th>F</th>\n",
       "      <th>G</th>\n",
       "      <th>H</th>\n",
       "      <th>I</th>\n",
       "      <th>J</th>\n",
       "    </tr>\n",
       "  </thead>\n",
       "  <tbody>\n",
       "    <tr>\n",
       "      <th>617759</th>\n",
       "      <td>83184</td>\n",
       "      <td>96989</td>\n",
       "      <td>61000</td>\n",
       "      <td>96488</td>\n",
       "      <td>91476</td>\n",
       "      <td>64425</td>\n",
       "      <td>8004</td>\n",
       "      <td>24379</td>\n",
       "      <td>25302</td>\n",
       "      <td>80743</td>\n",
       "    </tr>\n",
       "    <tr>\n",
       "      <th>693227</th>\n",
       "      <td>99599</td>\n",
       "      <td>56922</td>\n",
       "      <td>88043</td>\n",
       "      <td>94187</td>\n",
       "      <td>53146</td>\n",
       "      <td>16107</td>\n",
       "      <td>80190</td>\n",
       "      <td>22887</td>\n",
       "      <td>91870</td>\n",
       "      <td>66935</td>\n",
       "    </tr>\n",
       "    <tr>\n",
       "      <th>906065</th>\n",
       "      <td>28160</td>\n",
       "      <td>90312</td>\n",
       "      <td>1410</td>\n",
       "      <td>51272</td>\n",
       "      <td>49218</td>\n",
       "      <td>86988</td>\n",
       "      <td>73923</td>\n",
       "      <td>71993</td>\n",
       "      <td>62334</td>\n",
       "      <td>69406</td>\n",
       "    </tr>\n",
       "    <tr>\n",
       "      <th>828507</th>\n",
       "      <td>86668</td>\n",
       "      <td>82201</td>\n",
       "      <td>80143</td>\n",
       "      <td>71464</td>\n",
       "      <td>65585</td>\n",
       "      <td>22199</td>\n",
       "      <td>40063</td>\n",
       "      <td>52380</td>\n",
       "      <td>20215</td>\n",
       "      <td>51343</td>\n",
       "    </tr>\n",
       "    <tr>\n",
       "      <th>869730</th>\n",
       "      <td>41299</td>\n",
       "      <td>5952</td>\n",
       "      <td>8153</td>\n",
       "      <td>91396</td>\n",
       "      <td>5281</td>\n",
       "      <td>29245</td>\n",
       "      <td>22053</td>\n",
       "      <td>42819</td>\n",
       "      <td>29017</td>\n",
       "      <td>86776</td>\n",
       "    </tr>\n",
       "    <tr>\n",
       "      <th>147081</th>\n",
       "      <td>16110</td>\n",
       "      <td>84049</td>\n",
       "      <td>48729</td>\n",
       "      <td>27306</td>\n",
       "      <td>80848</td>\n",
       "      <td>39827</td>\n",
       "      <td>15565</td>\n",
       "      <td>80286</td>\n",
       "      <td>50659</td>\n",
       "      <td>47523</td>\n",
       "    </tr>\n",
       "    <tr>\n",
       "      <th>779428</th>\n",
       "      <td>26699</td>\n",
       "      <td>98278</td>\n",
       "      <td>55184</td>\n",
       "      <td>98528</td>\n",
       "      <td>85722</td>\n",
       "      <td>43804</td>\n",
       "      <td>61205</td>\n",
       "      <td>2219</td>\n",
       "      <td>23836</td>\n",
       "      <td>63952</td>\n",
       "    </tr>\n",
       "    <tr>\n",
       "      <th>485973</th>\n",
       "      <td>36943</td>\n",
       "      <td>77874</td>\n",
       "      <td>18613</td>\n",
       "      <td>91762</td>\n",
       "      <td>10404</td>\n",
       "      <td>86479</td>\n",
       "      <td>21338</td>\n",
       "      <td>84816</td>\n",
       "      <td>27383</td>\n",
       "      <td>81060</td>\n",
       "    </tr>\n",
       "    <tr>\n",
       "      <th>30697</th>\n",
       "      <td>74187</td>\n",
       "      <td>25937</td>\n",
       "      <td>1774</td>\n",
       "      <td>89601</td>\n",
       "      <td>763</td>\n",
       "      <td>35426</td>\n",
       "      <td>37550</td>\n",
       "      <td>4468</td>\n",
       "      <td>41277</td>\n",
       "      <td>49643</td>\n",
       "    </tr>\n",
       "    <tr>\n",
       "      <th>306669</th>\n",
       "      <td>87046</td>\n",
       "      <td>12200</td>\n",
       "      <td>15132</td>\n",
       "      <td>23913</td>\n",
       "      <td>79851</td>\n",
       "      <td>94732</td>\n",
       "      <td>91768</td>\n",
       "      <td>30159</td>\n",
       "      <td>12732</td>\n",
       "      <td>51921</td>\n",
       "    </tr>\n",
       "  </tbody>\n",
       "</table>\n",
       "</div>"
      ]
     },
     "execution_count": 22,
     "metadata": {},
     "output_type": "execute_result"
    }
   ],
   "execution_count": 22
  },
  {
   "cell_type": "code",
   "metadata": {
    "scrolled": false,
    "ExecuteTime": {
     "end_time": "2024-04-19T17:04:13.152196Z",
     "start_time": "2024-04-19T17:04:13.033450Z"
    }
   },
   "source": [
    "df.sample(frac=0.1, random_state=100)"
   ],
   "outputs": [
    {
     "data": {
      "text/plain": [
       "            A      B      C      D      E      F      G      H      I      J\n",
       "617759  83184  96989  61000  96488  91476  64425   8004  24379  25302  80743\n",
       "693227  99599  56922  88043  94187  53146  16107  80190  22887  91870  66935\n",
       "906065  28160  90312   1410  51272  49218  86988  73923  71993  62334  69406\n",
       "828507  86668  82201  80143  71464  65585  22199  40063  52380  20215  51343\n",
       "869730  41299   5952   8153  91396   5281  29245  22053  42819  29017  86776\n",
       "...       ...    ...    ...    ...    ...    ...    ...    ...    ...    ...\n",
       "599633  93064  89800  13242  59172  44040  90151   8564  24530  23245  58272\n",
       "103907  32553  34058  30970  72276  81457  72410  20859   8622  50604  16455\n",
       "536846  87795  11063  55609  99413  80778   8689  13491  98355  64759  21742\n",
       "68354   24399  94247  69340   2601  66038  22597  63406   1353  28325  78758\n",
       "762302  23477  56668  92430  45852  78728  61138  97321   8411  43258  29497\n",
       "\n",
       "[100000 rows x 10 columns]"
      ],
      "text/html": [
       "<div>\n",
       "<style scoped>\n",
       "    .dataframe tbody tr th:only-of-type {\n",
       "        vertical-align: middle;\n",
       "    }\n",
       "\n",
       "    .dataframe tbody tr th {\n",
       "        vertical-align: top;\n",
       "    }\n",
       "\n",
       "    .dataframe thead th {\n",
       "        text-align: right;\n",
       "    }\n",
       "</style>\n",
       "<table border=\"1\" class=\"dataframe\">\n",
       "  <thead>\n",
       "    <tr style=\"text-align: right;\">\n",
       "      <th></th>\n",
       "      <th>A</th>\n",
       "      <th>B</th>\n",
       "      <th>C</th>\n",
       "      <th>D</th>\n",
       "      <th>E</th>\n",
       "      <th>F</th>\n",
       "      <th>G</th>\n",
       "      <th>H</th>\n",
       "      <th>I</th>\n",
       "      <th>J</th>\n",
       "    </tr>\n",
       "  </thead>\n",
       "  <tbody>\n",
       "    <tr>\n",
       "      <th>617759</th>\n",
       "      <td>83184</td>\n",
       "      <td>96989</td>\n",
       "      <td>61000</td>\n",
       "      <td>96488</td>\n",
       "      <td>91476</td>\n",
       "      <td>64425</td>\n",
       "      <td>8004</td>\n",
       "      <td>24379</td>\n",
       "      <td>25302</td>\n",
       "      <td>80743</td>\n",
       "    </tr>\n",
       "    <tr>\n",
       "      <th>693227</th>\n",
       "      <td>99599</td>\n",
       "      <td>56922</td>\n",
       "      <td>88043</td>\n",
       "      <td>94187</td>\n",
       "      <td>53146</td>\n",
       "      <td>16107</td>\n",
       "      <td>80190</td>\n",
       "      <td>22887</td>\n",
       "      <td>91870</td>\n",
       "      <td>66935</td>\n",
       "    </tr>\n",
       "    <tr>\n",
       "      <th>906065</th>\n",
       "      <td>28160</td>\n",
       "      <td>90312</td>\n",
       "      <td>1410</td>\n",
       "      <td>51272</td>\n",
       "      <td>49218</td>\n",
       "      <td>86988</td>\n",
       "      <td>73923</td>\n",
       "      <td>71993</td>\n",
       "      <td>62334</td>\n",
       "      <td>69406</td>\n",
       "    </tr>\n",
       "    <tr>\n",
       "      <th>828507</th>\n",
       "      <td>86668</td>\n",
       "      <td>82201</td>\n",
       "      <td>80143</td>\n",
       "      <td>71464</td>\n",
       "      <td>65585</td>\n",
       "      <td>22199</td>\n",
       "      <td>40063</td>\n",
       "      <td>52380</td>\n",
       "      <td>20215</td>\n",
       "      <td>51343</td>\n",
       "    </tr>\n",
       "    <tr>\n",
       "      <th>869730</th>\n",
       "      <td>41299</td>\n",
       "      <td>5952</td>\n",
       "      <td>8153</td>\n",
       "      <td>91396</td>\n",
       "      <td>5281</td>\n",
       "      <td>29245</td>\n",
       "      <td>22053</td>\n",
       "      <td>42819</td>\n",
       "      <td>29017</td>\n",
       "      <td>86776</td>\n",
       "    </tr>\n",
       "    <tr>\n",
       "      <th>...</th>\n",
       "      <td>...</td>\n",
       "      <td>...</td>\n",
       "      <td>...</td>\n",
       "      <td>...</td>\n",
       "      <td>...</td>\n",
       "      <td>...</td>\n",
       "      <td>...</td>\n",
       "      <td>...</td>\n",
       "      <td>...</td>\n",
       "      <td>...</td>\n",
       "    </tr>\n",
       "    <tr>\n",
       "      <th>599633</th>\n",
       "      <td>93064</td>\n",
       "      <td>89800</td>\n",
       "      <td>13242</td>\n",
       "      <td>59172</td>\n",
       "      <td>44040</td>\n",
       "      <td>90151</td>\n",
       "      <td>8564</td>\n",
       "      <td>24530</td>\n",
       "      <td>23245</td>\n",
       "      <td>58272</td>\n",
       "    </tr>\n",
       "    <tr>\n",
       "      <th>103907</th>\n",
       "      <td>32553</td>\n",
       "      <td>34058</td>\n",
       "      <td>30970</td>\n",
       "      <td>72276</td>\n",
       "      <td>81457</td>\n",
       "      <td>72410</td>\n",
       "      <td>20859</td>\n",
       "      <td>8622</td>\n",
       "      <td>50604</td>\n",
       "      <td>16455</td>\n",
       "    </tr>\n",
       "    <tr>\n",
       "      <th>536846</th>\n",
       "      <td>87795</td>\n",
       "      <td>11063</td>\n",
       "      <td>55609</td>\n",
       "      <td>99413</td>\n",
       "      <td>80778</td>\n",
       "      <td>8689</td>\n",
       "      <td>13491</td>\n",
       "      <td>98355</td>\n",
       "      <td>64759</td>\n",
       "      <td>21742</td>\n",
       "    </tr>\n",
       "    <tr>\n",
       "      <th>68354</th>\n",
       "      <td>24399</td>\n",
       "      <td>94247</td>\n",
       "      <td>69340</td>\n",
       "      <td>2601</td>\n",
       "      <td>66038</td>\n",
       "      <td>22597</td>\n",
       "      <td>63406</td>\n",
       "      <td>1353</td>\n",
       "      <td>28325</td>\n",
       "      <td>78758</td>\n",
       "    </tr>\n",
       "    <tr>\n",
       "      <th>762302</th>\n",
       "      <td>23477</td>\n",
       "      <td>56668</td>\n",
       "      <td>92430</td>\n",
       "      <td>45852</td>\n",
       "      <td>78728</td>\n",
       "      <td>61138</td>\n",
       "      <td>97321</td>\n",
       "      <td>8411</td>\n",
       "      <td>43258</td>\n",
       "      <td>29497</td>\n",
       "    </tr>\n",
       "  </tbody>\n",
       "</table>\n",
       "<p>100000 rows × 10 columns</p>\n",
       "</div>"
      ]
     },
     "execution_count": 23,
     "metadata": {},
     "output_type": "execute_result"
    }
   ],
   "execution_count": 23
  },
  {
   "cell_type": "markdown",
   "metadata": {},
   "source": [
    "# 4. Manipulação de strings - métodos <a name=\"strings\"></a>\n",
    "<div style=\"text-align: right\"\n",
    "     \n",
    "[Voltar ao índice](#Contents)"
   ]
  },
  {
   "cell_type": "code",
   "metadata": {
    "ExecuteTime": {
     "end_time": "2024-04-19T17:04:13.158894Z",
     "start_time": "2024-04-19T17:04:13.153682Z"
    }
   },
   "source": [
    "texto = 'texto'"
   ],
   "outputs": [],
   "execution_count": 24
  },
  {
   "cell_type": "code",
   "metadata": {
    "ExecuteTime": {
     "end_time": "2024-04-19T17:04:13.176309Z",
     "start_time": "2024-04-19T17:04:13.163890Z"
    }
   },
   "source": [
    "texto[::-1]"
   ],
   "outputs": [
    {
     "data": {
      "text/plain": [
       "'otxet'"
      ]
     },
     "execution_count": 25,
     "metadata": {},
     "output_type": "execute_result"
    }
   ],
   "execution_count": 25
  },
  {
   "cell_type": "code",
   "metadata": {
    "ExecuteTime": {
     "end_time": "2024-04-19T17:04:13.186767Z",
     "start_time": "2024-04-19T17:04:13.179302Z"
    }
   },
   "source": [
    "palindromo = 'apos a sopa'"
   ],
   "outputs": [],
   "execution_count": 26
  },
  {
   "cell_type": "code",
   "metadata": {
    "ExecuteTime": {
     "end_time": "2024-04-19T17:04:13.197274Z",
     "start_time": "2024-04-19T17:04:13.187979Z"
    }
   },
   "source": [
    "palindromo[::-1]"
   ],
   "outputs": [
    {
     "data": {
      "text/plain": [
       "'apos a sopa'"
      ]
     },
     "execution_count": 27,
     "metadata": {},
     "output_type": "execute_result"
    }
   ],
   "execution_count": 27
  },
  {
   "cell_type": "code",
   "metadata": {
    "ExecuteTime": {
     "end_time": "2024-04-19T17:04:13.205196Z",
     "start_time": "2024-04-19T17:04:13.198299Z"
    }
   },
   "source": [
    "texto = 'teXTO'\n",
    "texto.capitalize()"
   ],
   "outputs": [
    {
     "data": {
      "text/plain": [
       "'Texto'"
      ]
     },
     "execution_count": 28,
     "metadata": {},
     "output_type": "execute_result"
    }
   ],
   "execution_count": 28
  },
  {
   "cell_type": "code",
   "metadata": {
    "ExecuteTime": {
     "end_time": "2024-04-19T17:04:13.343814Z",
     "start_time": "2024-04-19T17:04:13.338540Z"
    }
   },
   "source": [
    "texto.lower()"
   ],
   "outputs": [
    {
     "data": {
      "text/plain": [
       "'texto'"
      ]
     },
     "execution_count": 29,
     "metadata": {},
     "output_type": "execute_result"
    }
   ],
   "execution_count": 29
  },
  {
   "cell_type": "code",
   "metadata": {
    "ExecuteTime": {
     "end_time": "2024-04-19T17:04:13.551110Z",
     "start_time": "2024-04-19T17:04:13.546021Z"
    }
   },
   "source": [
    "texto.upper()"
   ],
   "outputs": [
    {
     "data": {
      "text/plain": [
       "'TEXTO'"
      ]
     },
     "execution_count": 30,
     "metadata": {},
     "output_type": "execute_result"
    }
   ],
   "execution_count": 30
  },
  {
   "cell_type": "code",
   "metadata": {
    "ExecuteTime": {
     "end_time": "2024-04-19T17:04:13.869238Z",
     "start_time": "2024-04-19T17:04:13.861105Z"
    }
   },
   "source": [
    "# S.find(sub[, start[, end]]) -> int\n",
    "texto.find('X')"
   ],
   "outputs": [
    {
     "data": {
      "text/plain": [
       "2"
      ]
     },
     "execution_count": 31,
     "metadata": {},
     "output_type": "execute_result"
    }
   ],
   "execution_count": 31
  },
  {
   "cell_type": "code",
   "metadata": {
    "ExecuteTime": {
     "end_time": "2024-04-19T17:04:14.120717Z",
     "start_time": "2024-04-19T17:04:14.110352Z"
    }
   },
   "source": [
    "texto[2]"
   ],
   "outputs": [
    {
     "data": {
      "text/plain": [
       "'X'"
      ]
     },
     "execution_count": 32,
     "metadata": {},
     "output_type": "execute_result"
    }
   ],
   "execution_count": 32
  },
  {
   "cell_type": "code",
   "metadata": {
    "ExecuteTime": {
     "end_time": "2024-04-19T17:04:14.388620Z",
     "start_time": "2024-04-19T17:04:14.380508Z"
    }
   },
   "source": [
    "#S.find(sub[, start[, end]]) -> int\n",
    "texto.find('x')"
   ],
   "outputs": [
    {
     "data": {
      "text/plain": [
       "-1"
      ]
     },
     "execution_count": 33,
     "metadata": {},
     "output_type": "execute_result"
    }
   ],
   "execution_count": 33
  },
  {
   "cell_type": "code",
   "metadata": {
    "ExecuteTime": {
     "end_time": "2024-04-19T17:04:14.527309Z",
     "start_time": "2024-04-19T17:04:14.505817Z"
    }
   },
   "source": [
    "#texto.replace(antigo, novo)\n",
    "texto.replace('XTO','sta')"
   ],
   "outputs": [
    {
     "data": {
      "text/plain": [
       "'testa'"
      ]
     },
     "execution_count": 34,
     "metadata": {},
     "output_type": "execute_result"
    }
   ],
   "execution_count": 34
  }
 ],
 "metadata": {
  "kernelspec": {
   "display_name": "Python 3",
   "language": "python",
   "name": "python3"
  },
  "language_info": {
   "codemirror_mode": {
    "name": "ipython",
    "version": 3
   },
   "file_extension": ".py",
   "mimetype": "text/x-python",
   "name": "python",
   "nbconvert_exporter": "python",
   "pygments_lexer": "ipython3",
   "version": "3.8.5"
  },
  "varInspector": {
   "cols": {
    "lenName": 16,
    "lenType": 16,
    "lenVar": 40
   },
   "kernels_config": {
    "python": {
     "delete_cmd_postfix": "",
     "delete_cmd_prefix": "del ",
     "library": "var_list.py",
     "varRefreshCmd": "print(var_dic_list())"
    },
    "r": {
     "delete_cmd_postfix": ") ",
     "delete_cmd_prefix": "rm(",
     "library": "var_list.r",
     "varRefreshCmd": "cat(var_dic_list()) "
    }
   },
   "types_to_exclude": [
    "module",
    "function",
    "builtin_function_or_method",
    "instance",
    "_Feature"
   ],
   "window_display": false
  }
 },
 "nbformat": 4,
 "nbformat_minor": 4
}
