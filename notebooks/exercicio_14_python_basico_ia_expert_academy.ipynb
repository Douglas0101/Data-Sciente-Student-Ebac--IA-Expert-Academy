{
 "cells": [
  {
   "metadata": {
    "ExecuteTime": {
     "end_time": "2024-04-17T12:41:31.173925Z",
     "start_time": "2024-04-17T12:41:31.160757Z"
    }
   },
   "cell_type": "code",
   "source": [
    "# Exercício - 14 - Python Básico - IA Expert Academy\n",
    "\n",
    "alunos = {'Pedro': 8.0, 'Maria': 10.0, 'Amilton': 7.5}\n",
    "alunos"
   ],
   "id": "7eedb0a0e2e81656",
   "outputs": [
    {
     "data": {
      "text/plain": [
       "{'Pedro': 8.0, 'Maria': 10.0, 'Amilton': 7.5}"
      ]
     },
     "execution_count": 1,
     "metadata": {},
     "output_type": "execute_result"
    }
   ],
   "execution_count": 1
  },
  {
   "metadata": {
    "ExecuteTime": {
     "end_time": "2024-04-17T12:41:43.610241Z",
     "start_time": "2024-04-17T12:41:43.600002Z"
    }
   },
   "cell_type": "code",
   "source": [
    "with open('dados_alunos.txt', 'w') as arq:\n",
    "    for nome, nota in alunos.items():\n",
    "        arq.write(f'{nome}, {nota}\\n')"
   ],
   "id": "76ef9b3140b286dc",
   "outputs": [],
   "execution_count": 2
  },
  {
   "metadata": {
    "ExecuteTime": {
     "end_time": "2024-04-17T12:41:49.316594Z",
     "start_time": "2024-04-17T12:41:49.310060Z"
    }
   },
   "cell_type": "code",
   "source": [
    "with open('dados_alunos.txt', 'r') as arq:\n",
    "    for linha in arq:\n",
    "        print(linha)"
   ],
   "id": "531e77ea5662d5f2",
   "outputs": [
    {
     "name": "stdout",
     "output_type": "stream",
     "text": [
      "Pedro, 8.0\n",
      "\n",
      "Maria, 10.0\n",
      "\n",
      "Amilton, 7.5\n",
      "\n"
     ]
    }
   ],
   "execution_count": 3
  }
 ],
 "metadata": {
  "kernelspec": {
   "display_name": "Python 3",
   "language": "python",
   "name": "python3"
  },
  "language_info": {
   "codemirror_mode": {
    "name": "ipython",
    "version": 2
   },
   "file_extension": ".py",
   "mimetype": "text/x-python",
   "name": "python",
   "nbconvert_exporter": "python",
   "pygments_lexer": "ipython2",
   "version": "2.7.6"
  }
 },
 "nbformat": 4,
 "nbformat_minor": 5
}
