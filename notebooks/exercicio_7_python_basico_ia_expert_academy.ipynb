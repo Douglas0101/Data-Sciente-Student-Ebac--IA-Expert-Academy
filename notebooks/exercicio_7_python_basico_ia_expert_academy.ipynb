{
 "cells": [
  {
   "cell_type": "code",
   "id": "initial_id",
   "metadata": {
    "collapsed": true,
    "ExecuteTime": {
     "end_time": "2024-04-11T00:13:09.039259Z",
     "start_time": "2024-04-11T00:13:09.033873Z"
    }
   },
   "source": [
    "lista_numero = [1, 2, 3, 4, 5]\n",
    "\n",
    "for i in lista_numero:\n",
    "    print(i)\n",
    "\n",
    "for i in lista_numero:\n",
    "    soma = i + i\n",
    "    print('--')\n",
    "    print(soma)\n",
    "print('--')"
   ],
   "outputs": [
    {
     "name": "stdout",
     "output_type": "stream",
     "text": [
      "1\n",
      "2\n",
      "3\n",
      "4\n",
      "5\n",
      "--\n",
      "2\n",
      "--\n",
      "4\n",
      "--\n",
      "6\n",
      "--\n",
      "8\n",
      "--\n",
      "10\n",
      "--\n"
     ]
    }
   ],
   "execution_count": 8
  }
 ],
 "metadata": {
  "kernelspec": {
   "display_name": "Python 3",
   "language": "python",
   "name": "python3"
  },
  "language_info": {
   "codemirror_mode": {
    "name": "ipython",
    "version": 2
   },
   "file_extension": ".py",
   "mimetype": "text/x-python",
   "name": "python",
   "nbconvert_exporter": "python",
   "pygments_lexer": "ipython2",
   "version": "2.7.6"
  }
 },
 "nbformat": 4,
 "nbformat_minor": 5
}
