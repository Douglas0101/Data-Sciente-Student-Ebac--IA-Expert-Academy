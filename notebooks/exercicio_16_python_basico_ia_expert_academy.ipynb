{
 "cells": [
  {
   "cell_type": "code",
   "id": "initial_id",
   "metadata": {
    "collapsed": true,
    "ExecuteTime": {
     "end_time": "2024-04-19T17:25:08.817680Z",
     "start_time": "2024-04-19T17:25:08.812993Z"
    }
   },
   "source": [
    "# Exercício - 16. Python Básico - I.A. Expert Academy\n",
    "\n",
    "class aluno:\n",
    "    def __init__(self, nome, nota1, nota2):\n",
    "        self.nome = nome\n",
    "        self.nota1 = nota1\n",
    "        self.nota2 = nota2\n",
    "        \n",
    "    def media(self):\n",
    "        return (self.nota1 + self.nota2) / 2\n",
    "    \n",
    "    def dados_exibidos(self):\n",
    "        print(f'Nome: {self.nome}\\nNota 1: {self.nota1}\\nNota 2: {self.nota2}')\n",
    "        print(f'Média: {self.media()}')\n",
    "        print(f'Resultado: {self.resultado()}')\n",
    "        return self\n",
    "    \n",
    "    def resultado(self):\n",
    "        if self.media() >= 6:\n",
    "            return 'Aprovado'\n",
    "        else:\n",
    "            if self.media() >= 5.9:\n",
    "                return 'Recuperação'\n",
    "            else:\n",
    "                return 'Reprovado'"
   ],
   "outputs": [],
   "execution_count": 3
  },
  {
   "metadata": {
    "ExecuteTime": {
     "end_time": "2024-04-19T17:25:14.353278Z",
     "start_time": "2024-04-19T17:25:08.822667Z"
    }
   },
   "cell_type": "code",
   "source": [
    "if __name__ == '__main__':\n",
    "    nome = input('Nome: ')\n",
    "    nota1 = float(input('Nota 1: '))\n",
    "    nota2 = float(input('Nota 2: '))\n",
    "    a = aluno(nome, nota1, nota2)\n",
    "    a.dados_exibidos()"
   ],
   "id": "2b0fe3833dcbe0c1",
   "outputs": [
    {
     "name": "stdout",
     "output_type": "stream",
     "text": [
      "Nome: Lucas\n",
      "Nota 1: 6.9\n",
      "Nota 2: 5.8\n",
      "Média: 6.35\n",
      "Resultado: Aprovado\n"
     ]
    }
   ],
   "execution_count": 4
  }
 ],
 "metadata": {
  "kernelspec": {
   "display_name": "Python 3",
   "language": "python",
   "name": "python3"
  },
  "language_info": {
   "codemirror_mode": {
    "name": "ipython",
    "version": 2
   },
   "file_extension": ".py",
   "mimetype": "text/x-python",
   "name": "python",
   "nbconvert_exporter": "python",
   "pygments_lexer": "ipython2",
   "version": "2.7.6"
  }
 },
 "nbformat": 4,
 "nbformat_minor": 5
}
