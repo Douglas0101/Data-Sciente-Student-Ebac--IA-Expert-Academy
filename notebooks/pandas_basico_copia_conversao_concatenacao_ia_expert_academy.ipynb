{
 "cells": [
  {
   "cell_type": "code",
   "id": "initial_id",
   "metadata": {
    "collapsed": true,
    "ExecuteTime": {
     "end_time": "2024-04-25T17:12:19.591810Z",
     "start_time": "2024-04-25T17:12:19.588267Z"
    }
   },
   "source": [
    "import pandas as pd\n",
    "import numpy as np"
   ],
   "outputs": [],
   "execution_count": 82
  },
  {
   "metadata": {
    "ExecuteTime": {
     "end_time": "2024-04-25T17:12:19.608796Z",
     "start_time": "2024-04-25T17:12:19.602778Z"
    }
   },
   "cell_type": "code",
   "source": [
    "df = pd.DataFrame({'A': [1, 2, 3], 'B': [4, 5, 6]})\n",
    "\n",
    "df_copy = df.copy()\n",
    "\n",
    "df['A'] = [10, 20, 30]"
   ],
   "id": "7d12b15e2e8450a6",
   "outputs": [],
   "execution_count": 83
  },
  {
   "metadata": {
    "ExecuteTime": {
     "end_time": "2024-04-25T17:12:19.621015Z",
     "start_time": "2024-04-25T17:12:19.612788Z"
    }
   },
   "cell_type": "code",
   "source": "print(df)",
   "id": "738f3b8c16de742e",
   "outputs": [
    {
     "name": "stdout",
     "output_type": "stream",
     "text": [
      "    A  B\n",
      "0  10  4\n",
      "1  20  5\n",
      "2  30  6\n"
     ]
    }
   ],
   "execution_count": 84
  },
  {
   "metadata": {
    "ExecuteTime": {
     "end_time": "2024-04-25T17:12:19.642272Z",
     "start_time": "2024-04-25T17:12:19.633976Z"
    }
   },
   "cell_type": "code",
   "source": "print(df_copy)",
   "id": "debf35345c0e13bd",
   "outputs": [
    {
     "name": "stdout",
     "output_type": "stream",
     "text": [
      "   A  B\n",
      "0  1  4\n",
      "1  2  5\n",
      "2  3  6\n"
     ]
    }
   ],
   "execution_count": 85
  },
  {
   "metadata": {
    "jupyter": {
     "is_executing": true
    },
    "ExecuteTime": {
     "start_time": "2024-04-25T17:12:19.655235Z"
    }
   },
   "cell_type": "code",
   "source": [
    "df['A'] = df['A'].astype(str)\n",
    "\n",
    "df['C'] = df['A'] + '99'\n",
    "\n",
    "print(df)"
   ],
   "id": "922fe2f86e2eaf96",
   "outputs": [],
   "execution_count": null
  },
  {
   "metadata": {
    "jupyter": {
     "is_executing": true
    }
   },
   "cell_type": "code",
   "source": [
    "df1 = pd.DataFrame({'A': [1, 2, 3], 'B': [4, 5, 6]})\n",
    "df2 = pd.DataFrame({'A': [10, 20, 30], 'B': [40, 50, 60]})\n",
    "\n",
    "df_concatenado = pd.concat([df1, df2], ignore_index=True)\n",
    "\n",
    "print(df_concatenado)"
   ],
   "id": "68d09535c934e929",
   "outputs": [
    {
     "name": "stdout",
     "output_type": "stream",
     "text": [
      "    A   B\n",
      "0   1   4\n",
      "1   2   5\n",
      "2   3   6\n",
      "3  10  40\n",
      "4  20  50\n",
      "5  30  60\n"
     ]
    }
   ],
   "execution_count": null
  },
  {
   "metadata": {
    "ExecuteTime": {
     "end_time": "2024-04-25T17:12:19.752692Z",
     "start_time": "2024-04-25T17:12:19.730504Z"
    }
   },
   "cell_type": "code",
   "source": [
    "a = np.array([1, 2, 3])\n",
    "b = np.array([4, 5, 6])\n",
    "\n",
    "c = np.concatenate((a, b))\n",
    "\n",
    "print(c)"
   ],
   "id": "4a5d50431249ee67",
   "outputs": [
    {
     "name": "stdout",
     "output_type": "stream",
     "text": [
      "[1 2 3 4 5 6]\n"
     ]
    }
   ],
   "execution_count": 88
  },
  {
   "metadata": {
    "ExecuteTime": {
     "end_time": "2024-04-25T17:12:42.888175Z",
     "start_time": "2024-04-25T17:12:42.878330Z"
    }
   },
   "cell_type": "code",
   "source": [
    "a = np.array([[1, 2, 3, 4, 5, 6], [7, 8, 9, 10, 11, 12]])\n",
    "b = np.array([[10, 20, 30, 40, 50, 60], [70, 80, 90, 100, 110, 120]])\n",
    "\n",
    "c = np.concatenate((a, b), axis=1)\n",
    "\n",
    "print(c)"
   ],
   "id": "2c0d84b616d450c4",
   "outputs": [
    {
     "name": "stdout",
     "output_type": "stream",
     "text": [
      "[[  1   2   3   4   5   6  10  20  30  40  50  60]\n",
      " [  7   8   9  10  11  12  70  80  90 100 110 120]]\n"
     ]
    }
   ],
   "execution_count": 94
  }
 ],
 "metadata": {
  "kernelspec": {
   "display_name": "Python 3",
   "language": "python",
   "name": "python3"
  },
  "language_info": {
   "codemirror_mode": {
    "name": "ipython",
    "version": 2
   },
   "file_extension": ".py",
   "mimetype": "text/x-python",
   "name": "python",
   "nbconvert_exporter": "python",
   "pygments_lexer": "ipython2",
   "version": "2.7.6"
  }
 },
 "nbformat": 4,
 "nbformat_minor": 5
}
