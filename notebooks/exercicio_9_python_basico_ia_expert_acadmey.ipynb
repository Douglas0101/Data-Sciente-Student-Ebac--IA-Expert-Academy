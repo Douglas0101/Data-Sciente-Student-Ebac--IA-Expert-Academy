{
 "cells": [
  {
   "cell_type": "code",
   "id": "initial_id",
   "metadata": {
    "collapsed": true,
    "ExecuteTime": {
     "end_time": "2024-04-12T18:48:13.276460Z",
     "start_time": "2024-04-12T18:48:13.268951Z"
    }
   },
   "source": [
    "# Exercício - 9 - Python Básico - Ia Expert Academy\n",
    "\n",
    "import numpy as np\n",
    "\n",
    "matriz = np.array([[3,4,1], [3, 1, 5]])\n",
    "\n",
    "soma = 0\n",
    "\n",
    "for i in range(matriz.shape[0]):\n",
    "    for j in range(matriz.shape[1]):\n",
    "        print(matriz[i][j])\n",
    "        print('---')\n",
    "        soma += matriz[i][j]\n",
    "\n",
    "print(f'Soma: {soma}')"
   ],
   "outputs": [
    {
     "name": "stdout",
     "output_type": "stream",
     "text": [
      "3\n",
      "---\n",
      "4\n",
      "---\n",
      "1\n",
      "---\n",
      "3\n",
      "---\n",
      "1\n",
      "---\n",
      "5\n",
      "---\n",
      "Soma: 17\n"
     ]
    }
   ],
   "execution_count": 18
  }
 ],
 "metadata": {
  "kernelspec": {
   "display_name": "Python 3",
   "language": "python",
   "name": "python3"
  },
  "language_info": {
   "codemirror_mode": {
    "name": "ipython",
    "version": 2
   },
   "file_extension": ".py",
   "mimetype": "text/x-python",
   "name": "python",
   "nbconvert_exporter": "python",
   "pygments_lexer": "ipython2",
   "version": "2.7.6"
  }
 },
 "nbformat": 4,
 "nbformat_minor": 5
}
