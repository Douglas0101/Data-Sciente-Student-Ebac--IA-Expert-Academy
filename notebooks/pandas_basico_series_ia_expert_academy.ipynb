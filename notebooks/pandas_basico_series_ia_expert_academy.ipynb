{
 "cells": [
  {
   "cell_type": "code",
   "id": "initial_id",
   "metadata": {
    "collapsed": true,
    "ExecuteTime": {
     "end_time": "2024-04-23T23:28:25.577464Z",
     "start_time": "2024-04-23T23:28:25.573457Z"
    }
   },
   "source": [
    "import pandas as pd\n",
    "import numpy as np"
   ],
   "outputs": [],
   "execution_count": 9
  },
  {
   "metadata": {
    "ExecuteTime": {
     "end_time": "2024-04-23T23:28:25.599456Z",
     "start_time": "2024-04-23T23:28:25.590972Z"
    }
   },
   "cell_type": "code",
   "source": [
    "data = np.array([1, 2, 3, 4, 5, 6, 7])\n",
    "s = pd.Series(data)\n",
    "print(s)"
   ],
   "id": "7a1b0678c7185ef2",
   "outputs": [
    {
     "name": "stdout",
     "output_type": "stream",
     "text": [
      "0    1\n",
      "1    2\n",
      "2    3\n",
      "3    4\n",
      "4    5\n",
      "5    6\n",
      "6    7\n",
      "dtype: int32\n"
     ]
    }
   ],
   "execution_count": 10
  },
  {
   "metadata": {
    "ExecuteTime": {
     "end_time": "2024-04-23T23:28:25.629520Z",
     "start_time": "2024-04-23T23:28:25.601468Z"
    }
   },
   "cell_type": "code",
   "source": [
    "s = pd.Series(['a', 'b', 'c', 'd', 'e'])\n",
    "print(s)"
   ],
   "id": "3788d2991c36d726",
   "outputs": [
    {
     "name": "stdout",
     "output_type": "stream",
     "text": [
      "0    a\n",
      "1    b\n",
      "2    c\n",
      "3    d\n",
      "4    e\n",
      "dtype: object\n"
     ]
    }
   ],
   "execution_count": 11
  },
  {
   "metadata": {
    "ExecuteTime": {
     "end_time": "2024-04-23T23:28:25.693107Z",
     "start_time": "2024-04-23T23:28:25.681855Z"
    }
   },
   "cell_type": "code",
   "source": [
    "data = {'a': 1, 'b': 2, 'c': 3, 'd': 4, 'e': 5}\n",
    "s = pd.Series(data)\n",
    "print(s)"
   ],
   "id": "ba01062f3d8dd5a7",
   "outputs": [
    {
     "name": "stdout",
     "output_type": "stream",
     "text": [
      "a    1\n",
      "b    2\n",
      "c    3\n",
      "d    4\n",
      "e    5\n",
      "dtype: int64\n"
     ]
    }
   ],
   "execution_count": 12
  },
  {
   "metadata": {
    "ExecuteTime": {
     "end_time": "2024-04-23T23:28:25.751252Z",
     "start_time": "2024-04-23T23:28:25.724502Z"
    }
   },
   "cell_type": "code",
   "source": [
    "data = ['cat', 'dog', 'cat', 'dog', 'cat', 'fish']\n",
    "s = pd.Series(data, dtype='category')\n",
    "print(s)"
   ],
   "id": "393ab119873cfde7",
   "outputs": [
    {
     "name": "stdout",
     "output_type": "stream",
     "text": [
      "0     cat\n",
      "1     dog\n",
      "2     cat\n",
      "3     dog\n",
      "4     cat\n",
      "5    fish\n",
      "dtype: category\n",
      "Categories (3, object): ['cat', 'dog', 'fish']\n"
     ]
    }
   ],
   "execution_count": 13
  },
  {
   "metadata": {
    "ExecuteTime": {
     "end_time": "2024-04-23T23:28:25.870948Z",
     "start_time": "2024-04-23T23:28:25.851431Z"
    }
   },
   "cell_type": "code",
   "source": [
    "data = [{'name': 'John', 'age': 30}, {'name': 'Jane', 'age': 25}]\n",
    "s = pd.Series(data)\n",
    "print(s)"
   ],
   "id": "d28af484706df754",
   "outputs": [
    {
     "name": "stdout",
     "output_type": "stream",
     "text": [
      "0    {'name': 'John', 'age': 30}\n",
      "1    {'name': 'Jane', 'age': 25}\n",
      "dtype: object\n"
     ]
    }
   ],
   "execution_count": 14
  },
  {
   "metadata": {
    "ExecuteTime": {
     "end_time": "2024-04-23T23:28:25.890522Z",
     "start_time": "2024-04-23T23:28:25.879435Z"
    }
   },
   "cell_type": "code",
   "source": [
    "data = [[1, 2, 3], [4, 5, 6], [7, 8, 9]]\n",
    "s = pd.Series(data)\n",
    "print(s)"
   ],
   "id": "29fcc7e03185242b",
   "outputs": [
    {
     "name": "stdout",
     "output_type": "stream",
     "text": [
      "0    [1, 2, 3]\n",
      "1    [4, 5, 6]\n",
      "2    [7, 8, 9]\n",
      "dtype: object\n"
     ]
    }
   ],
   "execution_count": 15
  },
  {
   "metadata": {
    "ExecuteTime": {
     "end_time": "2024-04-23T23:28:25.989127Z",
     "start_time": "2024-04-23T23:28:25.898020Z"
    }
   },
   "cell_type": "code",
   "source": [
    "df = pd.DataFrame({'A': [1, 2, 3], 'B': [4, 5, 6], 'C': [7, 8, 9]})\n",
    "s = df['A']\n",
    "print(s)"
   ],
   "id": "58ccf187b6823d79",
   "outputs": [
    {
     "name": "stdout",
     "output_type": "stream",
     "text": [
      "0    1\n",
      "1    2\n",
      "2    3\n",
      "Name: A, dtype: int64\n"
     ]
    }
   ],
   "execution_count": 16
  }
 ],
 "metadata": {
  "kernelspec": {
   "display_name": "Python 3",
   "language": "python",
   "name": "python3"
  },
  "language_info": {
   "codemirror_mode": {
    "name": "ipython",
    "version": 2
   },
   "file_extension": ".py",
   "mimetype": "text/x-python",
   "name": "python",
   "nbconvert_exporter": "python",
   "pygments_lexer": "ipython2",
   "version": "2.7.6"
  }
 },
 "nbformat": 4,
 "nbformat_minor": 5
}
