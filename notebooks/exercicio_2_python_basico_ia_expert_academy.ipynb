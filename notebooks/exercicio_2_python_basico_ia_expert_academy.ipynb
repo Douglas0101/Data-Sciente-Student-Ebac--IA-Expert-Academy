{
 "cells": [
  {
   "cell_type": "code",
   "id": "initial_id",
   "metadata": {
    "collapsed": true,
    "ExecuteTime": {
     "end_time": "2024-04-08T17:57:19.226470Z",
     "start_time": "2024-04-08T17:57:19.221687Z"
    }
   },
   "source": [
    "def dados_viagem(numero):\n",
    "    print(numero)\n",
    "    numero = float(input())\n",
    "    return numero\n",
    "\n",
    "def calculo_distancia(t, v):\n",
    "    return t * v\n",
    "\n",
    "def calculo_litros(d):\n",
    "    return d / 12\n",
    "\n",
    "def resultado(d, l):\n",
    "    print(f'Distância: {d:.2f} Quilomêtros')\n",
    "    print(f'Litros: {l:.2f}')"
   ],
   "outputs": [],
   "execution_count": 13
  },
  {
   "metadata": {
    "ExecuteTime": {
     "end_time": "2024-04-08T17:57:22.779423Z",
     "start_time": "2024-04-08T17:57:19.226470Z"
    }
   },
   "cell_type": "code",
   "source": [
    "if __name__ == '__main__':\n",
    "    velocidade = dados_viagem('Velocidade')\n",
    "    print(f'Velocidade média: {velocidade:.2f} km/h')\n",
    "    tempo = dados_viagem('Tempo (em horas)')\n",
    "    print(f'Tempo: {tempo:.2f} horas')\n",
    "    distancia = calculo_distancia(tempo, velocidade)\n",
    "    litros = calculo_litros(distancia)\n",
    "    resultado(distancia,litros)"
   ],
   "id": "3907615fa7689e25",
   "outputs": [
    {
     "name": "stdout",
     "output_type": "stream",
     "text": [
      "Velocidade\n",
      "Velocidade média: 110.00 km/h\n",
      "Tempo (em horas)\n",
      "Tempo: 9.00 horas\n",
      "Distância: 990.00 Quilomêtros\n",
      "Litros: 82.50\n"
     ]
    }
   ],
   "execution_count": 14
  }
 ],
 "metadata": {
  "kernelspec": {
   "display_name": "Python 3",
   "language": "python",
   "name": "python3"
  },
  "language_info": {
   "codemirror_mode": {
    "name": "ipython",
    "version": 2
   },
   "file_extension": ".py",
   "mimetype": "text/x-python",
   "name": "python",
   "nbconvert_exporter": "python",
   "pygments_lexer": "ipython2",
   "version": "2.7.6"
  }
 },
 "nbformat": 4,
 "nbformat_minor": 5
}
