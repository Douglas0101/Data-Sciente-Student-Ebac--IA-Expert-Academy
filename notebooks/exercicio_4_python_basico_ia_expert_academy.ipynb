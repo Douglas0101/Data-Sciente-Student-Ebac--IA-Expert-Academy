{
 "cells": [
  {
   "cell_type": "code",
   "id": "initial_id",
   "metadata": {
    "collapsed": true,
    "ExecuteTime": {
     "end_time": "2024-04-09T22:30:09.570266Z",
     "start_time": "2024-04-09T22:30:09.565202Z"
    }
   },
   "source": [
    "# Exercício - 4 - IA Expert Academy\n",
    "\n",
    "def m_leitura(media):\n",
    "    media = float(input())\n",
    "    return media\n",
    "\n",
    "def calcular_media(m1, m2, m3):\n",
    "    return (m1 + m2 + m3) / 3\n",
    "\n",
    "def condicao_media(media):\n",
    "    if media >= 0 and media <= 4:\n",
    "        print('Situação do aluno: Reprovado')\n",
    "    elif media >= 4.1 and media <= 6:\n",
    "        exame = float(input('Nota do exame: '))\n",
    "        if exame >= 6:\n",
    "            print('Situação do aluno: Aprovado no exame')\n",
    "        else:\n",
    "            print('Situação do aluno: Reprovado no exame')\n",
    "    else:\n",
    "        print('Situação do aluno: Aprovado')"
   ],
   "outputs": [],
   "execution_count": 36
  },
  {
   "metadata": {
    "ExecuteTime": {
     "end_time": "2024-04-09T22:30:37.188488Z",
     "start_time": "2024-04-09T22:30:09.574256Z"
    }
   },
   "cell_type": "code",
   "source": [
    "def main():\n",
    "    m1 = m_leitura('Primeira nota')\n",
    "    print(f'Nota 1: {m1}')\n",
    "    m2 = m_leitura('Segunda nota')\n",
    "    print(f'Nota 2: {m2}')\n",
    "    m3 = m_leitura('Terceira nota')\n",
    "    print(f'Nota 3: {m3}')\n",
    "    media = calcular_media(m1, m2, m3)\n",
    "    condicao_media(media)\n",
    "\n",
    "if __name__ == '__main__':\n",
    "    main()"
   ],
   "id": "8e262be6860f17a3",
   "outputs": [
    {
     "name": "stdout",
     "output_type": "stream",
     "text": [
      "Nota 1: 9.0\n",
      "Nota 2: 8.0\n",
      "Nota 3: 1.0\n",
      "Situação do aluno: Reprovado no exame\n"
     ]
    }
   ],
   "execution_count": 37
  }
 ],
 "metadata": {
  "kernelspec": {
   "display_name": "Python 3",
   "language": "python",
   "name": "python3"
  },
  "language_info": {
   "codemirror_mode": {
    "name": "ipython",
    "version": 2
   },
   "file_extension": ".py",
   "mimetype": "text/x-python",
   "name": "python",
   "nbconvert_exporter": "python",
   "pygments_lexer": "ipython2",
   "version": "2.7.6"
  }
 },
 "nbformat": 4,
 "nbformat_minor": 5
}
