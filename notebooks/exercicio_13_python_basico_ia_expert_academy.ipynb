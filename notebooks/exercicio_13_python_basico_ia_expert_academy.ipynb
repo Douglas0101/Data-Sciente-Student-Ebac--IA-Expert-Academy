{
 "cells": [
  {
   "cell_type": "code",
   "id": "initial_id",
   "metadata": {
    "collapsed": true,
    "ExecuteTime": {
     "end_time": "2024-04-16T17:51:42.741676Z",
     "start_time": "2024-04-16T17:51:37.274862Z"
    }
   },
   "source": [
    "# Exercício - 13 - Python Básico - IA Expert Academy\n",
    "\n",
    "lista = [1.0, 2.0, 3.0, 4.0, 5.0, 6.0, 7.0, 8.0, 9.0, 10.0]\n",
    "\n",
    "opcao_1 = float(input('Insira um valor de 1 a 10: '))\n",
    "opcao_2 = float(input('Insira um valor de 1 a 10: '))\n",
    "\n",
    "while True:\n",
    "    try:\n",
    "        # Verifica se os valores estão dentro dos limites da lista\n",
    "        if opcao_1 in lista and opcao_2 in lista:\n",
    "            d = opcao_1 / opcao_2\n",
    "            print(d)\n",
    "            break # Sai do loop após realizar a operação\n",
    "        else:\n",
    "            print('Insira um valor válido')\n",
    "            break # Sai do loop se os valores não estiverem na lista\n",
    "    except ZeroDivisionError:\n",
    "        print('Não é permitido divisão por zero')\n",
    "        break\n",
    "    except KeyboardInterrupt:\n",
    "        print('Programa encerrado pelo usuário.')\n",
    "        break"
   ],
   "outputs": [
    {
     "name": "stdout",
     "output_type": "stream",
     "text": [
      "Insira um valor válido\n"
     ]
    }
   ],
   "execution_count": 19
  }
 ],
 "metadata": {
  "kernelspec": {
   "display_name": "Python 3",
   "language": "python",
   "name": "python3"
  },
  "language_info": {
   "codemirror_mode": {
    "name": "ipython",
    "version": 2
   },
   "file_extension": ".py",
   "mimetype": "text/x-python",
   "name": "python",
   "nbconvert_exporter": "python",
   "pygments_lexer": "ipython2",
   "version": "2.7.6"
  }
 },
 "nbformat": 4,
 "nbformat_minor": 5
}
