{
 "cells": [
  {
   "cell_type": "code",
   "id": "initial_id",
   "metadata": {
    "collapsed": true,
    "ExecuteTime": {
     "end_time": "2024-04-28T23:55:47.801498Z",
     "start_time": "2024-04-28T23:55:47.798517Z"
    }
   },
   "source": "import numpy as np",
   "outputs": [],
   "execution_count": 77
  },
  {
   "metadata": {
    "ExecuteTime": {
     "end_time": "2024-04-28T23:55:52.928926Z",
     "start_time": "2024-04-28T23:55:47.821614Z"
    }
   },
   "cell_type": "code",
   "source": [
    "# https://faker.readthedocs.io/en/master/\n",
    "!pip install faker"
   ],
   "id": "782bf2c79f389c7b",
   "outputs": [
    {
     "name": "stdout",
     "output_type": "stream",
     "text": [
      "Requirement already satisfied: faker in c:\\programdata\\anaconda3\\lib\\site-packages (16.6.1)\n",
      "Requirement already satisfied: python-dateutil>=2.4 in c:\\programdata\\anaconda3\\lib\\site-packages (from faker) (2.8.2)\n",
      "Requirement already satisfied: six>=1.5 in c:\\programdata\\anaconda3\\lib\\site-packages (from python-dateutil>=2.4->faker) (1.16.0)\n"
     ]
    }
   ],
   "execution_count": 78
  },
  {
   "metadata": {
    "ExecuteTime": {
     "end_time": "2024-04-28T23:55:52.933918Z",
     "start_time": "2024-04-28T23:55:52.929930Z"
    }
   },
   "cell_type": "code",
   "source": [
    "from faker import Faker\n",
    "import pandas as pd"
   ],
   "id": "832652ca2900a441",
   "outputs": [],
   "execution_count": 79
  },
  {
   "metadata": {
    "ExecuteTime": {
     "end_time": "2024-04-28T23:55:53.007516Z",
     "start_time": "2024-04-28T23:55:52.935424Z"
    }
   },
   "cell_type": "code",
   "source": "fake = Faker()",
   "id": "6f88ae62caea1a62",
   "outputs": [],
   "execution_count": 80
  },
  {
   "metadata": {
    "ExecuteTime": {
     "end_time": "2024-04-28T23:55:53.015114Z",
     "start_time": "2024-04-28T23:55:53.008517Z"
    }
   },
   "cell_type": "code",
   "source": "fake.name()",
   "id": "ff5631885530f13c",
   "outputs": [
    {
     "data": {
      "text/plain": [
       "'Ashley Perez'"
      ]
     },
     "execution_count": 81,
     "metadata": {},
     "output_type": "execute_result"
    }
   ],
   "execution_count": 81
  },
  {
   "metadata": {
    "ExecuteTime": {
     "end_time": "2024-04-28T23:55:53.021537Z",
     "start_time": "2024-04-28T23:55:53.016120Z"
    }
   },
   "cell_type": "code",
   "source": "fake.address()",
   "id": "73044f772519960c",
   "outputs": [
    {
     "data": {
      "text/plain": [
       "'Unit 4939 Box 1640\\nDPO AE 44955'"
      ]
     },
     "execution_count": 82,
     "metadata": {},
     "output_type": "execute_result"
    }
   ],
   "execution_count": 82
  },
  {
   "metadata": {
    "ExecuteTime": {
     "end_time": "2024-04-28T23:55:53.030788Z",
     "start_time": "2024-04-28T23:55:53.023547Z"
    }
   },
   "cell_type": "code",
   "source": "fake.date_between(start_date=\"-30y\", end_date=\"today\")",
   "id": "c3bb10f4f3032ab8",
   "outputs": [
    {
     "data": {
      "text/plain": [
       "datetime.date(2021, 9, 27)"
      ]
     },
     "execution_count": 83,
     "metadata": {},
     "output_type": "execute_result"
    }
   ],
   "execution_count": 83
  },
  {
   "metadata": {
    "ExecuteTime": {
     "end_time": "2024-04-28T23:55:54.104457Z",
     "start_time": "2024-04-28T23:55:53.031802Z"
    }
   },
   "cell_type": "code",
   "source": [
    "indices_data = []\n",
    "for i in range(32561):\n",
    "    indices_data.append(fake.date_between(start_date=\"-30y\", end_date=\"today\"))\n",
    "    \n",
    "type(indices_data), len(indices_data)"
   ],
   "id": "7ffd9c01d7fd4537",
   "outputs": [
    {
     "data": {
      "text/plain": [
       "(list, 32561)"
      ]
     },
     "execution_count": 84,
     "metadata": {},
     "output_type": "execute_result"
    }
   ],
   "execution_count": 84
  },
  {
   "metadata": {
    "ExecuteTime": {
     "end_time": "2024-04-28T23:55:54.160945Z",
     "start_time": "2024-04-28T23:55:54.105464Z"
    }
   },
   "cell_type": "code",
   "source": [
    "indices = pd.Series(indices_data)\n",
    "type(indices), len(indices)"
   ],
   "id": "13df349416d80106",
   "outputs": [
    {
     "data": {
      "text/plain": [
       "(pandas.core.series.Series, 32561)"
      ]
     },
     "execution_count": 85,
     "metadata": {},
     "output_type": "execute_result"
    }
   ],
   "execution_count": 85
  },
  {
   "metadata": {
    "ExecuteTime": {
     "end_time": "2024-04-28T23:55:57.128033Z",
     "start_time": "2024-04-28T23:55:54.161955Z"
    }
   },
   "cell_type": "code",
   "source": [
    "indices_nomes = []\n",
    "for i in range(32561):\n",
    "    indices_nomes.append(fake.name())\n",
    "    \n",
    "type(indices_nomes), len(indices_nomes)"
   ],
   "id": "9553a2572239c2f2",
   "outputs": [
    {
     "data": {
      "text/plain": [
       "(list, 32561)"
      ]
     },
     "execution_count": 86,
     "metadata": {},
     "output_type": "execute_result"
    }
   ],
   "execution_count": 86
  },
  {
   "metadata": {
    "ExecuteTime": {
     "end_time": "2024-04-28T23:55:57.139415Z",
     "start_time": "2024-04-28T23:55:57.130823Z"
    }
   },
   "cell_type": "code",
   "source": [
    "indices_nomes = pd.Series(indices_nomes)\n",
    "type(indices_nomes), len(indices_nomes)"
   ],
   "id": "a91baaee30eea346",
   "outputs": [
    {
     "data": {
      "text/plain": [
       "(pandas.core.series.Series, 32561)"
      ]
     },
     "execution_count": 87,
     "metadata": {},
     "output_type": "execute_result"
    }
   ],
   "execution_count": 87
  },
  {
   "metadata": {
    "ExecuteTime": {
     "end_time": "2024-04-28T23:55:57.261734Z",
     "start_time": "2024-04-28T23:55:57.141051Z"
    }
   },
   "cell_type": "code",
   "source": [
    "indices_paises = []\n",
    "for i in range(32561):\n",
    "    indices_paises.append(fake.country())\n",
    "    \n",
    "type(indices_paises), len(indices_paises)"
   ],
   "id": "ae47b5157e2f600c",
   "outputs": [
    {
     "data": {
      "text/plain": [
       "(list, 32561)"
      ]
     },
     "execution_count": 88,
     "metadata": {},
     "output_type": "execute_result"
    }
   ],
   "execution_count": 88
  },
  {
   "metadata": {
    "ExecuteTime": {
     "end_time": "2024-04-28T23:55:57.269329Z",
     "start_time": "2024-04-28T23:55:57.261734Z"
    }
   },
   "cell_type": "code",
   "source": [
    "indices_paises = pd.Series(indices_paises)\n",
    "type(indices_paises), len(indices_paises)"
   ],
   "id": "cac574a5c44a2e04",
   "outputs": [
    {
     "data": {
      "text/plain": [
       "(pandas.core.series.Series, 32561)"
      ]
     },
     "execution_count": 89,
     "metadata": {},
     "output_type": "execute_result"
    }
   ],
   "execution_count": 89
  },
  {
   "metadata": {
    "ExecuteTime": {
     "end_time": "2024-04-28T23:55:57.360634Z",
     "start_time": "2024-04-28T23:55:57.270372Z"
    }
   },
   "cell_type": "code",
   "source": [
    "indices_idades = []\n",
    "for i in range(32561):\n",
    "    indices_idades.append(fake.random_int(min=0, max=100))\n",
    "\n",
    "type(indices_idades), len(indices_idades)"
   ],
   "id": "a70f5bbe63c2c21e",
   "outputs": [
    {
     "data": {
      "text/plain": [
       "(list, 32561)"
      ]
     },
     "execution_count": 90,
     "metadata": {},
     "output_type": "execute_result"
    }
   ],
   "execution_count": 90
  },
  {
   "metadata": {
    "ExecuteTime": {
     "end_time": "2024-04-28T23:55:57.376870Z",
     "start_time": "2024-04-28T23:55:57.363746Z"
    }
   },
   "cell_type": "code",
   "source": [
    "indices_idades = pd.Series(indices_idades)\n",
    "type(indices_idades), len(indices_idades)"
   ],
   "id": "44d5d7c910d6d66",
   "outputs": [
    {
     "data": {
      "text/plain": [
       "(pandas.core.series.Series, 32561)"
      ]
     },
     "execution_count": 91,
     "metadata": {},
     "output_type": "execute_result"
    }
   ],
   "execution_count": 91
  },
  {
   "metadata": {
    "ExecuteTime": {
     "end_time": "2024-04-28T23:55:57.570431Z",
     "start_time": "2024-04-28T23:55:57.376870Z"
    }
   },
   "cell_type": "code",
   "source": [
    "indices_renda_anual = []\n",
    "for i in range(32561):\n",
    "    indices_renda_anual.append(fake.pyfloat(left_digits=2, right_digits=6, positive=True))\n",
    "\n",
    "type(indices_renda_anual), len(indices_renda_anual)"
   ],
   "id": "78f94023bbef60d6",
   "outputs": [
    {
     "data": {
      "text/plain": [
       "(list, 32561)"
      ]
     },
     "execution_count": 92,
     "metadata": {},
     "output_type": "execute_result"
    }
   ],
   "execution_count": 92
  },
  {
   "metadata": {
    "ExecuteTime": {
     "end_time": "2024-04-28T23:55:57.583450Z",
     "start_time": "2024-04-28T23:55:57.573429Z"
    }
   },
   "cell_type": "code",
   "source": [
    "indices_renda_anual = pd.Series(indices_renda_anual)\n",
    "type(indices_renda_anual), len(indices_renda_anual)"
   ],
   "id": "57e6633d823e7af3",
   "outputs": [
    {
     "data": {
      "text/plain": [
       "(pandas.core.series.Series, 32561)"
      ]
     },
     "execution_count": 93,
     "metadata": {},
     "output_type": "execute_result"
    }
   ],
   "execution_count": 93
  },
  {
   "metadata": {
    "ExecuteTime": {
     "end_time": "2024-04-28T23:57:31.216417Z",
     "start_time": "2024-04-28T23:57:31.195535Z"
    }
   },
   "cell_type": "code",
   "source": [
    "df = pd.DataFrame({\"indices\": indices, \"nomes\": indices_nomes, \"paises\": indices_paises, \"idades\": indices_idades, \"renda_anual\": indices_renda_anual})\n",
    "df"
   ],
   "id": "1386bf7d990fa8d3",
   "outputs": [
    {
     "data": {
      "text/plain": [
       "          indices            nomes            paises  idades  renda_anual\n",
       "0      2021-10-24     Anna Jackson           Bahrain      33    70.276431\n",
       "1      1994-05-23     Timothy Rios      Sierra Leone       3    25.647907\n",
       "2      2006-07-09   Zachary Murray             China      33    69.847341\n",
       "3      2019-09-06    Kevin Lindsey            Latvia      30    96.737137\n",
       "4      2006-05-23   Shannon Walker           Vanuatu      75    86.750821\n",
       "...           ...              ...               ...     ...          ...\n",
       "32556  2022-06-25   Valerie Powell          Suriname      69    92.683048\n",
       "32557  1998-02-02       Todd Mayer           Reunion      59    36.705431\n",
       "32558  2022-06-28  Dennis Thompson       Isle of Man      42     8.967315\n",
       "32559  1995-09-13      Paul Holden              Fiji      54    95.797769\n",
       "32560  2011-07-19  William Johnson  Marshall Islands      20    72.436859\n",
       "\n",
       "[32561 rows x 5 columns]"
      ],
      "text/html": [
       "<div>\n",
       "<style scoped>\n",
       "    .dataframe tbody tr th:only-of-type {\n",
       "        vertical-align: middle;\n",
       "    }\n",
       "\n",
       "    .dataframe tbody tr th {\n",
       "        vertical-align: top;\n",
       "    }\n",
       "\n",
       "    .dataframe thead th {\n",
       "        text-align: right;\n",
       "    }\n",
       "</style>\n",
       "<table border=\"1\" class=\"dataframe\">\n",
       "  <thead>\n",
       "    <tr style=\"text-align: right;\">\n",
       "      <th></th>\n",
       "      <th>indices</th>\n",
       "      <th>nomes</th>\n",
       "      <th>paises</th>\n",
       "      <th>idades</th>\n",
       "      <th>renda_anual</th>\n",
       "    </tr>\n",
       "  </thead>\n",
       "  <tbody>\n",
       "    <tr>\n",
       "      <th>0</th>\n",
       "      <td>2021-10-24</td>\n",
       "      <td>Anna Jackson</td>\n",
       "      <td>Bahrain</td>\n",
       "      <td>33</td>\n",
       "      <td>70.276431</td>\n",
       "    </tr>\n",
       "    <tr>\n",
       "      <th>1</th>\n",
       "      <td>1994-05-23</td>\n",
       "      <td>Timothy Rios</td>\n",
       "      <td>Sierra Leone</td>\n",
       "      <td>3</td>\n",
       "      <td>25.647907</td>\n",
       "    </tr>\n",
       "    <tr>\n",
       "      <th>2</th>\n",
       "      <td>2006-07-09</td>\n",
       "      <td>Zachary Murray</td>\n",
       "      <td>China</td>\n",
       "      <td>33</td>\n",
       "      <td>69.847341</td>\n",
       "    </tr>\n",
       "    <tr>\n",
       "      <th>3</th>\n",
       "      <td>2019-09-06</td>\n",
       "      <td>Kevin Lindsey</td>\n",
       "      <td>Latvia</td>\n",
       "      <td>30</td>\n",
       "      <td>96.737137</td>\n",
       "    </tr>\n",
       "    <tr>\n",
       "      <th>4</th>\n",
       "      <td>2006-05-23</td>\n",
       "      <td>Shannon Walker</td>\n",
       "      <td>Vanuatu</td>\n",
       "      <td>75</td>\n",
       "      <td>86.750821</td>\n",
       "    </tr>\n",
       "    <tr>\n",
       "      <th>...</th>\n",
       "      <td>...</td>\n",
       "      <td>...</td>\n",
       "      <td>...</td>\n",
       "      <td>...</td>\n",
       "      <td>...</td>\n",
       "    </tr>\n",
       "    <tr>\n",
       "      <th>32556</th>\n",
       "      <td>2022-06-25</td>\n",
       "      <td>Valerie Powell</td>\n",
       "      <td>Suriname</td>\n",
       "      <td>69</td>\n",
       "      <td>92.683048</td>\n",
       "    </tr>\n",
       "    <tr>\n",
       "      <th>32557</th>\n",
       "      <td>1998-02-02</td>\n",
       "      <td>Todd Mayer</td>\n",
       "      <td>Reunion</td>\n",
       "      <td>59</td>\n",
       "      <td>36.705431</td>\n",
       "    </tr>\n",
       "    <tr>\n",
       "      <th>32558</th>\n",
       "      <td>2022-06-28</td>\n",
       "      <td>Dennis Thompson</td>\n",
       "      <td>Isle of Man</td>\n",
       "      <td>42</td>\n",
       "      <td>8.967315</td>\n",
       "    </tr>\n",
       "    <tr>\n",
       "      <th>32559</th>\n",
       "      <td>1995-09-13</td>\n",
       "      <td>Paul Holden</td>\n",
       "      <td>Fiji</td>\n",
       "      <td>54</td>\n",
       "      <td>95.797769</td>\n",
       "    </tr>\n",
       "    <tr>\n",
       "      <th>32560</th>\n",
       "      <td>2011-07-19</td>\n",
       "      <td>William Johnson</td>\n",
       "      <td>Marshall Islands</td>\n",
       "      <td>20</td>\n",
       "      <td>72.436859</td>\n",
       "    </tr>\n",
       "  </tbody>\n",
       "</table>\n",
       "<p>32561 rows × 5 columns</p>\n",
       "</div>"
      ]
     },
     "execution_count": 100,
     "metadata": {},
     "output_type": "execute_result"
    }
   ],
   "execution_count": 100
  },
  {
   "metadata": {
    "ExecuteTime": {
     "end_time": "2024-04-28T23:57:34.775785Z",
     "start_time": "2024-04-28T23:57:34.770009Z"
    }
   },
   "cell_type": "code",
   "source": [
    "soma = df.renda_anual.sum()\n",
    "print(f'Renda anual total: $ {soma}')"
   ],
   "id": "37cc83b412f2e552",
   "outputs": [
    {
     "name": "stdout",
     "output_type": "stream",
     "text": [
      "Renda anual total: $ 1627371.3090289999\n"
     ]
    }
   ],
   "execution_count": 102
  },
  {
   "metadata": {
    "ExecuteTime": {
     "end_time": "2024-04-28T23:57:36.347407Z",
     "start_time": "2024-04-28T23:57:36.342054Z"
    }
   },
   "cell_type": "code",
   "source": [
    "sub = df.renda_anual.max() - df.renda_anual.min()\n",
    "print(f'Renda anual max - min: $ {sub}')"
   ],
   "id": "f89155cd25e0b40c",
   "outputs": [
    {
     "name": "stdout",
     "output_type": "stream",
     "text": [
      "Renda anual max - min: $ 99.896772\n"
     ]
    }
   ],
   "execution_count": 103
  },
  {
   "metadata": {
    "ExecuteTime": {
     "end_time": "2024-04-28T23:57:38.369460Z",
     "start_time": "2024-04-28T23:57:38.355667Z"
    }
   },
   "cell_type": "code",
   "source": "df.describe()",
   "id": "d63d66cede9fd773",
   "outputs": [
    {
     "data": {
      "text/plain": [
       "             idades   renda_anual\n",
       "count  32561.000000  32561.000000\n",
       "mean      50.124382     49.979156\n",
       "std       29.073052     28.831750\n",
       "min        0.000000      0.101235\n",
       "25%       25.000000     24.751006\n",
       "50%       50.000000     50.303834\n",
       "75%       75.000000     74.747426\n",
       "max      100.000000     99.998007"
      ],
      "text/html": [
       "<div>\n",
       "<style scoped>\n",
       "    .dataframe tbody tr th:only-of-type {\n",
       "        vertical-align: middle;\n",
       "    }\n",
       "\n",
       "    .dataframe tbody tr th {\n",
       "        vertical-align: top;\n",
       "    }\n",
       "\n",
       "    .dataframe thead th {\n",
       "        text-align: right;\n",
       "    }\n",
       "</style>\n",
       "<table border=\"1\" class=\"dataframe\">\n",
       "  <thead>\n",
       "    <tr style=\"text-align: right;\">\n",
       "      <th></th>\n",
       "      <th>idades</th>\n",
       "      <th>renda_anual</th>\n",
       "    </tr>\n",
       "  </thead>\n",
       "  <tbody>\n",
       "    <tr>\n",
       "      <th>count</th>\n",
       "      <td>32561.000000</td>\n",
       "      <td>32561.000000</td>\n",
       "    </tr>\n",
       "    <tr>\n",
       "      <th>mean</th>\n",
       "      <td>50.124382</td>\n",
       "      <td>49.979156</td>\n",
       "    </tr>\n",
       "    <tr>\n",
       "      <th>std</th>\n",
       "      <td>29.073052</td>\n",
       "      <td>28.831750</td>\n",
       "    </tr>\n",
       "    <tr>\n",
       "      <th>min</th>\n",
       "      <td>0.000000</td>\n",
       "      <td>0.101235</td>\n",
       "    </tr>\n",
       "    <tr>\n",
       "      <th>25%</th>\n",
       "      <td>25.000000</td>\n",
       "      <td>24.751006</td>\n",
       "    </tr>\n",
       "    <tr>\n",
       "      <th>50%</th>\n",
       "      <td>50.000000</td>\n",
       "      <td>50.303834</td>\n",
       "    </tr>\n",
       "    <tr>\n",
       "      <th>75%</th>\n",
       "      <td>75.000000</td>\n",
       "      <td>74.747426</td>\n",
       "    </tr>\n",
       "    <tr>\n",
       "      <th>max</th>\n",
       "      <td>100.000000</td>\n",
       "      <td>99.998007</td>\n",
       "    </tr>\n",
       "  </tbody>\n",
       "</table>\n",
       "</div>"
      ]
     },
     "execution_count": 104,
     "metadata": {},
     "output_type": "execute_result"
    }
   ],
   "execution_count": 104
  },
  {
   "metadata": {
    "ExecuteTime": {
     "end_time": "2024-04-28T23:55:57.650297Z",
     "start_time": "2024-04-28T23:55:57.638035Z"
    }
   },
   "cell_type": "code",
   "source": "df.info()",
   "id": "61ca7011d33ecac9",
   "outputs": [
    {
     "name": "stdout",
     "output_type": "stream",
     "text": [
      "<class 'pandas.core.frame.DataFrame'>\n",
      "RangeIndex: 32561 entries, 0 to 32560\n",
      "Data columns (total 5 columns):\n",
      " #   Column       Non-Null Count  Dtype  \n",
      "---  ------       --------------  -----  \n",
      " 0   Índices      32561 non-null  object \n",
      " 1   Nomes        32561 non-null  object \n",
      " 2   Países       32561 non-null  object \n",
      " 3   Idades       32561 non-null  int64  \n",
      " 4   renda_anual  32561 non-null  float64\n",
      "dtypes: float64(1), int64(1), object(3)\n",
      "memory usage: 1.2+ MB\n"
     ]
    }
   ],
   "execution_count": 98
  },
  {
   "metadata": {
    "ExecuteTime": {
     "end_time": "2024-04-28T23:58:03.711169Z",
     "start_time": "2024-04-28T23:58:03.694971Z"
    }
   },
   "cell_type": "code",
   "source": [
    "array = np.array(df)\n",
    "type(array), array"
   ],
   "id": "80c7caaa61c5203b",
   "outputs": [
    {
     "data": {
      "text/plain": [
       "(numpy.ndarray,\n",
       " array([[datetime.date(2021, 10, 24), 'Anna Jackson', 'Bahrain', 33,\n",
       "         70.276431],\n",
       "        [datetime.date(1994, 5, 23), 'Timothy Rios', 'Sierra Leone', 3,\n",
       "         25.647907],\n",
       "        [datetime.date(2006, 7, 9), 'Zachary Murray', 'China', 33,\n",
       "         69.847341],\n",
       "        ...,\n",
       "        [datetime.date(2022, 6, 28), 'Dennis Thompson', 'Isle of Man', 42,\n",
       "         8.967315],\n",
       "        [datetime.date(1995, 9, 13), 'Paul Holden', 'Fiji', 54, 95.797769],\n",
       "        [datetime.date(2011, 7, 19), 'William Johnson',\n",
       "         'Marshall Islands', 20, 72.436859]], dtype=object))"
      ]
     },
     "execution_count": 105,
     "metadata": {},
     "output_type": "execute_result"
    }
   ],
   "execution_count": 105
  },
  {
   "metadata": {
    "ExecuteTime": {
     "end_time": "2024-04-28T23:58:37.584339Z",
     "start_time": "2024-04-28T23:58:37.575470Z"
    }
   },
   "cell_type": "code",
   "source": [
    "negacao = df.renda_anual < 0\n",
    "negacao"
   ],
   "id": "5e96844f2e5782d6",
   "outputs": [
    {
     "data": {
      "text/plain": [
       "0        False\n",
       "1        False\n",
       "2        False\n",
       "3        False\n",
       "4        False\n",
       "         ...  \n",
       "32556    False\n",
       "32557    False\n",
       "32558    False\n",
       "32559    False\n",
       "32560    False\n",
       "Name: renda_anual, Length: 32561, dtype: bool"
      ]
     },
     "execution_count": 106,
     "metadata": {},
     "output_type": "execute_result"
    }
   ],
   "execution_count": 106
  },
  {
   "metadata": {
    "ExecuteTime": {
     "end_time": "2024-04-28T23:59:34.162860Z",
     "start_time": "2024-04-28T23:59:34.157280Z"
    }
   },
   "cell_type": "code",
   "source": [
    "media = df.renda_anual.mean()\n",
    "media"
   ],
   "id": "9f4947808f05b035",
   "outputs": [
    {
     "data": {
      "text/plain": [
       "49.979156322870914"
      ]
     },
     "execution_count": 107,
     "metadata": {},
     "output_type": "execute_result"
    }
   ],
   "execution_count": 107
  }
 ],
 "metadata": {
  "kernelspec": {
   "display_name": "Python 3",
   "language": "python",
   "name": "python3"
  },
  "language_info": {
   "codemirror_mode": {
    "name": "ipython",
    "version": 2
   },
   "file_extension": ".py",
   "mimetype": "text/x-python",
   "name": "python",
   "nbconvert_exporter": "python",
   "pygments_lexer": "ipython2",
   "version": "2.7.6"
  }
 },
 "nbformat": 4,
 "nbformat_minor": 5
}
