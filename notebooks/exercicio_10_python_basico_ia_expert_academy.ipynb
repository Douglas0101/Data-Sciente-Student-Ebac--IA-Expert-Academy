{
 "cells": [
  {
   "cell_type": "code",
   "id": "initial_id",
   "metadata": {
    "collapsed": true,
    "ExecuteTime": {
     "end_time": "2024-04-12T21:38:52.893226Z",
     "start_time": "2024-04-12T21:38:52.887890Z"
    }
   },
   "source": [
    "def dados_iniciais(valor):\n",
    "    print(valor)\n",
    "    valor = float(input())\n",
    "    return valor\n",
    "\n",
    "def calculo_conversao(c):\n",
    "    return (9 * c + 160) / 5\n",
    "\n",
    "def resultado_conversao(f):\n",
    "    print(f'Fahrenheit: {f:.2f}°')\n",
    "    return f"
   ],
   "outputs": [],
   "execution_count": 21
  },
  {
   "metadata": {
    "ExecuteTime": {
     "end_time": "2024-04-12T21:38:54.081948Z",
     "start_time": "2024-04-12T21:38:52.895731Z"
    }
   },
   "cell_type": "code",
   "source": [
    "valor = dados_iniciais('Temperatura em Celsius')\n",
    "print(f'Celsius: {valor:.2f}°')\n",
    "f = calculo_conversao(valor)\n",
    "f = resultado_conversao(f)"
   ],
   "id": "6b03baf1eafb1589",
   "outputs": [
    {
     "name": "stdout",
     "output_type": "stream",
     "text": [
      "Temperatura em Celsius\n",
      "Celsius: 45.00°\n",
      "Fahrenheit: 113.00°\n"
     ]
    }
   ],
   "execution_count": 22
  }
 ],
 "metadata": {
  "kernelspec": {
   "display_name": "Python 3",
   "language": "python",
   "name": "python3"
  },
  "language_info": {
   "codemirror_mode": {
    "name": "ipython",
    "version": 2
   },
   "file_extension": ".py",
   "mimetype": "text/x-python",
   "name": "python",
   "nbconvert_exporter": "python",
   "pygments_lexer": "ipython2",
   "version": "2.7.6"
  }
 },
 "nbformat": 4,
 "nbformat_minor": 5
}
