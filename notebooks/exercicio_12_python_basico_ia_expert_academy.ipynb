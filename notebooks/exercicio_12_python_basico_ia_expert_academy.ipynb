{
 "cells": [
  {
   "cell_type": "code",
   "id": "initial_id",
   "metadata": {
    "collapsed": true,
    "ExecuteTime": {
     "end_time": "2024-04-16T23:12:35.405829Z",
     "start_time": "2024-04-16T23:12:31.554544Z"
    }
   },
   "source": [
    "import dados as d\n",
    "\n",
    "def ler_dados(texto):\n",
    "    return d.ler_dados(texto)\n",
    "    \n",
    "leitura = ler_dados('Qual e o seu nome?')\n",
    "print(leitura)\n",
    "\n",
    "def dados_float(texto):\n",
    "    return d.dados_float(texto)\n",
    "\n",
    "num = dados_float('Digite um número: ')\n",
    "print(f'O valor digitado foi {num:.2f}')"
   ],
   "outputs": [
    {
     "name": "stdout",
     "output_type": "stream",
     "text": [
      "Qual e o seu nome?\n",
      "\n",
      "Digite um número: \n"
     ]
    },
    {
     "ename": "ValueError",
     "evalue": "could not convert string to float: ''",
     "output_type": "error",
     "traceback": [
      "\u001B[1;31m---------------------------------------------------------------------------\u001B[0m",
      "\u001B[1;31mValueError\u001B[0m                                Traceback (most recent call last)",
      "Cell \u001B[1;32mIn[1], line 12\u001B[0m\n\u001B[0;32m      9\u001B[0m \u001B[38;5;28;01mdef\u001B[39;00m \u001B[38;5;21mdados_float\u001B[39m(texto):\n\u001B[0;32m     10\u001B[0m     \u001B[38;5;28;01mreturn\u001B[39;00m d\u001B[38;5;241m.\u001B[39mdados_float(texto)\n\u001B[1;32m---> 12\u001B[0m num \u001B[38;5;241m=\u001B[39m dados_float(\u001B[38;5;124m'\u001B[39m\u001B[38;5;124mDigite um número: \u001B[39m\u001B[38;5;124m'\u001B[39m)\n\u001B[0;32m     13\u001B[0m \u001B[38;5;28mprint\u001B[39m(\u001B[38;5;124mf\u001B[39m\u001B[38;5;124m'\u001B[39m\u001B[38;5;124mO valor digitado foi \u001B[39m\u001B[38;5;132;01m{\u001B[39;00mnum\u001B[38;5;132;01m:\u001B[39;00m\u001B[38;5;124m.2f\u001B[39m\u001B[38;5;132;01m}\u001B[39;00m\u001B[38;5;124m'\u001B[39m)\n",
      "Cell \u001B[1;32mIn[1], line 10\u001B[0m, in \u001B[0;36mdados_float\u001B[1;34m(texto)\u001B[0m\n\u001B[0;32m      9\u001B[0m \u001B[38;5;28;01mdef\u001B[39;00m \u001B[38;5;21mdados_float\u001B[39m(texto):\n\u001B[1;32m---> 10\u001B[0m     \u001B[38;5;28;01mreturn\u001B[39;00m d\u001B[38;5;241m.\u001B[39mdados_float(texto)\n",
      "File \u001B[1;32m~\\Documents\\Data-Sciente-Student-Ebac--IA-Expert-Academy\\dados.py:12\u001B[0m, in \u001B[0;36mdados_float\u001B[1;34m(num_float)\u001B[0m\n\u001B[0;32m     10\u001B[0m \u001B[38;5;28mprint\u001B[39m(num_float)\n\u001B[0;32m     11\u001B[0m num_float \u001B[38;5;241m=\u001B[39m \u001B[38;5;28minput\u001B[39m(\u001B[38;5;28mfloat\u001B[39m())\n\u001B[1;32m---> 12\u001B[0m \u001B[38;5;28;01mreturn\u001B[39;00m \u001B[38;5;28mfloat\u001B[39m(num_float)\n",
      "\u001B[1;31mValueError\u001B[0m: could not convert string to float: ''"
     ]
    }
   ],
   "execution_count": 1
  }
 ],
 "metadata": {
  "kernelspec": {
   "display_name": "Python 3",
   "language": "python",
   "name": "python3"
  },
  "language_info": {
   "codemirror_mode": {
    "name": "ipython",
    "version": 2
   },
   "file_extension": ".py",
   "mimetype": "text/x-python",
   "name": "python",
   "nbconvert_exporter": "python",
   "pygments_lexer": "ipython2",
   "version": "2.7.6"
  }
 },
 "nbformat": 4,
 "nbformat_minor": 5
}
