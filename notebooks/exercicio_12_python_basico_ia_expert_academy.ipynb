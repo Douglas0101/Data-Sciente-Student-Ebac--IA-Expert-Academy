{
 "cells": [
  {
   "cell_type": "code",
   "id": "initial_id",
   "metadata": {
    "collapsed": true,
    "ExecuteTime": {
     "end_time": "2024-04-16T00:27:18.874953Z",
     "start_time": "2024-04-16T00:27:12.878973Z"
    }
   },
   "source": [
    "import dados as d\n",
    "\n",
    "def ler_dados(texto):\n",
    "    return d.ler_dados(texto)\n",
    "    \n",
    "leitura = ler_dados('Qual e o seu nome?')\n",
    "print(leitura)\n",
    "\n",
    "def dados_float(texto):\n",
    "    return d.dados_float(texto)\n",
    "\n",
    "num = dados_float('Digite um número: ')\n",
    "print(f'O valor digitado foi {num:.2f}')"
   ],
   "outputs": [
    {
     "name": "stdout",
     "output_type": "stream",
     "text": [
      "Qual e o seu nome?\n",
      "Douglas\n",
      "Digite um número: \n",
      "O valor digitado foi 9.54\n"
     ]
    }
   ],
   "execution_count": 17
  }
 ],
 "metadata": {
  "kernelspec": {
   "display_name": "Python 3",
   "language": "python",
   "name": "python3"
  },
  "language_info": {
   "codemirror_mode": {
    "name": "ipython",
    "version": 2
   },
   "file_extension": ".py",
   "mimetype": "text/x-python",
   "name": "python",
   "nbconvert_exporter": "python",
   "pygments_lexer": "ipython2",
   "version": "2.7.6"
  }
 },
 "nbformat": 4,
 "nbformat_minor": 5
}
